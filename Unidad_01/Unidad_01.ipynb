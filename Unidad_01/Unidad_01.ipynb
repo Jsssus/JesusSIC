{
 "cells": [
  {
   "cell_type": "code",
   "execution_count": 34,
   "id": "3dbb5fea-641c-4cc6-812a-552ecbc98334",
   "metadata": {},
   "outputs": [
    {
     "name": "stdout",
     "output_type": "stream",
     "text": [
      "       *       \n",
      "      ***      \n",
      "     *****     \n",
      "   *********   \n",
      "     *****     \n",
      "      ***      \n",
      "       *       \n"
     ]
    }
   ],
   "source": [
    "print(' '*6,'*'*1,' '*6)\n",
    "print(' '*5,'*'*3,' '*5)\n",
    "print(' '*4,'*'*5,' '*4)\n",
    "print(' '*2,'*'*9,' '*2)\n",
    "print(' '*4,'*'*5,' '*4)\n",
    "print(' '*5,'*'*3,' '*5)\n",
    "print(' '*6,'*'*1,' '*6)"
   ]
  },
  {
   "cell_type": "code",
   "execution_count": 101,
   "id": "a3b3025c-c478-4402-9f35-83a363b5ae22",
   "metadata": {
    "scrolled": true
   },
   "outputs": [
    {
     "name": "stdout",
     "output_type": "stream",
     "text": [
      "     *\n",
      "    ***\n",
      "   *****\n",
      "  *******\n",
      " *********\n",
      "***********\n",
      " *********\n",
      "  *******\n",
      "   *****\n",
      "    ***\n",
      "     *\n"
     ]
    }
   ],
   "source": [
    "def print_diamond(n):\n",
    "    for i in range(n):\n",
    "        print(\" \" * (n - i - 1) + \"*\" * (2 * i + 1))\n",
    "    for i in range(n - 2,-1,-1):\n",
    "        print(\" \" * (n - i - 1) + \"*\" * (2 * i + 1))\n",
    "\n",
    "print_diamond(6)\n"
   ]
  },
  {
   "cell_type": "code",
   "execution_count": 106,
   "id": "f5e40b53-d719-4126-af65-e0ac9a6631f2",
   "metadata": {},
   "outputs": [
    {
     "name": "stdout",
     "output_type": "stream",
     "text": [
      "   *\n",
      "  ***\n",
      " *****\n",
      "*******\n",
      " *****\n",
      "  ***\n",
      "   *\n"
     ]
    }
   ],
   "source": [
    "def diamante(n):\n",
    "    for i in range(n):\n",
    "        print(' '*(n-i-1) + '*'*(2*i+1))\n",
    "    for p in range(n-2,-1,-1):\n",
    "        print(' '*(n-p-1) + '*'*(2*p+1))\n",
    "\n",
    "diamante(4)\n",
    "\n"
   ]
  },
  {
   "cell_type": "code",
   "execution_count": 115,
   "id": "f485a036-4b5b-457f-b377-ff2484fdd896",
   "metadata": {},
   "outputs": [
    {
     "name": "stdout",
     "output_type": "stream",
     "text": [
      "impar\n"
     ]
    }
   ],
   "source": []
  },
  {
   "cell_type": "code",
   "execution_count": 121,
   "id": "98f0e2fe-506c-4712-825e-9d7a3fa97945",
   "metadata": {},
   "outputs": [
    {
     "name": "stdout",
     "output_type": "stream",
     "text": [
      "Array original: [3, 6, 8, 10, 1, 2, 1, 8, 9, 10, 11, 15, 16, 18, 15, 20, 25, 15, 98, 21, 23, 262, 425, 15]\n",
      "Array ordenado: [1, 1, 2, 3, 6, 8, 8, 9, 10, 10, 11, 15, 15, 15, 15, 16, 18, 20, 21, 23, 25, 98, 262, 425]\n"
     ]
    }
   ],
   "source": [
    "def quicksort(arr):\n",
    "    if len(arr) <= 1:\n",
    "        return arr\n",
    "    else:\n",
    "        pivot = arr[len(arr) // 2]\n",
    "        left = [x for x in arr if x < pivot]\n",
    "        middle = [x for x in arr if x == pivot]\n",
    "        right = [x for x in arr if x > pivot]\n",
    "        return quicksort(left) + middle + quicksort(right)\n",
    "\n",
    "# Ejemplo de uso\n",
    "arr = [3, 6, 8, 10, 1, 2, 1,8,9,10,11,15,16,18,15,20,25,15,98,21,23,262,425,15]\n",
    "print(\"Array original:\", arr)\n",
    "sorted_arr = quicksort(arr)\n",
    "print(\"Array ordenado:\", sorted_arr)\n"
   ]
  },
  {
   "cell_type": "code",
   "execution_count": 2,
   "id": "8266cce4-92b7-43f6-a68e-ab5348cba3dd",
   "metadata": {},
   "outputs": [
    {
     "name": "stdout",
     "output_type": "stream",
     "text": [
      "[]\n"
     ]
    }
   ],
   "source": [
    "print(list(range(1,10,-1)))"
   ]
  },
  {
   "cell_type": "code",
   "execution_count": 14,
   "id": "cf464578-4490-4294-930f-752a2b2bd170",
   "metadata": {},
   "outputs": [
    {
     "name": "stdout",
     "output_type": "stream",
     "text": [
      "[-4, -3, -2]\n"
     ]
    }
   ],
   "source": [
    "print(list(range(-4,-1)))"
   ]
  },
  {
   "cell_type": "code",
   "execution_count": 16,
   "id": "7e7ebdd7-b565-45ee-9d75-daebaad03494",
   "metadata": {},
   "outputs": [
    {
     "name": "stdout",
     "output_type": "stream",
     "text": [
      "v\n",
      "jokung\n",
      "chino\n"
     ]
    }
   ],
   "source": [
    "bts=['v','jokung','chino']\n",
    "\n",
    "for chino in bts:\n",
    "    print(f'{chino}')"
   ]
  },
  {
   "cell_type": "code",
   "execution_count": 21,
   "id": "00cd9636-cc2d-4229-8373-da3eb798b162",
   "metadata": {},
   "outputs": [
    {
     "name": "stdout",
     "output_type": "stream",
     "text": [
      "5050\n",
      "5050\n"
     ]
    }
   ],
   "source": [
    "suma = 0\n",
    "for n in range(1,101):\n",
    "    suma +=n\n",
    "\n",
    "print(suma)\n",
    "\n",
    "print(sum(range(1,101)))"
   ]
  },
  {
   "cell_type": "code",
   "execution_count": 25,
   "id": "2e2318c3-7030-476b-9890-02ea3f450652",
   "metadata": {},
   "outputs": [
    {
     "name": "stdout",
     "output_type": "stream",
     "text": [
      "2500\n"
     ]
    }
   ],
   "source": [
    "suma = 0\n",
    "\n",
    "for n in range(1,101,2):\n",
    "    suma +=n\n",
    "\n",
    "print(suma)"
   ]
  },
  {
   "cell_type": "code",
   "execution_count": 31,
   "id": "67942ad5-39e4-42c2-9448-e5541b58ce82",
   "metadata": {},
   "outputs": [
    {
     "name": "stdout",
     "output_type": "stream",
     "text": [
      "10 9 8 7 6 5 4 3 2 1 "
     ]
    }
   ],
   "source": [
    "for n in range(10,0,-1):\n",
    "   print(n, end = \" \")"
   ]
  },
  {
   "cell_type": "code",
   "execution_count": null,
   "id": "08a114fb-6d83-4b01-9fc3-4ad279b79d5d",
   "metadata": {},
   "outputs": [],
   "source": [
    "# problema de los asientos"
   ]
  },
  {
   "cell_type": "code",
   "execution_count": 40,
   "id": "702e23a6-f677-45d6-a769-f2a4763ca2c3",
   "metadata": {
    "jp-MarkdownHeadingCollapsed": true
   },
   "outputs": [
    {
     "name": "stdout",
     "output_type": "stream",
     "text": [
      "[1, 2, 3, 4, 5]\n",
      "[1, 2, 3, 4, 5]\n",
      "[1, 2, 3, 4, 5]\n",
      "[1, 2, 3, 4, 5]\n",
      "[1, 2, 3, 4, 5]\n"
     ]
    }
   ],
   "source": [
    "n = 5\n",
    "fila = n\n",
    "columna = n\n",
    "\n",
    "matriz = []\n",
    "\n",
    "for i in range(0,fila):\n",
    "    matriz.append([])\n",
    "    for j in range(0,columna):\n",
    "        o = 1\n",
    "        valor = j+o\n",
    "        matriz[i].append(valor)\n",
    "        if valor == 5:\n",
    "            o+2\n",
    "            \n",
    "for i in matriz:\n",
    "    print(i)\n",
    "        "
   ]
  },
  {
   "cell_type": "code",
   "execution_count": null,
   "id": "fc223cc4-aa3d-440e-a29d-e34590282e5e",
   "metadata": {},
   "outputs": [],
   "source": []
  },
  {
   "cell_type": "code",
   "execution_count": 53,
   "id": "95a18cc8-fba2-4d92-8168-2563e6db4d79",
   "metadata": {},
   "outputs": [
    {
     "name": "stdout",
     "output_type": "stream",
     "text": [
      "[1, 2, 3, 4, 5]\n",
      "[1, 2, 3, 4, 5]\n",
      "[1, 2, 3, 4, 5]\n",
      "[1, 2, 3, 4, 5]\n",
      "[1, 2, 3, 4, 5]\n"
     ]
    }
   ],
   "source": [
    "for g in range(0, int(cuadrado/n)):\n",
    "        list=[]\n",
    "        for j in range(1,cuadrado+1):\n",
    "            list.append(j)\n",
    "            if j == 5:\n",
    "            print(list)\n",
    "               "
   ]
  },
  {
   "cell_type": "code",
   "execution_count": 41,
   "id": "becee720-267f-4fff-9c83-d93ef295144a",
   "metadata": {},
   "outputs": [
    {
     "name": "stdout",
     "output_type": "stream",
     "text": [
      "1 2 3 4 5\n",
      "10 9 8 7 6\n",
      "11 12 13 14 15\n",
      "20 19 18 17 16\n",
      "21 22 23 24 25\n"
     ]
    }
   ],
   "source": [
    "def generar_matriz_serpiente(n):\n",
    "    matriz = [[0] * n for _ in range(n)]\n",
    "    num = 1\n",
    "    for i in range(n):\n",
    "        if i % 2 == 0:\n",
    "            for j in range(n):\n",
    "                matriz[i][j] = num\n",
    "                num += 1\n",
    "        else:\n",
    "            for j in range(n-1, -1, -1):\n",
    "                matriz[i][j] = num\n",
    "                num += 1\n",
    "    return matriz\n",
    "\n",
    "def imprimir_matriz(matriz):\n",
    "    for fila in matriz:\n",
    "        print(\" \".join(map(str, fila)))\n",
    "\n",
    "# Ejemplo de uso\n",
    "n = 5\n",
    "matriz_serpiente = generar_matriz_serpiente(n)\n",
    "imprimir_matriz(matriz_serpiente)\n"
   ]
  },
  {
   "cell_type": "code",
   "execution_count": 56,
   "id": "b7fb8ad5-249b-41c5-9a3c-9f1b866d5027",
   "metadata": {},
   "outputs": [
    {
     "name": "stdin",
     "output_type": "stream",
     "text": [
      "introduce numero: 7\n"
     ]
    },
    {
     "name": "stdout",
     "output_type": "stream",
     "text": [
      "la suma es 28\n"
     ]
    }
   ],
   "source": [
    "n = -1\n",
    "while n <= 0:\n",
    "    n = int(input('introduce numero:'))\n",
    "    contador = 0\n",
    "    for i in range(1,n+1):\n",
    "        contador = contador + i\n",
    "print(f'la suma es {contador}') "
   ]
  },
  {
   "cell_type": "code",
   "execution_count": 61,
   "id": "d44649d4-ef56-4381-a72f-609f26adf246",
   "metadata": {},
   "outputs": [
    {
     "name": "stdout",
     "output_type": "stream",
     "text": [
      "p\n",
      "r\n",
      "the end\n"
     ]
    }
   ],
   "source": [
    "palabra = \"programador\"\n",
    "\n",
    "for vocal in palabra:\n",
    "    if vocal in ['a','e','i','o','u']:\n",
    "        break\n",
    "    else:\n",
    "        print(vocal)\n",
    "print('the end')"
   ]
  },
  {
   "cell_type": "code",
   "execution_count": 4,
   "id": "2a43c0c1-23cb-4c93-ad1d-31925e67916f",
   "metadata": {},
   "outputs": [
    {
     "name": "stdout",
     "output_type": "stream",
     "text": [
      "1*1 = 1 --- 1*2 = 2 --- 1*3 = 3 --- 1*4 = 4 --- 1*5 = 5 --- 1*6 = 6 --- 1*7 = 7 --- 1*8 = 8 --- 1*9 = 9 --- 1*10 = 10 --- 2*1 = 2 --- 2*2 = 4 --- 2*3 = 6 --- 2*4 = 8 --- 2*5 = 10 --- 2*6 = 12 --- 2*7 = 14 --- 2*8 = 16 --- 2*9 = 18 --- 2*10 = 20 --- 3*1 = 3 --- 3*2 = 6 --- 3*3 = 9 --- 3*4 = 12 --- 3*5 = 15 --- 3*6 = 18 --- 3*7 = 21 --- 3*8 = 24 --- 3*9 = 27 --- 3*10 = 30 --- 4*1 = 4 --- 4*2 = 8 --- 4*3 = 12 --- 4*4 = 16 --- 4*5 = 20 --- 4*6 = 24 --- 4*7 = 28 --- 4*8 = 32 --- 4*9 = 36 --- 4*10 = 40 --- 5*1 = 5 --- 5*2 = 10 --- 5*3 = 15 --- 5*4 = 20 --- 5*5 = 25 --- 5*6 = 30 --- 5*7 = 35 --- 5*8 = 40 --- 5*9 = 45 --- 5*10 = 50 --- 6*1 = 6 --- 6*2 = 12 --- 6*3 = 18 --- 6*4 = 24 --- 6*5 = 30 --- 6*6 = 36 --- 6*7 = 42 --- 6*8 = 48 --- 6*9 = 54 --- 6*10 = 60 --- 7*1 = 7 --- 7*2 = 14 --- 7*3 = 21 --- 7*4 = 28 --- 7*5 = 35 --- 7*6 = 42 --- 7*7 = 49 --- 7*8 = 56 --- 7*9 = 63 --- 7*10 = 70 --- 8*1 = 8 --- 8*2 = 16 --- 8*3 = 24 --- 8*4 = 32 --- 8*5 = 40 --- 8*6 = 48 --- 8*7 = 56 --- 8*8 = 64 --- 8*9 = 72 --- 8*10 = 80 --- 9*1 = 9 --- 9*2 = 18 --- 9*3 = 27 --- 9*4 = 36 --- 9*5 = 45 --- 9*6 = 54 --- 9*7 = 63 --- 9*8 = 72 --- 9*9 = 81 --- 9*10 = 90 --- 10*1 = 10 --- 10*2 = 20 --- 10*3 = 30 --- 10*4 = 40 --- 10*5 = 50 --- 10*6 = 60 --- 10*7 = 70 --- 10*8 = 80 --- 10*9 = 90 --- 10*10 = 100 --- "
     ]
    }
   ],
   "source": [
    "for i in range(1,11):\n",
    "    for j in range(1,11):\n",
    "        print(f'{i}*{j} = {i*j}', end = \" --- \")"
   ]
  },
  {
   "cell_type": "code",
   "execution_count": 2,
   "id": "bf0872be-87d7-431a-933d-c1108a136eef",
   "metadata": {},
   "outputs": [
    {
     "name": "stdout",
     "output_type": "stream",
     "text": [
      "2*1 = 2\n",
      "2*2 = 4\n",
      "2*3 = 6\n",
      "2*4 = 8\n",
      "2*5 = 10\n",
      "2*6 = 12\n",
      "2*7 = 14\n",
      "2*8 = 16\n",
      "2*9 = 18\n",
      "2*10 = 20\n"
     ]
    }
   ],
   "source": [
    "contador = 1\n",
    "\n",
    "while contador <=10:\n",
    "    print(f'2*{contador} = {2*contador}')\n",
    "    contador += 1\n",
    "        \n",
    "        "
   ]
  },
  {
   "cell_type": "code",
   "execution_count": 4,
   "id": "a4ea9747-fba0-42ba-ac88-4a02605fb941",
   "metadata": {},
   "outputs": [
    {
     "name": "stdout",
     "output_type": "stream",
     "text": [
      "2*1 = 2\n",
      "2*2 = 4\n",
      "2*3 = 6\n",
      "2*4 = 8\n",
      "2*5 = 10\n",
      "2*6 = 12\n",
      "2*7 = 14\n",
      "2*8 = 16\n",
      "2*9 = 18\n",
      "2*10 = 20\n"
     ]
    }
   ],
   "source": [
    "contador = 1\n",
    "\n",
    "while contador <=10:\n",
    "    for i in range(2,3):\n",
    "        for j in range(1,11): \n",
    "            print(f'{i}*{j} = {i*j}')\n",
    "            contador += 1\n",
    "        "
   ]
  },
  {
   "cell_type": "code",
   "execution_count": null,
   "id": "585ebc6a-e8eb-4129-97ea-6ef914ae6215",
   "metadata": {},
   "outputs": [
    {
     "name": "stdin",
     "output_type": "stream",
     "text": [
      "ingresa un numero 70\n"
     ]
    },
    {
     "name": "stdout",
     "output_type": "stream",
     "text": [
      "intena con un numero más alto\n"
     ]
    },
    {
     "name": "stdin",
     "output_type": "stream",
     "text": [
      "ingresa un numero 95\n"
     ]
    },
    {
     "name": "stdout",
     "output_type": "stream",
     "text": [
      "intenta con un numero mas bajo\n"
     ]
    },
    {
     "name": "stdin",
     "output_type": "stream",
     "text": [
      "ingresa un numero 80\n"
     ]
    },
    {
     "name": "stdout",
     "output_type": "stream",
     "text": [
      "intena con un numero más alto\n"
     ]
    },
    {
     "name": "stdin",
     "output_type": "stream",
     "text": [
      "ingresa un numero 87\n"
     ]
    },
    {
     "name": "stdout",
     "output_type": "stream",
     "text": [
      "intena con un numero más alto\n"
     ]
    },
    {
     "name": "stdin",
     "output_type": "stream",
     "text": [
      "ingresa un numero 92\n"
     ]
    },
    {
     "name": "stdout",
     "output_type": "stream",
     "text": [
      "intenta con un numero mas bajo\n"
     ]
    },
    {
     "name": "stdin",
     "output_type": "stream",
     "text": [
      "ingresa un numero 91\n"
     ]
    }
   ],
   "source": [
    "## este es el último ejercicio de la guia \n",
    "import random as rd\n",
    "\n",
    "usuario = int(input('ingresa un numero: '))\n",
    "numero = rd.randint(1,100)\n",
    "intentos = 0\n",
    "\n",
    "while usuario != numero:\n",
    "    if usuario < numero:\n",
    "        print('intena con un numero más alto!')\n",
    "    else:\n",
    "         print('intenta con un numero mas bajo!')\n",
    "            \n",
    "    usuario = int(input('ingresa un numero: '))\n",
    "    intentos += 1\n",
    "\n",
    "print(f'adivinaste el numero {numero}')\n",
    "print(f'numero de intentos {intentos}') "
   ]
  },
  {
   "cell_type": "code",
   "execution_count": null,
   "id": "a6a12207-9f41-4b7a-bd52-b911e8c38890",
   "metadata": {},
   "outputs": [],
   "source": []
  }
 ],
 "metadata": {
  "kernelspec": {
   "display_name": "Python 3 (ipykernel)",
   "language": "python",
   "name": "python3"
  },
  "language_info": {
   "codemirror_mode": {
    "name": "ipython",
    "version": 3
   },
   "file_extension": ".py",
   "mimetype": "text/x-python",
   "name": "python",
   "nbconvert_exporter": "python",
   "pygments_lexer": "ipython3",
   "version": "3.12.4"
  }
 },
 "nbformat": 4,
 "nbformat_minor": 5
}
