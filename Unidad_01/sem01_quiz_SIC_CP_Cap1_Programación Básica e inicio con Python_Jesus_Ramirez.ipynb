{
 "cells": [
  {
   "cell_type": "markdown",
   "id": "f34adb44",
   "metadata": {},
   "source": [
    "# Coding and Programming\n",
    "\n",
    "## Capítulo 1\n",
    "\n",
    "### Conceptos básicos de programación e iniciación con python\n",
    "\n",
    "\n",
    "- **Unidad 1**: Programación secuencial\n",
    "- **Unidad 2**: Planificación de la programación\n",
    "- **Unidad 3**: Fundamentos de los tipos de datos numéricos y operaciones aritméticas\n",
    "- **Unidad 4**: Variables y entradas (Inputs)\n",
    "- **Unidad 5**: Operaciones lógicas y de comparación\n",
    "- **Unidad 6**: Enunciado condicional-1: Condiciones y toma de decisiones\n",
    "- **Unidad 7**: Enunciado condicional-2: Tomar decisiones en dos direcciones y aplicar enunciados condicionales\n",
    "- **Unidad 8**: Bucle-1\n",
    "- **Unidad 9**: Bucle-2\n",
    "\n",
    "# Quiz 1"
   ]
  },
  {
   "cell_type": "markdown",
   "id": "2e42031a",
   "metadata": {},
   "source": [
    "___"
   ]
  },
  {
   "cell_type": "markdown",
   "id": "ac1e9b02",
   "metadata": {},
   "source": [
    "## Q 01-01\n",
    "\n",
    "El código que imprime los valores numéricos del 1 al 3 utilizando la función `print()` es `print(1+2+3)`.\n",
    "\n",
    "Con referencia a este código, imprima los valores de 1 a 5 de forma similar.\n",
    "\n",
    "**Respuesta:**"
   ]
  },
  {
   "cell_type": "markdown",
   "id": "b0f9be5e-75a0-4214-b49b-5d05e9686ee7",
   "metadata": {},
   "source": [
    "print('1'+'2'+'3'+'4'+'5')"
   ]
  },
  {
   "cell_type": "markdown",
   "id": "26e1df49",
   "metadata": {},
   "source": [
    "___"
   ]
  },
  {
   "cell_type": "markdown",
   "id": "87a3a925",
   "metadata": {},
   "source": [
    "## Q 02-01\n",
    "\n",
    "Un programa que calcula la suma de números impares entre enteros entre 1 y 100 e imprime el resultado.\n",
    "\n",
    "Completa los espacios en blanco de la segunda figura del siguiente diagrama de flujo."
   ]
  },
  {
   "cell_type": "markdown",
   "id": "30c4596d-94a4-4a1f-bbbf-c219332ad9c3",
   "metadata": {},
   "source": [
    "![sic_cp_quiz1_p02-01.png](attachment:sic_cp_quiz1_p02-01.png)"
   ]
  },
  {
   "cell_type": "code",
   "execution_count": null,
   "id": "910f98ec-c01c-483e-a8a8-842265c6d32e",
   "metadata": {},
   "outputs": [],
   "source": [
    "1. 0\n",
    "    0\n",
    "\n",
    "2. n+2\n",
    "\n",
    "3. s+n\n",
    "\n",
    "4.n:100\n",
    "\n",
    "5. s"
   ]
  },
  {
   "cell_type": "markdown",
   "id": "203a055b",
   "metadata": {},
   "source": [
    "___"
   ]
  },
  {
   "cell_type": "markdown",
   "id": "8c115f28",
   "metadata": {},
   "source": [
    "## Q 02-02\n",
    "\n",
    "Un programa que reciba un número entero positivo del usuario y en indique si es un número par o impar.\n",
    "\n",
    "Complete el pseudocódigo apropiado para **___**."
   ]
  },
  {
   "cell_type": "markdown",
   "id": "fb5fb983-edee-49d1-b735-043ee93d2be8",
   "metadata": {},
   "source": [
    "```\n",
    "## print(\"Ingrese un entero:\")\n",
    "n = input()\n",
    "if n%2 == 0:\n",
    "    print(\"Es par\")\n",
    "else:\n",
    "    print(\"Es impar\")\n",
    "```"
   ]
  },
  {
   "cell_type": "markdown",
   "id": "7410bc11",
   "metadata": {},
   "source": [
    "___"
   ]
  },
  {
   "cell_type": "markdown",
   "id": "410f8980",
   "metadata": {},
   "source": [
    "## Q 03-01\n",
    "\n",
    "El Código para imprimir la siguiente salida decorativa.\n",
    "\n",
    "`***********************************`\n",
    "\n",
    "`###################################`\n",
    "\n",
    "\n",
    "Utilice sólo un carácter '*' en la primera línea y use el operador * y número. \n",
    "\n",
    "En la segunda línea, utilice sólo un carácter '#' y un espacio, y utilice el operador * y el número.\n",
    "\n",
    "**Guía de codificación:**\n",
    "\n",
    "- En el caso de la primera línea, imprima de la misma manera que '*' * número n.\n",
    "\n",
    "- La segunda línea también utiliza el operador *.\n",
    "\n",
    "\n",
    "**Respuesta:**"
   ]
  },
  {
   "cell_type": "markdown",
   "id": "e7abef9d-a304-4078-8782-a365e5f065d7",
   "metadata": {},
   "source": [
    "print('*'*35)\n",
    "print('#' *35)"
   ]
  },
  {
   "cell_type": "markdown",
   "id": "af97c6b5",
   "metadata": {},
   "source": []
  },
  {
   "cell_type": "markdown",
   "id": "ba019f33",
   "metadata": {},
   "source": [
    "___"
   ]
  },
  {
   "cell_type": "markdown",
   "id": "d4b76da3",
   "metadata": {},
   "source": [
    "## Q 04-01\n",
    "\n",
    "Escribe y guarda tu nombre y dirección en las variables nombre y dirección, respectivamente.\n",
    "\n",
    "Escribe un código que lo imprima en la pantalla de la siguiente manera.\n",
    "\n",
    "**Guía de codificación:** Utiliza una variable como `nombre = 'Mi nombre'`.\n",
    "\n",
    "**Respuesta:**"
   ]
  },
  {
   "cell_type": "markdown",
   "id": "20998ef3",
   "metadata": {},
   "source": [
    "nombre = 'Jesús'\n",
    "\n",
    "direccion = 'Macuto, La Guaira, Venezuela'\n",
    "\n",
    "## no sé cual es el ejemplo, pero lo hice de esta manera\n",
    "\n",
    "print(f'mi nombres es {nombre} y mi apellido es {direccion}')"
   ]
  },
  {
   "cell_type": "markdown",
   "id": "aa90491d",
   "metadata": {},
   "source": [
    "___"
   ]
  },
  {
   "cell_type": "markdown",
   "id": "e98e5186",
   "metadata": {},
   "source": [
    "## Q 05-01\n",
    "\n",
    "Espere el resultado del siguiente código y escríbalo."
   ]
  },
  {
   "cell_type": "markdown",
   "id": "ec232299-0f90-4e7c-ba47-d37d707a95ca",
   "metadata": {},
   "source": [
    "```\n",
    "x = 1\n",
    "y = 0\n",
    "print(x and y)\n",
    "print(x or y)\n",
    "print(not x)\n",
    "print(not y)\n",
    "```"
   ]
  },
  {
   "cell_type": "markdown",
   "id": "2f71e9c4-3039-422b-b6bc-2f1a9b0a16e1",
   "metadata": {},
   "source": [
    "0\n",
    "1\n",
    "False\n",
    "True"
   ]
  },
  {
   "cell_type": "markdown",
   "id": "1c76ac19",
   "metadata": {},
   "source": [
    "___"
   ]
  },
  {
   "cell_type": "markdown",
   "id": "58ce5b20",
   "metadata": {},
   "source": [
    "## Q 06-01\n",
    "\n",
    "Escriba un programa que tome dos enteros aleatorios como entrada y los enumere de menor a mayor.\n",
    "\n",
    "(Restricción: dos enteros distintos, es decir, que no sean el mismo número)\n",
    "\n",
    "**Pauta de codificación:**\n",
    "- Reciba la entrada del usuario con la función de entrada y conviértala en un número entero usando la función `int`.\n",
    "- Luego, use una declaración `if` para comparar e imprimir los dos valores.\n",
    "\n",
    "**Respuesta:**"
   ]
  },
  {
   "cell_type": "markdown",
   "id": "4e9dee8b-5f6c-4be3-983d-5b5954ee000e",
   "metadata": {},
   "source": [
    "n1 = int(input(\"Introduce el primer número: \"))\n",
    "n2 = int(input(\"Introduce el segundo número: \"))\n",
    "\n",
    "if n1 == n2:\n",
    "    print(\"Los números no pueden ser iguales\")\n",
    "else:\n",
    "    if num1 < num2:\n",
    "        print(f\"Los números en orden son: {n1}, {n2}\")\n",
    "    else:\n",
    "        print(f\"Los números en orden son: {n2}, {n1}\")"
   ]
  },
  {
   "cell_type": "markdown",
   "id": "55e7a173",
   "metadata": {},
   "source": [
    "___"
   ]
  },
  {
   "cell_type": "markdown",
   "id": "6abcf432",
   "metadata": {},
   "source": [
    "## Q 07-01\n",
    "\n",
    "Escriba un programa que realice las siguientes funciones utilizando una expresión condicional compuesta de una sentencia `if`.\n",
    "\n",
    "**Guía de codificación:**\n",
    "- Escriba un código que se ejecute de forma diferente dependiendo de si la respuesta a la primera pregunta es 0 o 1.\n"
   ]
  },
  {
   "cell_type": "markdown",
   "id": "f083e248",
   "metadata": {},
   "source": [
    "¿Eres un adulto? (1 si es mayor de edad, 0 si es menor de edad): 1\n",
    "¿Está casado? (1 si es casado, 0 si es soltero): 1\n",
    "Usted es un adulto que está casado.\n",
    "\n",
    "Las tres salidas posibles son:\n",
    "- Usted es un adulto que está casado.\n",
    "- Usted es un adulto que está soltero.\n",
    "- Usted es menor de edad.\n",
    "\n",
    "**Respuesta:**"
   ]
  },
  {
   "cell_type": "code",
   "execution_count": null,
   "id": "50ccacc5-7e34-4ace-8481-316ca33778ea",
   "metadata": {},
   "outputs": [],
   "source": [
    "print('Para responder positivamente digite 1, para negativo 0')\n",
    "adulto = int(input('Eres mayor de 18 años?'))\n",
    "casado = int(input('Estás casad@?'))\n",
    "\n",
    "\n",
    "if casado == True and adulto == True:\n",
    "    print('Usted es un adulto que está casado.')   \n",
    "if casado == False:\n",
    "    print('Usted es un adulto que está soltero.')\n",
    "elif adulto == False:\n",
    "    print('Usted es menor de edad.')\n",
    "       "
   ]
  },
  {
   "cell_type": "markdown",
   "id": "59dd267b",
   "metadata": {},
   "source": [
    "## Q 08-01\n",
    "\n",
    "Entre los números naturales positivos distintos del 1, un número que no es primo se llama número compuesto. Escribe los números primos y compuestos del 2 al 12 de la siguiente manera.\n",
    "\n",
    "**Pauta de codificación:**\n",
    "- use la instrucción `for` para resolver este problema.\n",
    "- Cuando se utiliza una instrucción `for` anidada, se debe usar una expresión para determinar un número primo en el lazo `for` interno."
   ]
  },
  {
   "cell_type": "markdown",
   "id": "3f51863d",
   "metadata": {},
   "source": [
    "```\n",
    "2 : Primo\n",
    "3 : Primo\n",
    "4 : Compuesto\n",
    "5 : Primo\n",
    "6 : Compuesto\n",
    "7 : Primo\n",
    "8 : Compuesto\n",
    "9 : Compuesto\n",
    "10 : Compuesto\n",
    "11 : Primo\n",
    "12 : Compuesto\n",
    "```"
   ]
  },
  {
   "cell_type": "code",
   "execution_count": null,
   "id": "a8a3f0cd-1ca5-4591-ba76-75f261bd71ef",
   "metadata": {},
   "outputs": [],
   "source": [
    "\n",
    "for n in range(1,13):\n",
    "    if n > 1:\n",
    "        contador = 0\n",
    "        for i in range(2,n):\n",
    "            resto = n%i\n",
    "            if resto == 0:\n",
    "                contador +=1\n",
    "        if not contador:\n",
    "                print(f'{n}:primo')    \n",
    "        else: \n",
    "                print(f'{n}:compuesto') '{n}:primo')"
   ]
  },
  {
   "cell_type": "markdown",
   "id": "2c5c46fe",
   "metadata": {},
   "source": [
    "___"
   ]
  },
  {
   "cell_type": "markdown",
   "id": "ed8d04c5",
   "metadata": {},
   "source": [
    "## Q 09-01\n",
    "\n",
    "Un número de Armstrong es un número entero de tres dígitos que es igual a la suma de los cubos de cada dígito.\n",
    "\n",
    "Encuentre todos los números de Armstrong entre enteros de tres dígitos e imprímalos de la siguiente manera.\n",
    "\n",
    "\n",
    "**Pauta de codificación:** todos los números del 100 al 999 deben buscarse utilizando la instrucción `for`.\n",
    "\n",
    "**Respuesta:**"
   ]
  },
  {
   "cell_type": "code",
   "execution_count": null,
   "id": "eeafd966-6b63-4ce2-964e-1f4657cf2bf9",
   "metadata": {},
   "outputs": [],
   "source": [
    "for n in range(100,999):\n",
    "    conv = str(n)\n",
    "    acum = 0\n",
    "    for i in range(len(conv)):\n",
    "        acum = acum + (int(conv[i]) ** len(conv))\n",
    "    if acum == n:\n",
    "        print(acum)"
   ]
  },
  {
   "cell_type": "markdown",
   "id": "5f26e5d1",
   "metadata": {},
   "source": [
    "___"
   ]
  },
  {
   "cell_type": "markdown",
   "id": "ed04e881",
   "metadata": {},
   "source": [
    "## Fin"
   ]
  }
 ],
 "metadata": {
  "kernelspec": {
   "display_name": "Python 3 (ipykernel)",
   "language": "python",
   "name": "python3"
  },
  "language_info": {
   "codemirror_mode": {
    "name": "ipython",
    "version": 3
   },
   "file_extension": ".py",
   "mimetype": "text/x-python",
   "name": "python",
   "nbconvert_exporter": "python",
   "pygments_lexer": "ipython3",
   "version": "3.12.4"
  }
 },
 "nbformat": 4,
 "nbformat_minor": 5
}
