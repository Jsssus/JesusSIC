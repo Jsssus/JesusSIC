{
 "cells": [
  {
   "cell_type": "code",
   "execution_count": 2,
   "metadata": {},
   "outputs": [
    {
     "name": "stdout",
     "output_type": "stream",
     "text": [
      "[3, 8, 2, 7, 1]\n",
      "[3, 2, 7, 1, 8]\n",
      "[2, 3, 1, 7, 8]\n",
      "[2, 1, 3, 7, 8]\n",
      "[1, 2, 3, 7, 8]\n"
     ]
    }
   ],
   "source": [
    "#clase del 21-10-24 ORDENAMENTO\n",
    "\n",
    "#ORDENAMIENTO BURBUJA\n",
    "def bubblesort(S):\n",
    "    n = len(S)\n",
    "    for i in range(n):\n",
    "        print(S)\n",
    "        for j in range(n-1):\n",
    "            if S[j] > S[j + 1]:\n",
    "                S[j], S[j + 1] = S[j + 1], S[j]\n",
    "\n",
    "S = [3,8,2,7,1]\n",
    "\n",
    "bubblesort(S)\n"
   ]
  },
  {
   "cell_type": "code",
   "execution_count": 2,
   "metadata": {},
   "outputs": [],
   "source": [
    "#ORDENAMIENTO POR SELECCION con lista aux, por lo que gasta más memoria\n",
    "def selectionSort1(s):\n",
    "    a = []\n",
    "    while len(s) > 0:\n",
    "        print(a,s)\n",
    "        menor = s.index(min(s))\n",
    "        a.append(s.pop(menor)) #e; pop saca el menor y lo agregamos con append a la nueva lista\n",
    "    return a"
   ]
  },
  {
   "cell_type": "code",
   "execution_count": 3,
   "metadata": {},
   "outputs": [
    {
     "name": "stdout",
     "output_type": "stream",
     "text": [
      "[] [50, 30, 40, 10, 20]\n",
      "[10] [50, 30, 40, 20]\n",
      "[10, 20] [50, 30, 40]\n",
      "[10, 20, 30] [50, 40]\n",
      "[10, 20, 30, 40] [50]\n",
      "[10, 20, 30, 40, 50]\n"
     ]
    }
   ],
   "source": [
    "s = [50,30,40,10,20]\n",
    "r = selectionSort1(s)\n",
    "print(r)"
   ]
  },
  {
   "cell_type": "code",
   "execution_count": null,
   "metadata": {},
   "outputs": [],
   "source": [
    "#ORDEMIENTO POR SELECCION con un for\n",
    "def selectionSort2(s):\n",
    "    n = len(s)\n",
    "    for i in range(n-1):#0,...n-1\n",
    "        print(s)\n",
    "        menor = i\n",
    "        for j in range(i + 1, n): #0,...n\n",
    "            if s[j] < s[menor]:\n",
    "                menor = j\n",
    "            "
   ]
  },
  {
   "cell_type": "code",
   "execution_count": 3,
   "metadata": {},
   "outputs": [],
   "source": [
    "#ORDEMIENTO INSERT con lista auxiliar\n",
    "def insertionSort1(s):\n",
    "    a = []\n",
    "    while len(s) > 0:\n",
    "        print(a,s)\n",
    "        x = s.pop(0)\n",
    "        j = len(a) - 1 #len=2 j=1\n",
    "        while j>= 0 and a[j] > x:\n",
    "            j -=1\n",
    "        a.insert(j+1, x)#(pos, elemt)\n",
    "    return a"
   ]
  },
  {
   "cell_type": "code",
   "execution_count": null,
   "metadata": {},
   "outputs": [],
   "source": [
    "#ORDEMIENTO INSERT con lista auxiliar\n",
    "def insertionSort1(s):\n",
    "    n = len(s)\n",
    "    for i in range(1,n):\n",
    "        print(s)\n",
    "        x = s[i]\n",
    "        j = i - 1\n",
    "        while j>=0 and s[j]>x:\n",
    "            s[j+1] = s[j]\n",
    "            j -= 1\n",
    "        s[j+1] = x\n",
    "    return s"
   ]
  }
 ],
 "metadata": {
  "kernelspec": {
   "display_name": "Python 3",
   "language": "python",
   "name": "python3"
  },
  "language_info": {
   "codemirror_mode": {
    "name": "ipython",
    "version": 3
   },
   "file_extension": ".py",
   "mimetype": "text/x-python",
   "name": "python",
   "nbconvert_exporter": "python",
   "pygments_lexer": "ipython3",
   "version": "3.12.6"
  }
 },
 "nbformat": 4,
 "nbformat_minor": 2
}
