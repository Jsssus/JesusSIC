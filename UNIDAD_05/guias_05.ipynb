{
 "cells": [
  {
   "cell_type": "code",
   "execution_count": null,
   "metadata": {},
   "outputs": [],
   "source": [
    "#ordenamiento por fusion\n",
    "def merge1(S,L,R):\n",
    "    k = 0\n",
    "    while len(L) > 0 and len(R) > 0:\n",
    "        if L[0] <= R[0]:\n",
    "            S[k] = L.pop(0)\n",
    "        else:\n",
    "            S[k] = R.pop(0)\n",
    "        k += 1\n",
    "    while len(L) != 0:\n",
    "        S[k] = L.pop(0)\n",
    "        k += 1\n",
    "    while len(R) != 0:\n",
    "        S[k] = R.pop(0)\n",
    "        k += 1\n",
    "\n",
    "\n",
    "def mergesort1(S):\n",
    "    n = len(S)\n",
    "    if n > 1:\n",
    "        print(S)\n",
    "        mid = n // 2\n",
    "        L, R = S[:mid],S[mid:]\n",
    "        mergesort1(L)\n",
    "        mergesort1(R)\n",
    "        merge1(S,L,R)\n",
    "        \n",
    "        \n",
    "        "
   ]
  }
 ],
 "metadata": {
  "language_info": {
   "name": "python"
  }
 },
 "nbformat": 4,
 "nbformat_minor": 2
}
