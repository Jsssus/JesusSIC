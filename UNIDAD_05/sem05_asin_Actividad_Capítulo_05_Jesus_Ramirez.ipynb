{
 "cells": [
  {
   "cell_type": "markdown",
   "id": "5ad8356f",
   "metadata": {},
   "source": [
    "# Actividades Capítulo 5.\n",
    "\n",
    "\n",
    "# Algoritmos de clasificación.\n",
    "\n",
    "## Resumen de actividades\n",
    "\n",
    "\n",
    "- **Unidad 27.** Ordenamiento de burbuja, (Bubble Sort) algoritmo de ordenamiento, selección e inserción\n",
    "- **Unidad 28.** Ordenar por selección, ordenamiento por inserción.\n",
    "- **Unidad 29.** Clasificación rápida\n"
   ]
  },
  {
   "cell_type": "markdown",
   "id": "8c5aa9c8",
   "metadata": {},
   "source": [
    "# Actividad: Ordenamiento de Burbuja\n",
    "\n",
    "\n",
    "## Instrucciones\n",
    "\n",
    "1. Explique brevemente y en forma clara cómo funciona el algoritmo de ordenamiento de burbuja.\n",
    "\n",
    "2. Desarrollo un función donde se use el ordenamiento de burbuja aplicada a una lista de valores enteros.\n",
    "\n"
   ]
  },
  {
   "cell_type": "code",
   "execution_count": 1,
   "id": "90cd2e33",
   "metadata": {},
   "outputs": [
    {
     "name": "stdout",
     "output_type": "stream",
     "text": [
      "[3, 8, 2, 7, 1]\n",
      "[3, 2, 7, 1, 8]\n",
      "[2, 3, 1, 7, 8]\n",
      "[2, 1, 3, 7, 8]\n",
      "[1, 2, 3, 7, 8]\n"
     ]
    }
   ],
   "source": [
    "# Espacio para desarrollar el código requerido, recuerde agregar algunos\n",
    "# comentarios breves sobre su funcionamiento.\n",
    "\n",
    "def bubblesort(S): #definimos bubblesort\n",
    "    n = len(S) #logitud de s\n",
    "    for i in range(n): #for para las iteraciones\n",
    "        print(S)\n",
    "        for j in range(n-1):#for para intercambiar valores si el primero es mayor al segundo\n",
    "            if S[j] > S[j + 1]:\n",
    "                S[j], S[j + 1] = S[j + 1], S[j]\n",
    "\n",
    "S = [3,8,2,7,1]\n",
    "\n",
    "bubblesort(S)\n"
   ]
  },
  {
   "cell_type": "markdown",
   "id": "a11871f3",
   "metadata": {},
   "source": [
    "# Actividad: Función Swap.\n",
    "\n",
    "1. Escriba una función que permita el intercambion de elementos en una lista.\n",
    "2. Los argumentos de esta función serán, la lista y los indices de los elementos que se desean intercambiar.\n",
    "3. En la siguiente celda desarrollo el código requerido, recuerde agregar comentarias breves que expliquen su funcionamiento.\n"
   ]
  },
  {
   "cell_type": "code",
   "execution_count": 1,
   "id": "1e7a5371",
   "metadata": {},
   "outputs": [],
   "source": [
    "# Espacio para desarrollar la actividad, si tienes alguna duda o comentario adicional\n",
    "# lo puedes dejar planteado acá.\n",
    "\n",
    "#definimos la función y como argumentos agregamos los valores de una lista, y los valores que queremos intercambiar \n",
    "def swap(S,x,y):\n",
    "    S[x],S[y] = S[y],S[x]\n",
    "    print(S)\n",
    "    \n",
    "B = [10,20,30]\n",
    "swap(B,0,2)\n"
   ]
  },
  {
   "cell_type": "markdown",
   "id": "a207d974",
   "metadata": {},
   "source": [
    "\n",
    "# Actividad: \n",
    "\n",
    "1. Explique brevemente el funcionamiento del algoritmo Quick Sort.\n",
    "2. Desarrollo el código para implementar el algoritmo Quick Sort.\n",
    "3. Revise las unidad 29, sección 1.1"
   ]
  },
  {
   "cell_type": "code",
   "execution_count": null,
   "id": "a4f925a4",
   "metadata": {},
   "outputs": [],
   "source": [
    "# Celda para desarrollar \n",
    "\n",
    "#Selecciona un elemento de la lista como pivote, Reorganizar la lista de manera \n",
    "# que todos los elementos menores que el pivote estén a su izquierda y todos los elementos \n",
    "# mayores estén a su derecha. \n",
    "# Aplicar recursivamente el mismo proceso a las sublistas izquierda y derecha.\n",
    "\n",
    "def quick_sort(lista):\n",
    "    if len(lista) <= 1:\n",
    "        return lista\n",
    "    else:\n",
    "        pivot = lista[0]\n",
    "        menor = [x for x in lista if x < pivot]\n",
    "        igual = [x for x in lista if x == pivot]\n",
    "        mayor = [x for x in lista if x > pivot]\n",
    "        return quick_sort(menor) + igual + quick_sort(mayor)\n",
    "\n",
    "# Ejemplo de uso\n",
    "lista = [10, 7, 8, 9, 1, 5]\n",
    "sorted_list = quick_sort(lista)\n",
    "print(\"Lista ordenada:\", sorted_list)\n"
   ]
  },
  {
   "cell_type": "markdown",
   "id": "26a6bb9e",
   "metadata": {},
   "source": [
    "# Actividad: Quick Sort usando un valor de pivote aleatorio.\n",
    "\n",
    "1. Explique brevemente el funcionamiento del algoritmo Quick Sort en la modaladidad de usar un valor de pivote aleatorio.\n",
    "2. Comente las ventajas de esta variación.\n",
    "3. Desarrollo el código necesarion para este algoritmo.\n",
    "4. Agregue comentarios sobre su funcionamiento.\n",
    "\n"
   ]
  },
  {
   "cell_type": "code",
   "execution_count": null,
   "id": "6670eace",
   "metadata": {},
   "outputs": [],
   "source": [
    "# Espacio para desarrollar el código siguiendo las instrucciones.\n",
    "\n",
    "import random\n",
    "\n",
    "def quick_sort(lista):\n",
    "    if len(lista) <= 1:\n",
    "        return lista\n",
    "    else:\n",
    "        pivot_index = random.randint(0, len(lista) - 1)\n",
    "        pivot = lista[pivot_index]\n",
    "        menor = [x for x in lista if x < pivot]\n",
    "        igual = [x for x in lista if x == pivot]\n",
    "        mayor = [x for x in lista if x > pivot]\n",
    "        return quick_sort(menor) + igual + quick_sort(mayor)\n",
    "\n",
    "# Ejemplo de uso\n",
    "lista = [10, 7, 8, 9, 1, 5]\n",
    "sorted_list = quick_sort(lista)\n",
    "print(\"Lista ordenada:\", sorted_list)\n"
   ]
  }
 ],
 "metadata": {
  "kernelspec": {
   "display_name": "Python 3",
   "language": "python",
   "name": "python3"
  },
  "language_info": {
   "codemirror_mode": {
    "name": "ipython",
    "version": 3
   },
   "file_extension": ".py",
   "mimetype": "text/x-python",
   "name": "python",
   "nbconvert_exporter": "python",
   "pygments_lexer": "ipython3",
   "version": "3.12.6"
  }
 },
 "nbformat": 4,
 "nbformat_minor": 5
}
