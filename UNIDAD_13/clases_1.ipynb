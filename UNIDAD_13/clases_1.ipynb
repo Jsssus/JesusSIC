{
 "cells": [
  {
   "cell_type": "markdown",
   "metadata": {},
   "source": [
    "Pre-procesamiento de datos\n",
    "\n",
    "Es importante la normalización de las imagenes para que al momento de segmentar podría traer problemas. \n"
   ]
  },
  {
   "cell_type": "markdown",
   "metadata": {},
   "source": [
    "Hay que definir los valores de los datos que se usarán (bool, etc)."
   ]
  },
  {
   "cell_type": "markdown",
   "metadata": {},
   "source": [
    "Comprobar los datos faltantes\n",
    "\n"
   ]
  }
 ],
 "metadata": {
  "language_info": {
   "name": "python"
  }
 },
 "nbformat": 4,
 "nbformat_minor": 2
}
