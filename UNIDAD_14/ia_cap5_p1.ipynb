{
  "cells": [
    {
      "cell_type": "markdown",
      "id": "d8ce64b2",
      "metadata": {
        "id": "d8ce64b2"
      },
      "source": [
        "### Machine learning - IA Supervised\n",
        "\n",
        "* instalar sklearn : https://scikit-learn.org/stable/install.html\n",
        "* https://scikit-learn.org/stable/\n",
        "* git: https://github.com/scikit-learn/scikit-learn/blob/main/doc/datasets/loading_other_datasets.rst\n",
        "* archivo de data: https://www.csie.ntu.edu.tw/~cjlin/libsvmtools/datasets/binary/breast-cancer"
      ]
    },
    {
      "cell_type": "code",
      "execution_count": null,
      "id": "aad1f2e5",
      "metadata": {
        "id": "aad1f2e5"
      },
      "outputs": [],
      "source": [
        "import sys\n",
        "!{sys.executable} -m pip install scikit-learn"
      ]
    },
    {
      "cell_type": "code",
      "execution_count": null,
      "id": "7705dd0c",
      "metadata": {
        "colab": {
          "base_uri": "https://localhost:8080/",
          "height": 35
        },
        "id": "7705dd0c",
        "outputId": "dc68ccc3-74bb-49c4-dac9-b311e269accf"
      },
      "outputs": [
        {
          "output_type": "execute_result",
          "data": {
            "text/plain": [
              "'1.2.2'"
            ],
            "application/vnd.google.colaboratory.intrinsic+json": {
              "type": "string"
            }
          },
          "metadata": {},
          "execution_count": 8
        }
      ],
      "source": [
        "import sklearn\n",
        "sklearn.__version__"
      ]
    },
    {
      "cell_type": "code",
      "execution_count": null,
      "id": "c6567090",
      "metadata": {
        "id": "c6567090"
      },
      "outputs": [],
      "source": [
        "import pandas as pd\n",
        "from IPython.core.display import HTML\n",
        "\n",
        "from sklearn.datasets import load_breast_cancer\n",
        "\n",
        "datos=load_breast_cancer()\n",
        "datos # target= tiene o no cancer"
      ]
    },
    {
      "cell_type": "code",
      "execution_count": null,
      "id": "a759a3da",
      "metadata": {
        "id": "a759a3da"
      },
      "outputs": [],
      "source": [
        "help(datos)\n",
        "\n",
        "#bunch -> multi indexing , contenedor de keys"
      ]
    },
    {
      "cell_type": "markdown",
      "id": "d3684299",
      "metadata": {
        "id": "d3684299"
      },
      "source": [
        "Bunch -> multi indexing -> contenedor de keys\n",
        "\n",
        "* https://stackoverflow.com/questions/56286221/what-is-the-difference-between-bunch-and-dictionary-type-in-python"
      ]
    },
    {
      "cell_type": "code",
      "execution_count": null,
      "id": "072e6201",
      "metadata": {
        "id": "072e6201"
      },
      "outputs": [],
      "source": [
        "# DESCR para entender que data tenemos en el archivo tipo bunch\n",
        "\n",
        "print(datos.DESCR) # describe -> descripcion de la data"
      ]
    },
    {
      "cell_type": "code",
      "execution_count": null,
      "id": "5df68283",
      "metadata": {
        "scrolled": true,
        "id": "5df68283"
      },
      "outputs": [],
      "source": [
        "'''\n",
        "Cosas importantes en el bunch\n",
        "\n",
        "data : el df con los datos que se ursarán para entrenar la IA\n",
        "target : es el resultado al que debe llegar la IA con los datos suministrados\n",
        "features_names : los nombres de las columnas del df (atributos)\n",
        "\n",
        "Que necesito para trabajar con cualquier IA\n",
        "\n",
        "_______________________________ suministradas por el dataset________________________-\n",
        "data de entrenamiento             -> x   -> data\n",
        "resultados del entrenamiento      -> y   -> target\n",
        "\n",
        "________________________________ debo sacarlas cuando tenga mi modelo de IA _______-\n",
        "data de testeo\n",
        "resultado de testeo\n",
        "\n",
        "'''\n",
        "\n",
        "df_x=pd.DataFrame(datos[\"data\"])\n",
        "display(HTML(df_x.to_html()))"
      ]
    },
    {
      "cell_type": "code",
      "execution_count": null,
      "id": "b8b5526f",
      "metadata": {
        "id": "b8b5526f"
      },
      "outputs": [],
      "source": [
        "df_y=pd.DataFrame(datos[\"target\"])\n",
        "display(HTML(df_y.to_html()))"
      ]
    },
    {
      "cell_type": "code",
      "execution_count": null,
      "id": "9c2421c2",
      "metadata": {
        "id": "9c2421c2"
      },
      "outputs": [],
      "source": [
        "# de los 569 valores observados se deben dividir datos para el entrenamiento de la IA (supervizada)\n",
        "# la evaluacion de los datos se hace en proporciones\n",
        "# 7:3 o 8:2 -> 70%:30% -> 80% :20%\n",
        "# en este caso para esta libreria por defecto viene en proporcion 75:25\n",
        "# 75% datos para entrenamiento\n",
        "# 25% datos para testeo\n",
        "# los porcentajes para que mi IA aprenda\n",
        "\n",
        "from sklearn.model_selection import train_test_split\n",
        "help(train_test_split)"
      ]
    },
    {
      "cell_type": "code",
      "execution_count": null,
      "id": "b5502cdc",
      "metadata": {
        "id": "b5502cdc",
        "outputId": "a6260014-cf7b-47a3-9adf-3c8b86b2846c"
      },
      "outputs": [
        {
          "name": "stdout",
          "output_type": "stream",
          "text": [
            "datos de entrenamiento: 426\n",
            "datos de testeo: 143\n"
          ]
        }
      ],
      "source": [
        "# hago un split para asignar los valores a los respectivos ejes\n",
        "# x_train,y_train que enviarán apra el entrenamiento de la IA\n",
        "# 75% datos para entrenamiento\n",
        "# 25% datos para testeo\n",
        "\n",
        "from sklearn.model_selection import train_test_split\n",
        "\n",
        "x_train,x_test,y_train,y_test=train_test_split(datos.data,datos.target)\n",
        "print(\"datos de entrenamiento:\", len(x_train))\n",
        "print(\"datos de testeo:\", len(x_test))\n"
      ]
    },
    {
      "cell_type": "markdown",
      "id": "2f0bc521",
      "metadata": {
        "id": "2f0bc521"
      },
      "source": [
        "## Pasos para construir un modelo de IA\n",
        "\n",
        "1. Instanciar\n",
        "    1.1 definir el modelo\n",
        "2. fit -> ajuste\n",
        "3. prediccion\n",
        "\n",
        "para instanciar utilice el hiperparametro del modelo como argumento,\n",
        "el hiperparametro es una opcion que requiere CONFIGURACION HUMANA!!! (SUPERVISADO)\n",
        "afecta MUCHO!!!! al rendimiento del modelo\n"
      ]
    },
    {
      "cell_type": "markdown",
      "id": "eb6d0b31",
      "metadata": {
        "id": "eb6d0b31"
      },
      "source": [
        "Para entender a profundidad como funciona el modelo DesicionTreeClasifier\n",
        "\n",
        "* https://towardsdatascience.com/decision-trees-explained-entropy-information-gain-gini-index-ccp-pruning-4d78070db36c"
      ]
    },
    {
      "cell_type": "markdown",
      "id": "d1eae552",
      "metadata": {
        "id": "d1eae552"
      },
      "source": [
        "### Recapitulando el ejemplo completo"
      ]
    },
    {
      "cell_type": "code",
      "execution_count": null,
      "id": "95ecdf8a",
      "metadata": {
        "id": "95ecdf8a"
      },
      "outputs": [],
      "source": [
        "#recapitulando el ejemplo\n",
        "\n",
        "import pandas as pd\n",
        "from IPython.core.display import HTML\n",
        "\n",
        "from sklearn.datasets import load_breast_cancer\n",
        "from sklearn.model_selection import train_test_split\n",
        "from sklearn.tree import DecisionTreeClassifier  #importo el modelo\n",
        "#ver en la webpage : https://scikit-learn.org/stable/modules/tree.html#classification\n",
        "\n",
        "#cargar los datos\n",
        "datos=load_breast_cancer()\n",
        "#instanciar el estimador y ajustar los parametros\n",
        "x_train,x_test,y_train,y_test=train_test_split(datos.data,datos.target)\n",
        "#inicializacion del modelo de arbol(ramificacion) mediante el hiperparametro entropia\n",
        "model = DecisionTreeClassifier(criterion=\"entropy\")"
      ]
    },
    {
      "cell_type": "markdown",
      "id": "caf53df9",
      "metadata": {
        "id": "caf53df9"
      },
      "source": [
        "### Modeo fit (modelo de ajuste)\n",
        "1. Utilice el metodo de ajuste fit con el estimador d ela instancia de entrenamiento\n",
        "2. Envie los datos de entrenamiento y los datos de etiqueta juntos como argumento de la IA"
      ]
    },
    {
      "cell_type": "code",
      "execution_count": null,
      "id": "12fbcb19",
      "metadata": {
        "id": "12fbcb19"
      },
      "outputs": [],
      "source": [
        "# aprendizaje de la IA\n",
        "\n",
        "model.fit(x_train,y_train)\n",
        "# le mando los datos para que entrene y aprenda\n",
        "#fit ajusta los datos para crear un modelo(regresion) que pueda\n",
        "#predecir los datos\n",
        "\n",
        "#predecir\n",
        "# le mando los datos test para ver si aprendió\n",
        "\n",
        "y_pred = model.predict(x_test)\n",
        "\n",
        "#nota\n",
        "# el estimador de isntancia ha completado el entrenamiento con el ajuste fit con el metodo predict\n",
        "# predict() convierte los resultados estimados del modelo respecto a los datos de prueba y\n",
        "# retorna un array de 1 fila muchas columnas -> horizontal\n",
        "print(type(y_pred))\n",
        "y_pred\n",
        "\n",
        "#nota:\n",
        "#Es un valor estimado, por lo que e valor real de x_test pueden variar\n",
        "#para verificar podemos medir la presicion comparando los valores"
      ]
    },
    {
      "cell_type": "code",
      "execution_count": null,
      "id": "b3d13259",
      "metadata": {
        "id": "b3d13259"
      },
      "outputs": [],
      "source": [
        "# hago un reshape para convertir el array horizontal a vertical\n",
        "pred=y_pred.reshape(len(y_pred),1)\n",
        "#pred"
      ]
    },
    {
      "cell_type": "code",
      "execution_count": null,
      "id": "8d2d01b2",
      "metadata": {
        "id": "8d2d01b2"
      },
      "outputs": [],
      "source": [
        "# pred   : son los datos predecidos por la ia\n",
        "# reales : son los datos reales sacados del df\n",
        "reales= y_test.reshape(len(y_test),1)\n",
        "#para observar con facilidad los junto\n",
        "\n",
        "df_pred=pd.DataFrame(pred)\n",
        "df_reales=pd.DataFrame(reales)\n",
        "df_eficiencia=pd.concat([df_pred,df_reales],axis=1)\n",
        "df_eficiencia.columns=[\"Predecidos\",\"Reales\"]\n",
        "df_eficiencia.head()"
      ]
    },
    {
      "cell_type": "code",
      "execution_count": null,
      "id": "47790144",
      "metadata": {
        "id": "47790144",
        "outputId": "e85f3428-32f9-4a3d-b7c9-e5574e1f744b"
      },
      "outputs": [
        {
          "name": "stdout",
          "output_type": "stream",
          "text": [
            "la eficiencia de la IA es: 97.2027972027972 %\n"
          ]
        }
      ],
      "source": [
        "# busco lso casos de exito de la IA para determinar su eficiencia\n",
        "# Busco los casos donde la prediccion fue correcta\n",
        "df_exito=df_eficiencia[df_eficiencia[\"Predecidos\"]==df_eficiencia[\"Reales\"]]\n",
        "exito=len(df_exito)\n",
        "total=len(df_eficiencia)\n",
        "eficiencia=exito/total\n",
        "print(f\"la eficiencia de la IA es: {eficiencia*100} %\")"
      ]
    },
    {
      "cell_type": "code",
      "source": [
        "Prec = model.score(x_test, y_test)*100"
      ],
      "metadata": {
        "id": "Y4yZqxKHvsOx"
      },
      "id": "Y4yZqxKHvsOx",
      "execution_count": null,
      "outputs": []
    }
  ],
  "metadata": {
    "kernelspec": {
      "display_name": "Python 3 (ipykernel)",
      "language": "python",
      "name": "python3"
    },
    "language_info": {
      "codemirror_mode": {
        "name": "ipython",
        "version": 3
      },
      "file_extension": ".py",
      "mimetype": "text/x-python",
      "name": "python",
      "nbconvert_exporter": "python",
      "pygments_lexer": "ipython3",
      "version": "3.9.13"
    },
    "colab": {
      "provenance": []
    }
  },
  "nbformat": 4,
  "nbformat_minor": 5
}