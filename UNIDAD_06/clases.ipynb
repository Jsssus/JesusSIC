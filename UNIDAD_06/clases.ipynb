{
 "cells": [
  {
   "cell_type": "code",
   "execution_count": null,
   "metadata": {},
   "outputs": [],
   "source": [
    "#Clase 2024-10-28 Greedy\n",
    "monedas = [500,100,50,10]\n",
    "\n",
    "\n",
    "def cambio_monedas(monedas,cant):\n",
    "   cambios = [] \n",
    "   mayor = 0\n",
    "   while cant > 0:\n",
    "       if cant < monedas[mayor]:\n",
    "           mayor +=1\n",
    "       else:\n",
    "           cambios.append(monedas[mayor])\n",
    "           cant -= monedas[mayor] \n",
    "   return cambios"
   ]
  },
  {
   "cell_type": "code",
   "execution_count": null,
   "metadata": {},
   "outputs": [],
   "source": [
    "#Otro de greedy\n",
    "\n",
    "def selec_act1(ini,fin):\n",
    "    result = []\n",
    "    i = 0\n",
    "    result.append(i)\n",
    "    for j in range(1,len(ini)):\n",
    "        if fin[i] <= ini[j]:\n",
    "            result.append(j)\n",
    "            i = j\n",
    "    return result\n",
    "\n",
    "ini = [1,3,2,0,5,8,5]\n",
    "fin = [2,4,5,6,6,9,9]\n",
    "reuniones = selec_act1(ini,fin)\n",
    "max = len(reuniones)\n",
    "print(reuniones,max)"
   ]
  },
  {
   "cell_type": "code",
   "execution_count": null,
   "metadata": {},
   "outputs": [],
   "source": [
    "#Divide y vencerás\n",
    "#quick sort\n",
    "#busqueda binaria\n",
    "#merge sort"
   ]
  },
  {
   "cell_type": "code",
   "execution_count": null,
   "metadata": {},
   "outputs": [],
   "source": [
    "#suma de caminos minimos\n",
    "def find_min(fil, col, tri):\n",
    "    if fil == len(tri):\n",
    "        return 0\n",
    "    else:\n",
    "        minimo = min(find_min(fil+1, col, tri),\n",
    "                     find_min(fil+1, col+1, tri))\n",
    "        return tri[fil][col] + minimo\n",
    "\n",
    "triangulo = {\n",
    "    [2],\n",
    "    [3,4],\n",
    "    [6,5,7], \n",
    "    [4,1,8,3]\n",
    "}\n",
    "\n",
    "min = find_min(0,0,triangulo)\n",
    "\n",
    "print(f\"el minimo es {min}\")\n"
   ]
  },
  {
   "cell_type": "code",
   "execution_count": null,
   "metadata": {},
   "outputs": [],
   "source": [
    "#2024-10-30\n",
    "#Programación dinamica\n",
    "#memoization\n",
    "\n",
    "def fib3(F,n):\n",
    "    if n <= 1:\n",
    "        return F[n]\n",
    "    else:\n",
    "        if F[n]<0:\n",
    "            F[n] = fib3(F,n-1) + fib3(F,n-2)\n",
    "            return F[n]\n",
    "\n",
    "N = int(input(\"numero\"))\n",
    "F = [0,1] + [-1]*(N-1) #concatena y multiplica el -1 cuantas veces lo otro\n"
   ]
  },
  {
   "cell_type": "code",
   "execution_count": null,
   "metadata": {},
   "outputs": [],
   "source": [
    "#def triangulo_pascal():\n",
    "def bin1(i,j):\n",
    "    if j ==0 or i ==j: #bordes\n",
    "        return 1\n",
    "    else:\n",
    "        return bin1(i-1,j-1) + bin1(i-1,j)\n",
    "    \n",
    "i = int(input(\"valor i\"))#fila\n",
    "j = int(input(\"valor j\"))#columa\n",
    "\n",
    "print(f\"binomial de lo que pediste {bin1(i,j)}\")"
   ]
  },
  {
   "cell_type": "code",
   "execution_count": null,
   "metadata": {},
   "outputs": [],
   "source": [
    "def bin2(i,col):\n",
    "    B = [[0] * (k+1) for k in range(i+1)]#\n",
    "    for it in range(i+1):\n",
    "        for j in range(it + 1):\n",
    "            if j == 0 or j == it:\n",
    "                B[it][j] = 1\n",
    "            else:\n",
    "                B[it][j] = B[it - 1][j - 1] + B-[it - 1][j]\n",
    "    return B[i][col]\n",
    "\n",
    "i = int(input(\"valor i\"))#fila\n",
    "j = int(input(\"valor j\"))#columa\n",
    "\n",
    "print(f\"binomial de lo que pediste {bin2(i,j)}\")\n",
    "\n"
   ]
  },
  {
   "cell_type": "code",
   "execution_count": null,
   "metadata": {},
   "outputs": [],
   "source": [
    "#Backtracking\n",
    "def n_queens(i,col):\n",
    "    if promising(i,col):\n",
    "        if i ==len(col) -1:\n",
    "            print(col)\n",
    "        else:\n",
    "            for j in range(len(col)):\n",
    "                col[i +1] = j\n",
    "                n_queens(i+1 , col)\n",
    "                \n",
    "def promising(i,col):\n",
    "    for k in range(i):\n",
    "        if col[i] == col[k] or abs(col[i] - col[k]):\n",
    "            return False\n",
    "        return True\n",
    "\n",
    "N = int(input(\"diga el numero reinas:\"))\n",
    "table = [-1] * N\n",
    "n_queens(-1,table)"
   ]
  }
 ],
 "metadata": {
  "language_info": {
   "name": "python"
  }
 },
 "nbformat": 4,
 "nbformat_minor": 2
}
