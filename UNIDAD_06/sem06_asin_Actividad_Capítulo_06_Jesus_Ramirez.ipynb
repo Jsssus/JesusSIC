{
 "cells": [
  {
   "cell_type": "markdown",
   "id": "49909eb6",
   "metadata": {},
   "source": [
    "# Actividades Capítulo 6.\n",
    "\n",
    "\n",
    "# Algoritmos de clasificación.\n",
    "\n",
    "## Resumen de actividades\n",
    "\n",
    "- **Unidad 30.** Enfoque Greedy algoritmos voraces o ávidos.\n",
    "- **Unidad 31.** Divide y vencerás\n",
    "- **Unidad 32.** Programación dinámica\n",
    "- **Unidad 33.** Retroceso\n"
   ]
  },
  {
   "cell_type": "markdown",
   "id": "780f0fff",
   "metadata": {},
   "source": [
    "# Actividad: Algoritmos Greedy.\n",
    "\n",
    "\n",
    "## Instrucciones\n",
    "\n",
    "1. Explique brevemente y en forma clara qué es un algoritmo Greedy y como funciona..\n",
    "\n",
    "2. Enumera algunas ventajas.\n",
    "\n",
    "3. Enumera algunas desventajas.\n",
    "\n",
    "4. Escriba el código desarrollado con el enfoque Greeddy para el problema de cambio de monedas, haga diferentes pruebas cambian las entradas (recuerde que las entrada de este algoritmo son las monedas disponibles y la cantida que se desea cubrir, con estas entradas el algoritmo debe retornar la combinación de monedas que cubre el monto solicitado, minimizando la cantidad de monedas usadas)\n",
    "\n",
    "5. Ahora pruebe los resultados con siguientes entradas: monedas_disponibles = [11, 5, 1] para cubrer la cantidad de 15, observe los resultados, haga algunas analísis de lo que pasaria con esta combinación de entradas.\n"
   ]
  },
  {
   "cell_type": "code",
   "execution_count": 1,
   "id": "21a779a5",
   "metadata": {},
   "outputs": [
    {
     "name": "stdout",
     "output_type": "stream",
     "text": [
      "[11, 1, 1, 1, 1]\n"
     ]
    }
   ],
   "source": [
    "# Espacio disponible para desarrollar el código y agregar los comentarios necesarios.\n",
    "\n",
    "#Un algoritmo Greedy resuelve problemas haciendo la elección óptima tratando de encontrar la solución global óptima\n",
    "#pudiendo usar el enfoque de divide y vencerás y las llamdas recursivas\n",
    "\n",
    "def cambio_monedas(monedas,cant):\n",
    "   cambios = [] \n",
    "   mayor = 0\n",
    "   while cant > 0:\n",
    "       if cant < monedas[mayor]:\n",
    "           mayor +=1\n",
    "       else:\n",
    "           cambios.append(monedas[mayor])\n",
    "           cant -= monedas[mayor] \n",
    "   return cambios\n",
    "\n",
    "monedas_disponibles = [11, 5, 1]\n",
    "print(cambio_monedas(monedas_disponibles,15))"
   ]
  },
  {
   "cell_type": "markdown",
   "id": "89395b47",
   "metadata": {},
   "source": [
    "# Actividad: Replique el código de la búsqueda de la trayectoria triangular mínima.\n",
    "\n",
    "\n",
    "## Instrucciones\n",
    "\n",
    "\n",
    "1. Replique el código mostrado en la unidad 31.\n",
    "\n",
    "2. Analice el código replicado y agregue una explicíon sonbre su funcionamiento.\n",
    "\n",
    "3. Haga diferentes pruebas cambiando la entrada.\n"
   ]
  },
  {
   "cell_type": "code",
   "execution_count": 16,
   "id": "d446e273",
   "metadata": {},
   "outputs": [
    {
     "ename": "TypeError",
     "evalue": "'int' object is not callable",
     "output_type": "error",
     "traceback": [
      "\u001b[1;31m---------------------------------------------------------------------------\u001b[0m",
      "\u001b[1;31mTypeError\u001b[0m                                 Traceback (most recent call last)",
      "Cell \u001b[1;32mIn[16], line 25\u001b[0m\n\u001b[0;32m     11\u001b[0m triangulo1 \u001b[38;5;241m=\u001b[39m [\n\u001b[0;32m     12\u001b[0m     [\u001b[38;5;241m2\u001b[39m],\n\u001b[0;32m     13\u001b[0m     [\u001b[38;5;241m3\u001b[39m,\u001b[38;5;241m4\u001b[39m],\n\u001b[0;32m     14\u001b[0m     [\u001b[38;5;241m6\u001b[39m,\u001b[38;5;241m5\u001b[39m,\u001b[38;5;241m7\u001b[39m], \n\u001b[0;32m     15\u001b[0m     [\u001b[38;5;241m4\u001b[39m,\u001b[38;5;241m1\u001b[39m,\u001b[38;5;241m8\u001b[39m,\u001b[38;5;241m3\u001b[39m]   \n\u001b[0;32m     16\u001b[0m ]\n\u001b[0;32m     18\u001b[0m triangulo2 \u001b[38;5;241m=\u001b[39m [\n\u001b[0;32m     19\u001b[0m     [\u001b[38;5;241m5\u001b[39m],\n\u001b[0;32m     20\u001b[0m     [\u001b[38;5;241m1\u001b[39m,\u001b[38;5;241m6\u001b[39m],\n\u001b[0;32m     21\u001b[0m     [\u001b[38;5;241m6\u001b[39m,\u001b[38;5;241m8\u001b[39m,\u001b[38;5;241m9\u001b[39m], \n\u001b[0;32m     22\u001b[0m     [\u001b[38;5;241m4\u001b[39m,\u001b[38;5;241m2\u001b[39m,\u001b[38;5;241m1\u001b[39m,\u001b[38;5;241m3\u001b[39m]   \n\u001b[0;32m     23\u001b[0m ]\n\u001b[1;32m---> 25\u001b[0m prueba \u001b[38;5;241m=\u001b[39m \u001b[43mfind_min\u001b[49m\u001b[43m(\u001b[49m\u001b[38;5;241;43m0\u001b[39;49m\u001b[43m,\u001b[49m\u001b[38;5;241;43m0\u001b[39;49m\u001b[43m,\u001b[49m\u001b[43mtriangulo1\u001b[49m\u001b[43m)\u001b[49m\n\u001b[0;32m     26\u001b[0m prueba2 \u001b[38;5;241m=\u001b[39m find_min(\u001b[38;5;241m0\u001b[39m,\u001b[38;5;241m0\u001b[39m,triangulo2)\n",
      "Cell \u001b[1;32mIn[16], line 7\u001b[0m, in \u001b[0;36mfind_min\u001b[1;34m(fil, col, tri)\u001b[0m\n\u001b[0;32m      5\u001b[0m     \u001b[38;5;28;01mreturn\u001b[39;00m \u001b[38;5;241m0\u001b[39m    \n\u001b[0;32m      6\u001b[0m \u001b[38;5;28;01melse\u001b[39;00m:\n\u001b[1;32m----> 7\u001b[0m     minimo \u001b[38;5;241m=\u001b[39m \u001b[38;5;28mmin\u001b[39m(\u001b[43mfind_min\u001b[49m\u001b[43m(\u001b[49m\u001b[43mfil\u001b[49m\u001b[38;5;241;43m+\u001b[39;49m\u001b[38;5;241;43m1\u001b[39;49m\u001b[43m,\u001b[49m\u001b[43m \u001b[49m\u001b[43mcol\u001b[49m\u001b[43m,\u001b[49m\u001b[43m \u001b[49m\u001b[43mtri\u001b[49m\u001b[43m)\u001b[49m,\u001b[38;5;66;03m# utilizamos la funcion min y en ella una llamada recursiva\u001b[39;00m\n\u001b[0;32m      8\u001b[0m                  find_min(fil\u001b[38;5;241m+\u001b[39m\u001b[38;5;241m1\u001b[39m, col\u001b[38;5;241m+\u001b[39m\u001b[38;5;241m1\u001b[39m, tri))\n\u001b[0;32m      9\u001b[0m     \u001b[38;5;28;01mreturn\u001b[39;00m (tri[fil][col],minimo)\n",
      "Cell \u001b[1;32mIn[16], line 7\u001b[0m, in \u001b[0;36mfind_min\u001b[1;34m(fil, col, tri)\u001b[0m\n\u001b[0;32m      5\u001b[0m     \u001b[38;5;28;01mreturn\u001b[39;00m \u001b[38;5;241m0\u001b[39m    \n\u001b[0;32m      6\u001b[0m \u001b[38;5;28;01melse\u001b[39;00m:\n\u001b[1;32m----> 7\u001b[0m     minimo \u001b[38;5;241m=\u001b[39m \u001b[38;5;28mmin\u001b[39m(\u001b[43mfind_min\u001b[49m\u001b[43m(\u001b[49m\u001b[43mfil\u001b[49m\u001b[38;5;241;43m+\u001b[39;49m\u001b[38;5;241;43m1\u001b[39;49m\u001b[43m,\u001b[49m\u001b[43m \u001b[49m\u001b[43mcol\u001b[49m\u001b[43m,\u001b[49m\u001b[43m \u001b[49m\u001b[43mtri\u001b[49m\u001b[43m)\u001b[49m,\u001b[38;5;66;03m# utilizamos la funcion min y en ella una llamada recursiva\u001b[39;00m\n\u001b[0;32m      8\u001b[0m                  find_min(fil\u001b[38;5;241m+\u001b[39m\u001b[38;5;241m1\u001b[39m, col\u001b[38;5;241m+\u001b[39m\u001b[38;5;241m1\u001b[39m, tri))\n\u001b[0;32m      9\u001b[0m     \u001b[38;5;28;01mreturn\u001b[39;00m (tri[fil][col],minimo)\n",
      "    \u001b[1;31m[... skipping similar frames: find_min at line 7 (1 times)]\u001b[0m\n",
      "Cell \u001b[1;32mIn[16], line 7\u001b[0m, in \u001b[0;36mfind_min\u001b[1;34m(fil, col, tri)\u001b[0m\n\u001b[0;32m      5\u001b[0m     \u001b[38;5;28;01mreturn\u001b[39;00m \u001b[38;5;241m0\u001b[39m    \n\u001b[0;32m      6\u001b[0m \u001b[38;5;28;01melse\u001b[39;00m:\n\u001b[1;32m----> 7\u001b[0m     minimo \u001b[38;5;241m=\u001b[39m \u001b[38;5;28;43mmin\u001b[39;49m\u001b[43m(\u001b[49m\u001b[43mfind_min\u001b[49m\u001b[43m(\u001b[49m\u001b[43mfil\u001b[49m\u001b[38;5;241;43m+\u001b[39;49m\u001b[38;5;241;43m1\u001b[39;49m\u001b[43m,\u001b[49m\u001b[43m \u001b[49m\u001b[43mcol\u001b[49m\u001b[43m,\u001b[49m\u001b[43m \u001b[49m\u001b[43mtri\u001b[49m\u001b[43m)\u001b[49m\u001b[43m,\u001b[49m\u001b[38;5;66;43;03m# utilizamos la funcion min y en ella una llamada recursiva\u001b[39;49;00m\n\u001b[0;32m      8\u001b[0m \u001b[43m                 \u001b[49m\u001b[43mfind_min\u001b[49m\u001b[43m(\u001b[49m\u001b[43mfil\u001b[49m\u001b[38;5;241;43m+\u001b[39;49m\u001b[38;5;241;43m1\u001b[39;49m\u001b[43m,\u001b[49m\u001b[43m \u001b[49m\u001b[43mcol\u001b[49m\u001b[38;5;241;43m+\u001b[39;49m\u001b[38;5;241;43m1\u001b[39;49m\u001b[43m,\u001b[49m\u001b[43m \u001b[49m\u001b[43mtri\u001b[49m\u001b[43m)\u001b[49m\u001b[43m)\u001b[49m\n\u001b[0;32m      9\u001b[0m     \u001b[38;5;28;01mreturn\u001b[39;00m (tri[fil][col],minimo)\n",
      "\u001b[1;31mTypeError\u001b[0m: 'int' object is not callable"
     ]
    }
   ],
   "source": [
    "# Espacio para desarrollar el código y agregar los comentarios necesarios.\n",
    "\n",
    "def find_min(fil, col, tri):\n",
    "    if fil == len(tri):#si la fila es iguala al cantidad de elementos devuelve 0\n",
    "        return 0    \n",
    "    else:\n",
    "        minimo = min(find_min(fil+1, col, tri),# utilizamos la funcion min y en ella una llamada recursiva\n",
    "                     find_min(fil+1, col+1, tri))\n",
    "        return (tri[fil][col],minimo)\n",
    "\n",
    "triangulo1 = [\n",
    "    [2],\n",
    "    [3,4],\n",
    "    [6,5,7], \n",
    "    [4,1,8,3]   \n",
    "]\n",
    "\n",
    "triangulo2 = [\n",
    "    [5],\n",
    "    [1,6],\n",
    "    [6,8,9], \n",
    "    [4,2,1,3]   \n",
    "]\n",
    "\n",
    "prueba = find_min(0,0,triangulo1)\n",
    "prueba2 = find_min(0,0,triangulo2)\n"
   ]
  },
  {
   "cell_type": "markdown",
   "id": "881569fc",
   "metadata": {},
   "source": [
    "# Actividad: Búsqueda binaria con iteración.\n",
    "\n",
    "\n",
    "## Instrucciones\n",
    "\n",
    "\n",
    "1. Replique el código mostrado en la unidad 31.\n",
    "\n",
    "2. Analice el código replicado y agregue una explicíon sonbre su funcionamiento.\n",
    "\n",
    "3. Explique por qué es necesario usar usar una función recursiva.\n",
    "\n",
    "4. Haga diferentes pruebas cambiando la entrada.\n"
   ]
  },
  {
   "cell_type": "code",
   "execution_count": null,
   "id": "0b1f525d",
   "metadata": {},
   "outputs": [],
   "source": [
    "# Espacio para desarrollar el código y agregar los comentarios necesarios.\n",
    "def bin_search2(nums, x, low, high):\n",
    "    if low > high:\n",
    "        return -1\n",
    "    else:\n",
    "        mid = (low + high) // 2\n",
    "        if nums[mid] == x:\n",
    "            return mid\n",
    "        elif nums[mid] > x:\n",
    "            return bin_search2(nums, x, low, mid - 1)\n",
    "        else:\n",
    "            return bin_search2(nums, x, mid + 1, high)\n",
    "\n",
    " # en este caso, no es estrictamente necesario usar recursividad para la búsqueda binaria, \n",
    " # pero puede ayudar a comprender mejor la división del problema.\n",
    " \n",
    "nums1 = [1, 2, 3, 4, 5, 6, 7, 8, 9, 10]\n",
    "nums2 = [10, 20, 30, 40, 50, 60, 70, 80, 90, 100]\n",
    "nums3 = [-10, -5, 0, 5, 10, 15, 20]\n",
    "\n",
    "print(bin_search2(nums1, 5, 0, len(nums1) - 1))  # Output: 4\n",
    "print(bin_search2(nums2, 70, 0, len(nums2) - 1))  # Output: 6\n",
    "print(bin_search2(nums3, 0, 0, len(nums3) - 1))   # Output: 2\n",
    "print(bin_search2(nums1, 11, 0, len(nums1) - 1))  # Output: -1 (no encontrado)\n",
    "print(bin_search2(nums2, 25, 0, len(nums2) - 1))  # Output: -1 (no encontrado)\n",
    "print(bin_search2(nums3, -7, 0, len(nums3) - 1))  # Output: -1 (no encontrado)"
   ]
  },
  {
   "cell_type": "markdown",
   "id": "1087c522",
   "metadata": {},
   "source": [
    " Actividad: Comparación entre programación dinámica y la metodología divide y venceras.\n",
    "\n",
    "\n",
    "## Instrucciones\n",
    "\n",
    "\n",
    "1. Enumera las diferencias entre los dos efoques.\n",
    "\n",
    "2. Nombre algunos casos donde funcionam mejor la programación dinámica.\n",
    "\n",
    "3. Nombre ejemplos donde es suficiente usar el enfoque divide y venceras.\n",
    "\n",
    "\n",
    "\n",
    "**Espación para desarrollar la actividad:**\n",
    "\n",
    "\n",
    "\n",
    "\n",
    "\n",
    "\n",
    "\n",
    "\n",
    "\n",
    "\n"
   ]
  },
  {
   "cell_type": "markdown",
   "id": "87602f6b",
   "metadata": {},
   "source": [
    "1. Diferencias:\n",
    "\n",
    "* Divide y vencerás resuelve problema por problema, la dinamica guarda los problemas de los resultados para evitar dobles cálculos.\n",
    "* Divide y vencerás divide el problema en problemas más pequeños, Programación dinamica busca soluciones globales. \n",
    "\n",
    "2. Casos donde funciona la programación dinamica:\n",
    "\n",
    "Problema de la Mochilad donde se busca maximizar el valor de los objetos dentro de una capacidad dada.\n",
    "\n",
    "Secuencias Comunes Más Largas\n",
    "\n",
    "Problema de la Cadena de Matrices para determinar la manera más eficiente de multiplicar una cadena de matrices.\n",
    "\n",
    "Problemas de Caminos Mínimos\n",
    "\n",
    "3. Casos donde funciona el enfoque Divide y Vencerás\n",
    "\n",
    "Búsqueda Binaria\n",
    "\n",
    "Ordenamiento Rápido (QuickSort):\n",
    "\n",
    "Ordenamiento por Mezcla (MergeSort): \n"
   ]
  }
 ],
 "metadata": {
  "kernelspec": {
   "display_name": "Python 3",
   "language": "python",
   "name": "python3"
  },
  "language_info": {
   "codemirror_mode": {
    "name": "ipython",
    "version": 3
   },
   "file_extension": ".py",
   "mimetype": "text/x-python",
   "name": "python",
   "nbconvert_exporter": "python",
   "pygments_lexer": "ipython3",
   "version": "3.12.6"
  }
 },
 "nbformat": 4,
 "nbformat_minor": 5
}
