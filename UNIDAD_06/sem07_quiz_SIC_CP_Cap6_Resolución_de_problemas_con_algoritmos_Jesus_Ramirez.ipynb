{
 "cells": [
  {
   "cell_type": "markdown",
   "id": "49909eb6",
   "metadata": {},
   "source": [
    "# Coding and Programming\n",
    "\n",
    "## Capítulo 6\n",
    "\n",
    "### Resolución de problemas con algoritmos\n",
    "\n",
    "- **Unidad 30.** Enfoque Greedy algoritmos voraces o ávidos.\n",
    "- **Unidad 31.** Divide y vencerás\n",
    "- **Unidad 32.** Programación dinámica\n",
    "- **Unidad 33.** Backtracking\n"
   ]
  },
  {
   "cell_type": "markdown",
   "id": "2e42031a",
   "metadata": {},
   "source": [
    "___"
   ]
  },
  {
   "cell_type": "markdown",
   "id": "780f0fff",
   "metadata": {},
   "source": [
    "## Q 30-01\n",
    "\n",
    "Este es el problema del intercambio de monedas.\n",
    "\n",
    "Tienes una moneda de 400 wones.\n",
    "\n",
    "Escriba el resultado de cómo el algoritmo `coin_change()` determina el cambio de la moneda de 800 wones.\n",
    "```\n",
    "coins  = [500, 400, 100, 50, 10]\n",
    "amount = int(input(\"Ingrese la cantidad: \"))\n",
    "changes= coin_change(coins, amount)\n",
    "print(changes, len(changes))\n",
    "\n",
    "Ingrese la cantidad: 800\n",
    "```"
   ]
  },
  {
   "cell_type": "markdown",
   "id": "8d0b8eb8",
   "metadata": {},
   "source": [
    "El algoritmo primero crea una lista llamada \"cambio\" en la que se guardarán las monedas que daremos por el cambio e inicializa una variable llamada \"mayor\" en 0.\n",
    "\n",
    "Luego iniciamos un while, mientras el amount sea mayor a 0 hace una verificación:\n",
    "\n",
    "Si la cantidad es menor al primer valor de nuestra lista de coins (cuyo primer valor es el más alto), entonces suma 1 a la  variable \"mayor\", en caso contrario en nuestra lista \"cambio\" agrega con append el valor de la lista \"coins\" con indice \"mayor\", luego a al amount le restamos el valor de la moneda que se encuentre en \"coins\" con indice \"mayor\".\n",
    "\n",
    "Cuando termine el while retornará la cantidad de monedas que recibirá el usuario."
   ]
  },
  {
   "cell_type": "markdown",
   "id": "ca15d3cf",
   "metadata": {},
   "source": [
    "___"
   ]
  },
  {
   "cell_type": "markdown",
   "id": "89395b47",
   "metadata": {},
   "source": [
    "## Q 31-01\n",
    "\n",
    "Tienes 8 monedas idénticas numeradas del 1 al 8. De estas, solo una moneda es más pesada que la otra.\n",
    "\n",
    "Suponiendo que puede pesar monedas con una balanza equilibrada, diseñe un algoritmo que encuentre la moneda más pesada.\n",
    "\n",
    "En este momento, ¿cuántas veces se debe usar al menos la balanza?"
   ]
  },
  {
   "cell_type": "markdown",
   "id": "8d05fa5e",
   "metadata": {},
   "source": []
  },
  {
   "cell_type": "markdown",
   "metadata": {},
   "source": [
    "Divimos las monedas 8 monedas en grupos dos grupos de 3 y uno de 2.\n",
    "\n",
    "Luego pesamos el grupo 1 con el grupo 2, si los dos grupos pesan igual entonces quiere decir que la moneda más pesada está en el grupo 3. Luego entonces pesar las 2 monedas restantes del grupo 3 para encontrar la más pesada.\n",
    "Total de balanzas: 2\n",
    "\n",
    "En caso de que el peso mayor se encuentre en los primeros grupos que pesamos, entonces se deben pesar cada elemento del grupo más pesado que encontramos para hallar la moneda más pesada. Si la primera modena del grupo más pesado pesa igual que la segunda del mismo grupo, entonces por descarte la moneda más pesada es la tercera.\n",
    "Total de balanzas: 2 "
   ]
  },
  {
   "cell_type": "markdown",
   "id": "9c37e736",
   "metadata": {},
   "source": [
    "___"
   ]
  },
  {
   "cell_type": "markdown",
   "id": "6f047403",
   "metadata": {},
   "source": [
    "## Q 31-02\n",
    "\n",
    "Hay nueve monedas idénticas numeradas del 1 al 9 en el problema anterior.\n",
    "\n",
    "Diseñe un algoritmo para encontrar una moneda pesada en este caso.\n",
    "\n",
    "En este momento, ¿cuántas veces se debe usar al menos la balanza?"
   ]
  },
  {
   "cell_type": "markdown",
   "id": "41e80a15",
   "metadata": {},
   "source": [
    "Dividimos las 9 monedas en 3 grupos de tres. \n",
    "\n",
    "Si pesamos los dos primeros grupos y pesan igual entonces inferimos que la moneda más pesada está en el tercer grupo. Luego medimos las primeras dos monedas del mismo, si las monedas pesan igual entonces la moneda más pesada es la tercera, en caso contrario es alguna de las dos primeras. \n",
    "Total de balanzas: 2\n",
    "\n",
    "Si pesamos las dos primeros grupos y no pesan igual entonces sabemos que la moneda está en el grupo más pesado. Luego debemos pesar cada moneda del grupo más pesado, si la primera moneda pesa igual que la segunda moneda entonces suponemos que la tercera moneda es la más pesada, en caso contrario la moneda más pesada será una de las dos primeras. \n",
    "Total de balanzas: 2"
   ]
  },
  {
   "cell_type": "markdown",
   "id": "0453c475",
   "metadata": {},
   "source": [
    "___"
   ]
  },
  {
   "cell_type": "markdown",
   "id": "881569fc",
   "metadata": {},
   "source": [
    "## Q 32-01\n",
    "\n",
    "Analice el resultado de la ejecución del siguiente código y compárelo con el rendimiento de las funciones `fib1()`, `fib2()` y `fib3()`.\n",
    "```\n",
    "def fib4(n):\n",
    "    if n <= 1:\n",
    "        return n\n",
    "    else:\n",
    "        a,b = 0,1\n",
    "        for i in range(2, n + 1):\n",
    "            a,b = b,a+b\n",
    "        return b\n",
    "\n",
    "N = int(input(\"Ingrese un numero: \"))\n",
    "print(fib4(N))\n",
    "\n",
    "\n",
    "Ingrese un numero:\n",
    "```\n"
   ]
  },
  {
   "cell_type": "markdown",
   "id": "25354b5c",
   "metadata": {},
   "source": []
  },
  {
   "cell_type": "markdown",
   "id": "60d998bd",
   "metadata": {},
   "source": [
    "___"
   ]
  },
  {
   "cell_type": "markdown",
   "id": "1087c522",
   "metadata": {},
   "source": [
    "## Q 32-02\n",
    "\n",
    "Analice el resultado de la ejecución del siguiente código y compárelo con el rendimiento de las funciones `bin1()` y `bin2()`.\n",
    "```\n",
    "def bin3(n,k):\n",
    "    B = [0] * (n + 1)\n",
    "    for i in range(n + 1):\n",
    "        for j in range(n, -1, -1):\n",
    "            if j==0 or j==i:\n",
    "                B[j] = 1\n",
    "            else:\n",
    "                B[j] = B[j] B[j-1]\n",
    "    return B[k]\n",
    "\n",
    "\n",
    "for i in range(10):\n",
    "    for j in range(i+1):\n",
    "        print(bin3(i,j),end=\" \")\n",
    "    print()\n",
    "```"
   ]
  },
  {
   "cell_type": "markdown",
   "id": "a0df2e98",
   "metadata": {},
   "source": []
  },
  {
   "cell_type": "markdown",
   "id": "7cef2a44",
   "metadata": {},
   "source": [
    "___"
   ]
  },
  {
   "cell_type": "markdown",
   "id": "d36e67d4",
   "metadata": {},
   "source": [
    "## Q 33-01\n",
    "\n",
    "Si reemplaza cada letra con un número en la siguiente letra, el número correspondiente a las cinco palabras son todos cuadrados.\n",
    "\n",
    "Para cada palabra, la suma de cada dígito también es un número cuadrado.\n",
    "\n",
    "Encuentra el número representado por cada letra.\n",
    "\n",
    "**Código de referencia:**"
   ]
  },
  {
   "cell_type": "code",
   "execution_count": null,
   "id": "13991ae0",
   "metadata": {},
   "outputs": [],
   "source": [
    "from math import sqrt, floor\n",
    "import time\n",
    "\n",
    "\n",
    "def is_square_digitsum(n):\n",
    "    S = 0\n",
    "    while n > 0:\n",
    "        s += n % 10\n",
    "        n // = 10\n",
    "    if sqrt(s) == int(sqrt(s)):\n",
    "        return True\n",
    "    return False\n",
    "\n",
    "\n",
    "def find_all_squares():\n",
    "    sqrs = [[] for _ in range(5)]\n",
    "    for i in range(1, floor (sqrt(10 ** 5)) + 1):\n",
    "        n = i * i\n",
    "        if not is_square_digitsum(n):\n",
    "            continue\n",
    "        s = str(n)\n",
    "        if len(s) == 3 and s[1] != s[2]:\n",
    "            continue\n",
    "        if len(s) == 5 and s[2] != s[3]:\n",
    "            continue\n",
    "        if len(s) in [4, 5] and len(set(s)) != 4:\n",
    "            continue\n",
    "        sqrs[len(s) - 1].append(n)\n",
    "    return sqrs\n",
    "\n",
    "\n",
    "def promising (s, n, dic):\n",
    "    for i in range(len(s)):\n",
    "        digit = int(str(n)[i])\n",
    "        for key, value in dic.items():\n",
    "            if key == s[i] and value != digit:\n",
    "                return False\n",
    "            if value == digit and key != s[i]:\n",
    "                return False\n",
    "    return True\n",
    "\n",
    "\n",
    "def solve(words, dic, squares):\n",
    "    global solved\n",
    "    if (len(words) == 0):\n",
    "        solved = dic\n",
    "    else:\n",
    "        s = words[0]\n",
    "        candidates = squares[len(s) - 1]\n",
    "        for n in candidates:\n",
    "            if promising(s, n, dic):\n",
    "                newdic = dic.copy()\n",
    "                for i in range(len(s)):\n",
    "                    newdic[s[i]] = int(str(n)[i])\n",
    "                solve(words [1:], newdic, squares)\n",
    "\n",
    "        \n",
    "def main():\n",
    "    squares = find_all_squares()\n",
    "    # print(squares)\n",
    "    words = ['A', 'TO', 'ALL', 'XMAS', 'MERRY']\n",
    "    dic = {}\n",
    "    solve (words, dic, squares)\n",
    "    for word in words:\n",
    "        print (word, end=\": \")\n",
    "        for c in word:\n",
    "            print(solved[c], end=\"\")\n",
    "        print()\n",
    "\n",
    "start = time.time()\n",
    "solved = {}\n",
    "main()\n",
    "end = time.time()\n",
    "print(\"Elapsed Time:\", end-start,\"seconds\")"
   ]
  },
  {
   "cell_type": "markdown",
   "id": "0a7153c2",
   "metadata": {},
   "source": []
  },
  {
   "cell_type": "markdown",
   "id": "d31d23cb",
   "metadata": {},
   "source": [
    "___"
   ]
  },
  {
   "cell_type": "markdown",
   "id": "c815e543",
   "metadata": {},
   "source": [
    "# Fin"
   ]
  }
 ],
 "metadata": {
  "kernelspec": {
   "display_name": "Python 3 (ipykernel)",
   "language": "python",
   "name": "python3"
  },
  "language_info": {
   "codemirror_mode": {
    "name": "ipython",
    "version": 3
   },
   "file_extension": ".py",
   "mimetype": "text/x-python",
   "name": "python",
   "nbconvert_exporter": "python",
   "pygments_lexer": "ipython3",
   "version": "3.10.12"
  }
 },
 "nbformat": 4,
 "nbformat_minor": 5
}
