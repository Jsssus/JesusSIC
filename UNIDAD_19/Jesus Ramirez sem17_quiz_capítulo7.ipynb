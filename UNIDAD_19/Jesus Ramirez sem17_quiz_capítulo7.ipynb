{
 "cells": [
  {
   "cell_type": "markdown",
   "id": "f34adb44",
   "metadata": {
    "id": "f34adb44"
   },
   "source": [
    "# Inteligencia Artificial\n",
    "\n",
    "## Capítulo 7\n",
    "\n",
    "### Procesamiento del lenguaje natural y modelos lingüísticos para la minería de textos\n",
    "\n",
    "- **Unidad 1.** Minería de textos\n",
    "- **Unidad 2.** Preprocesamiento de textos\n",
    "- **Unidad 3.** Modelo lingüístico\n",
    "- **Unidad 4.** Procesamiento del lenguaje natural con Keras\n",
    "\n",
    "# Quiz"
   ]
  },
  {
   "cell_type": "markdown",
   "id": "2e42031a",
   "metadata": {
    "id": "2e42031a"
   },
   "source": [
    "___"
   ]
  },
  {
   "cell_type": "markdown",
   "id": "ac1e9b02",
   "metadata": {
    "id": "ac1e9b02"
   },
   "source": [
    "## Q 07-01\n",
    "\n",
    "### ¿Cuál de las siguientes afirmaciones sobre la minería de textos es incorrecta?\n",
    "1. Puedes conocer la reacción ante un grupo específico.\n",
    "2. Se puede obtener información sobre oportunidades de ventas.\n",
    "3. Se pueden establecer estrategias competitivas monitoreando otras marcas.\n",
    "4. El mismo método se puede aplicar a varios idiomas."
   ]
  },
  {
   "cell_type": "markdown",
   "id": "903e6874",
   "metadata": {
    "id": "903e6874"
   },
   "source": [
    "4. El mismo método se puede aplicar a varios idiomas."
   ]
  },
  {
   "cell_type": "markdown",
   "id": "26e1df49",
   "metadata": {
    "id": "26e1df49"
   },
   "source": [
    "___"
   ]
  },
  {
   "cell_type": "markdown",
   "id": "87a3a925",
   "metadata": {
    "id": "87a3a925"
   },
   "source": [
    "## Q 07-02\n",
    "\n",
    "### ¿Cuál de las siguientes afirmaciones no es cierta sobre el uso de las redes sociales?\n",
    "1. Es posible saber de cuántos grupos está compuesta la red.\n",
    "2. Es posible conocer clientes influyentes.\n",
    "3. Es posible ver el cambio a lo largo del tiempo.\n",
    "4. Es posible saber si los clientes se irán la próxima vez."
   ]
  },
  {
   "cell_type": "markdown",
   "id": "62678495",
   "metadata": {
    "id": "62678495"
   },
   "source": [
    "4. Es posible saber si los clientes se irán la próxima vez."
   ]
  },
  {
   "cell_type": "markdown",
   "id": "203a055b",
   "metadata": {
    "id": "203a055b"
   },
   "source": [
    "___"
   ]
  },
  {
   "cell_type": "markdown",
   "id": "8c115f28",
   "metadata": {
    "id": "8c115f28"
   },
   "source": [
    "## Q 07-03\n",
    "\n",
    "### ¿Qué significa el término separar una raíz de una palabra cuya forma ha sido modificada para extraerla? ¿Cuál es la palabra que es objeto de análisis de morfemas?"
   ]
  },
  {
   "cell_type": "markdown",
   "id": "4b66252e",
   "metadata": {
    "id": "4b66252e"
   },
   "source": [
    "Separar una raíz de una palabra cuya forma ha sido modificada para extraerla se refiere al proceso de lema o lematización. La lematización consiste en reducir las palabras a su forma base o raíz, conocida como lema. Es un proceso fundamental en el procesamiento del lenguaje natural.\n",
    "\n",
    "Ahora, un morfema es la unidad mínima de significado en una palabra y puede ser una raíz, un prefijo, un sufijo, etc. Por ejemplo, en la palabra \"increíble\", \"in-\" es un prefijo, \"cre\" es la raíz y \"-ible\" es un sufijo."
   ]
  },
  {
   "cell_type": "markdown",
   "id": "7410bc11",
   "metadata": {
    "id": "7410bc11"
   },
   "source": [
    "___"
   ]
  },
  {
   "cell_type": "markdown",
   "id": "410f8980",
   "metadata": {
    "id": "410f8980"
   },
   "source": [
    "## Q 07-04\n",
    "\n",
    "### ¿Qué significa el término un conjunto de materiales que pueden mostrar los aspectos esenciales del lenguaje como material de investigación requerido en cada campo de la investigación del lenguaje?"
   ]
  },
  {
   "cell_type": "markdown",
   "id": "b239c413",
   "metadata": {
    "id": "b239c413"
   },
   "source": [
    "Un corpus lingüístico es una colección de textos escritos o transcripciones de discursos hablados que se utilizan para estudiar y analizar la estructura, función y uso del lenguaje. Los corpus pueden abarcar una variedad de géneros, registros y dialectos, y son fundamentales en la investigación lingüística, incluyendo el procesamiento del lenguaje natural, la lexicografía, la gramática y más."
   ]
  },
  {
   "cell_type": "markdown",
   "id": "ba019f33",
   "metadata": {
    "id": "ba019f33"
   },
   "source": [
    "___"
   ]
  },
  {
   "cell_type": "markdown",
   "id": "d4b76da3",
   "metadata": {
    "id": "d4b76da3"
   },
   "source": [
    "## Q 07-05\n",
    "\n",
    "### Explique sobre TF (Frecuencia de términos) y escriba cómo calcular TF (fórmula)."
   ]
  },
  {
   "cell_type": "markdown",
   "id": "20998ef3",
   "metadata": {
    "id": "20998ef3"
   },
   "source": [
    "TF (Frecuencia de Términos) es una medida utilizada en el procesamiento del lenguaje natural para cuantificar la frecuencia con la que un término aparece en un documento en relación con el número total de términos en ese documento. Esta métrica es fundamental para el análisis de texto y ayuda a identificar la relevancia de un término específico dentro de un documento. \n",
    "\n",
    "La formula consiste en una función de t en la que se divide el número de veces que el término t aparece en un documento y el número total de términos en el documento."
   ]
  },
  {
   "cell_type": "markdown",
   "id": "aa90491d",
   "metadata": {
    "id": "aa90491d"
   },
   "source": [
    "___"
   ]
  },
  {
   "cell_type": "markdown",
   "id": "ed04e881",
   "metadata": {
    "id": "ed04e881"
   },
   "source": [
    "## Fin"
   ]
  }
 ],
 "metadata": {
  "colab": {
   "provenance": []
  },
  "kernelspec": {
   "display_name": "Python 3 (ipykernel)",
   "language": "python",
   "name": "python3"
  },
  "language_info": {
   "codemirror_mode": {
    "name": "ipython",
    "version": 3
   },
   "file_extension": ".py",
   "mimetype": "text/x-python",
   "name": "python",
   "nbconvert_exporter": "python",
   "pygments_lexer": "ipython3",
   "version": "3.10.12"
  }
 },
 "nbformat": 4,
 "nbformat_minor": 5
}
