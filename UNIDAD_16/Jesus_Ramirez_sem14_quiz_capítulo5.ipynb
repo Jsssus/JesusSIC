{
 "cells": [
  {
   "cell_type": "markdown",
   "id": "f34adb44",
   "metadata": {},
   "source": [
    "# Inteligencia Artificial\n",
    "\n",
    "## Capítulo 5\n",
    "\n",
    "### Machine Learning / Aprendizaje Supervisado\n",
    "\n",
    "- **Unidad 1.** Análisis de datos basado en el aprendizaje automático\n",
    "- **Unidad 2.** Aplicación del modelo de aprendizaje supervisado para la predicción numérica\n",
    "- **Unidad 3.** Aplicación del modelo de aprendizaje supervisado para la clasificación\n",
    "- **Unidad 4.** Árbol de decisión\n",
    "- **Unidad 5.** Algoritmo Naïve Bayes (Algoritmo de predicción)\n",
    "- **Unidad 6.** Algoritmo KNN\n",
    "- **Unidad 7.** Algoritmo SVM\n",
    "- **Unidad 8.** Algoritmos Ensemble\n",
    "\n",
    "# Quiz"
   ]
  },
  {
   "cell_type": "markdown",
   "id": "2e42031a",
   "metadata": {},
   "source": [
    "___"
   ]
  },
  {
   "cell_type": "markdown",
   "id": "ac1e9b02",
   "metadata": {},
   "source": [
    "## Q 05-01\n",
    "\n",
    "### ¿Cuál de las siguientes afirmaciones sobre el aprendizaje supervisado es incorrecta?\n",
    "\n",
    "1. El aprendiz supervisado debe hacer predicciones correctamente con los datos dados a partir de los datos de entrenamiento.\n",
    "2. La precisión es la relación entre lo que el modelo clasifica como verdadero y lo que realmente clasifica como verdadero. A esto se le puede llamar la tasa de respuesta.\n",
    "3. La relación de recuerdo es la relación entre lo que el modelo predice que es verdadero y lo que es realmente cierto.\n",
    "4. La relación de recuperación se calcula como $\\frac{tp}{tp+fp}$. (donde $tp$ es verdadero positivo y $fp$ es falso positivo).\n",
    "\n",
    "**Respuesta:**"
   ]
  },
  {
   "cell_type": "markdown",
   "id": "903e6874",
   "metadata": {},
   "source": [
    "La 4 es incorrecta.\n",
    "\n",
    "La relación de recuperación se calcula como $\\frac{tp}{tp+fp}$. (donde $tp$ es verdadero positivo y $fp$ es falso positivo)."
   ]
  },
  {
   "cell_type": "markdown",
   "id": "26e1df49",
   "metadata": {},
   "source": [
    "___"
   ]
  },
  {
   "cell_type": "markdown",
   "id": "87a3a925",
   "metadata": {},
   "source": [
    "## Q 05-02\n",
    "\n",
    "### ¿Cuál es el método de estimación de los coeficientes de regresión en el análisis de regresión?"
   ]
  },
  {
   "cell_type": "markdown",
   "id": "62678495",
   "metadata": {},
   "source": [
    "El método comúnmente utilizado para estimar los coeficientes de regresión en el análisis de regresión es el método de mínimos cuadrados ordinarios"
   ]
  },
  {
   "cell_type": "markdown",
   "id": "203a055b",
   "metadata": {},
   "source": [
    "___"
   ]
  },
  {
   "cell_type": "markdown",
   "id": "8c115f28",
   "metadata": {},
   "source": [
    "## Q 05-03\n",
    "\n",
    "### ¿Cuál de las siguientes afirmaciones sobre el sobreajuste es incorrecta?\n",
    "\n",
    "1. Una característica de un patrón que se encuentra en un conjunto de datos específico que existe solo en ese conjunto de datos, o una característica de un patrón que no se generaliza y existe solo en un dato específico se denomina sobreajuste\n",
    "2. Los métodos de extracción utilizados para resolver el problema de sobreajuste incluyen el método de exclusión, el método de validación cruzada, el método de arranque, etc.\n",
    "3. En el método de reserva, la validación cruzada se realiza dividiendo los datos de entrenamiento para el aprendizaje y la construcción del modelo y los datos de verificación para la evaluación del desempeño, y los resultados de los datos de verificación se usan solo para la medición del desempeño sin afectar el modelo.\n",
    "4. El método de validación cruzada es un método para volver a seleccionar datos de entrenamiento repetidamente y en función de la extracción de restauración, y es adecuado cuando la cantidad total de datos no es grande.\n",
    "\n",
    "**Respuesta:**"
   ]
  },
  {
   "cell_type": "markdown",
   "id": "4b66252e",
   "metadata": {},
   "source": [
    "La afirmación incorrecta es la 4"
   ]
  },
  {
   "cell_type": "markdown",
   "id": "7410bc11",
   "metadata": {},
   "source": [
    "___"
   ]
  },
  {
   "cell_type": "markdown",
   "id": "410f8980",
   "metadata": {},
   "source": [
    "## Q 05-04\n",
    "\n",
    "### ¿Cuál de las siguientes afirmaciones sobre el modelo de árbol de decisión es incorrecta?\n",
    "\n",
    "1. Los árboles de decisión se utilizan para la predicción de quiebras corporativas, la predicción del tope del precio de las acciones, la predicción del tipo de cambio y la predicción de las perspectivas económicas.\n",
    "2. El algoritmo CHAID (detección automática de interacción chi-cuadrado) es un algoritmo que realiza la separación mediante la prueba chi-cuadrado o F.\n",
    "3. El algoritmo CART (árboles de clasificación y regresión) es un algoritmo que realiza la separación utilizando el índice Gini, y 100 representa un nodo perfectamente puro entre 0 y 100.\n",
    "4. El índice de entropía del algoritmo C4.5 se puede obtener utilizando la estadística de prueba de razón de verosimilitud en la distribución polinómica y restando la entropía del nodo hijo de la entropía del nodo padre.\n",
    "\n",
    "**Respuesta:**"
   ]
  },
  {
   "cell_type": "markdown",
   "id": "b239c413",
   "metadata": {},
   "source": [
    "La afirmación incorrecta es la 3"
   ]
  },
  {
   "cell_type": "markdown",
   "id": "ba019f33",
   "metadata": {},
   "source": [
    "___"
   ]
  },
  {
   "cell_type": "markdown",
   "id": "d4b76da3",
   "metadata": {},
   "source": [
    "## Q 05-05\n",
    "\n",
    "### Cuando entrené un clasificador SVM usando el kernel RBF, parece no adaptarse al conjunto de entrenamiento. ¿Deberíamos aumentar o disminuir gamma? ¿Qué pasa con C?\n"
   ]
  },
  {
   "cell_type": "markdown",
   "id": "20998ef3",
   "metadata": {},
   "source": [
    "Aumentar gamma puede ayudar a que el modelo capture mejor las relaciones complejas en los datos de entrenamiento.\n",
    "\n",
    "Aumentar C reduce la tolerancia a los errores en el conjunto de entrenamiento y puede mejorar el ajuste del modelo."
   ]
  },
  {
   "cell_type": "markdown",
   "id": "aa90491d",
   "metadata": {},
   "source": [
    "___"
   ]
  },
  {
   "cell_type": "markdown",
   "id": "ed04e881",
   "metadata": {},
   "source": [
    "## Fin"
   ]
  }
 ],
 "metadata": {
  "kernelspec": {
   "display_name": "Python 3 (ipykernel)",
   "language": "python",
   "name": "python3"
  },
  "language_info": {
   "codemirror_mode": {
    "name": "ipython",
    "version": 3
   },
   "file_extension": ".py",
   "mimetype": "text/x-python",
   "name": "python",
   "nbconvert_exporter": "python",
   "pygments_lexer": "ipython3",
   "version": "3.10.12"
  }
 },
 "nbformat": 4,
 "nbformat_minor": 5
}
