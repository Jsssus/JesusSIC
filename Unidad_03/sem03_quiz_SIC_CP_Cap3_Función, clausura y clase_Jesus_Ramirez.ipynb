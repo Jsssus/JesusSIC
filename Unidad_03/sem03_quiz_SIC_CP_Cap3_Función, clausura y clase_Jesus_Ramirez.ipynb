{
 "cells": [
  {
   "cell_type": "markdown",
   "id": "5ad8356f",
   "metadata": {},
   "source": [
    "# Coding and Programming\n",
    "\n",
    "## Capítulo 3\n",
    "\n",
    "### Función, clausura y clase\n",
    "\n",
    "- **Unidad 17.** Función\n",
    "- **Unidad 18.** Llamada a la función de recurrencia.\n",
    "- **Unidad 19.** Lambda\n",
    "- **Unidad 20.** Clausura\n",
    "- **Unidad 21.** Clase\n",
    "\n",
    "# Quiz 3"
   ]
  },
  {
   "cell_type": "markdown",
   "id": "a94ec368",
   "metadata": {},
   "source": [
    "___"
   ]
  },
  {
   "cell_type": "markdown",
   "id": "a11871f3",
   "metadata": {},
   "source": [
    "## Q 17-01\n",
    "\n",
    "Reciba las coordenadas `(x1, y1), (x2, y2)` de dos puntos del usuario e imprima la distancia entre los dos puntos de la siguiente manera. Para hacer esto, implemente la función `distancia(x1, y1, x2, y2)`.\n",
    "\n",
    "\n",
    "**Pauta de código:** consulte la fórmula para encontrar la distancia entre dos puntos.\n"
   ]
  },
  {
   "cell_type": "code",
   "execution_count": null,
   "id": "dce83d7a",
   "metadata": {},
   "outputs": [],
   "source": [
    "import math\n",
    "\n",
    "#Definimos la función distancia\n",
    "def distancia(x1, y1, x2, y2):\n",
    "    return math.sqrt((x2 - x1)**2 + (y2 - y1)**2)\n",
    "\n",
    "#Ejemplo usado la funcion\n",
    "x1, y1 = 3, 4\n",
    "x2, y2 = 7, 1\n",
    "print(f\"La distancia entre los puntos de ({x1}, {y1}) y ({x2}, {y2}) es {distancia(x1, y1, x2, y2):.2f}\")\n"
   ]
  },
  {
   "cell_type": "markdown",
   "id": "19848cf5",
   "metadata": {},
   "source": []
  },
  {
   "cell_type": "markdown",
   "id": "a207d974",
   "metadata": {},
   "source": [
    "## Q 18-01\n",
    "\n",
    "Un palíndromo es una oración, palabra o cadena que es lo mismo que leer cualquier carácter de forma consecutiva.\n",
    "\n",
    "Por ejemplo, hay palabras como level, kayak, salas, somos, radar, reconocer.\n",
    "\n",
    "Usemos una llamada recursiva para determinar el palíndromo.\n",
    "\n",
    "Defina una función llamada `is_palindrome` y escriba un programa que reciba una cadena del usuario e imprima si el palindrome es correcto o no.\n",
    "\n",
    "**Pauta de código:** Llame a la función `is_palindrome` dentro de la función `is_palindrome`"
   ]
  },
  {
   "cell_type": "code",
   "execution_count": null,
   "id": "d7825109",
   "metadata": {},
   "outputs": [],
   "source": [
    "#definimos la funcion\n",
    "def is_palindrome(s):\n",
    "    #si la cadena tiene 0 o 1 caracteres, es un palíndromo\n",
    "    if len(s) <= 1:\n",
    "        return True\n",
    "    # Si el primer y último carácter diferentes, entonces no es un palíndromo\n",
    "    if s[0] != s[-1]:\n",
    "        return False\n",
    "    # Llamada recursiva: comprobar la subcadena sin el primer y último carácter\n",
    "    return is_palindrome(s[1:-1])\n",
    "\n",
    "cadena = input(\"Introduce una palabra: \").lower()\n",
    "if is_palindrome(cadena):\n",
    "    print(f\"La palabra '{cadena}' es un palíndromo.\")\n",
    "else:\n",
    "    print(f\"La palabra '{cadena}' no es un palíndromo.\")\n"
   ]
  },
  {
   "cell_type": "markdown",
   "id": "fbfb4985",
   "metadata": {},
   "source": [
    "## Q 19-01\n",
    "\n",
    "\n",
    "Después de poner una lista llamada `n_list` con valores de `[10, 20, 30]` en la función `map`.\n",
    "\n",
    "```\n",
    "n_list = [10,20,30]\n",
    "twice  = list(map(lambda x: x*2, n_list))\n",
    "triple = list(map(lambda x: x*3, n_list))\n",
    "```\n",
    "\n",
    "Indique el contenido de las variables `twice` y `triple`."
   ]
  },
  {
   "cell_type": "code",
   "execution_count": null,
   "id": "2cdc7344",
   "metadata": {},
   "outputs": [],
   "source": [
    "n_list = [10, 20, 30]\n",
    "twice  = list(map(lambda x: x*2, n_list))\n",
    "triple = list(map(lambda x: x*3, n_list))\n",
    "\n",
    "print(f\"twice: {twice}\")   # Salida: twice: [20, 40, 60]\n",
    "print(f\"triple: {triple}\") # Salida: triple: [30, 60, 90]\n"
   ]
  },
  {
   "cell_type": "markdown",
   "id": "98938d2d",
   "metadata": {},
   "source": [
    "## Q 20-01\n",
    "\n",
    "En el siguiente código, espere qué valor se incluye finalmente en `num_list`. Calcule el resultado esperado a mano.\n",
    "\n",
    "**Pauta de codificación:** Escriba 5 veces la declaración `for`. Espere este resultado y envíe el resultado.\n",
    "\n",
    "```\n",
    "def calc_digit(n):\n",
    "    def findal(digit):\n",
    "        return digit**n\n",
    "    return final\n",
    "\n",
    "num_list = []\n",
    "for num in range(1,6):\n",
    "    num_list.append( calc_digit(num) )\n",
    "    print( num_list[num-1](num) )\n",
    "```"
   ]
  },
  {
   "cell_type": "markdown",
   "id": "fcde558f",
   "metadata": {},
   "source": [
    "1\n",
    "4\n",
    "27\n",
    "256\n",
    "3125\n"
   ]
  },
  {
   "cell_type": "markdown",
   "id": "d3ece88b",
   "metadata": {},
   "source": [
    "## Q 21-01\n",
    "\n",
    "Implemente las funciones de multiplicación (*) y división (/) de dos vectores usando los métodos `mul` y `truediv` aprendidos en la **unidad 21**. Suponiendo que `v1` es `(30, 40)` y `v2` es `(10, 20)`, codifique (escriba la declaración de salida) para devolver el siguiente resultado como resultado de la multiplicación y división de dos vectores.\n",
    "\n",
    "\n",
    "**Pauta de codificación:** escriba código que amplíe la funcionalidad de la clase `Vector2D` que aprendió en este capítulo."
   ]
  },
  {
   "cell_type": "code",
   "execution_count": null,
   "id": "1d58d47c",
   "metadata": {},
   "outputs": [],
   "source": [
    "class Vector2D:\n",
    "    def __init__(self, x, y):\n",
    "        self.x = x\n",
    "        self.y = y\n",
    "\n",
    "    def __mul__(self, other):\n",
    "        if isinstance(other, Vector2D):\n",
    "            return Vector2D(self.x * other.x, self.y * other.y)\n",
    "        else:\n",
    "            raise TypeError(\"Multiplicación no soportada entre instancias de 'Vector2D' y '{}'\".format(type(other)))\n",
    "\n",
    "    def __truediv__(self, other):\n",
    "        if isinstance(other, Vector2D):\n",
    "            return Vector2D(self.x / other.x, self.y / other.y)\n",
    "        else:\n",
    "            raise TypeError(\"División no soportada entre instancias de 'Vector2D' y '{}'\".format(type(other)))\n",
    "\n",
    "    def __repr__(self):\n",
    "        return f\"Vector2D({self.x}, {self.y})\"\n",
    "\n",
    "# Ejemplo de uso\n",
    "v1 = Vector2D(30, 40)\n",
    "v2 = Vector2D(10, 20)\n",
    "\n",
    "# Multiplicación de vectores\n",
    "multiplicacion = v1 * v2\n",
    "print(f\"Multiplicación: {multiplicacion}\")\n",
    "\n",
    "# División de vectores\n",
    "division = v1 / v2\n",
    "print(f\"División: {division}\")\n"
   ]
  },
  {
   "cell_type": "markdown",
   "id": "2717ce09",
   "metadata": {},
   "source": [
    "___"
   ]
  },
  {
   "cell_type": "markdown",
   "id": "10514335",
   "metadata": {},
   "source": [
    "# Fin"
   ]
  }
 ],
 "metadata": {
  "kernelspec": {
   "display_name": "Python 3",
   "language": "python",
   "name": "python3"
  },
  "language_info": {
   "codemirror_mode": {
    "name": "ipython",
    "version": 3
   },
   "file_extension": ".py",
   "mimetype": "text/x-python",
   "name": "python",
   "nbconvert_exporter": "python",
   "pygments_lexer": "ipython3",
   "version": "3.12.6"
  }
 },
 "nbformat": 4,
 "nbformat_minor": 5
}
