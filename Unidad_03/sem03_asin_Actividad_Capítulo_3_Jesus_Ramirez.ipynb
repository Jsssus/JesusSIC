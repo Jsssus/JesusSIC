{
 "cells": [
  {
   "cell_type": "markdown",
   "id": "5ad8356f",
   "metadata": {},
   "source": [
    "# Actividades Capítulo 3.\n",
    "\n",
    "\n",
    "# Concepto básico de programación e inicio en Python\n",
    "\n",
    "## Resumen de actividades\n",
    "\n",
    "\n",
    "- **Unidad 17.** Función\n",
    "- **Unidad 18.** Llamada a la función de recurrencia.\n",
    "- **Unidad 19.** Lambda\n",
    "- **Unidad 20.** Clausura\n",
    "- **Unidad 21.** Clase\n"
   ]
  },
  {
   "cell_type": "markdown",
   "id": "8c5aa9c8",
   "metadata": {},
   "source": [
    "# Actividad: Creacion de funciones.\n",
    "\n",
    "\n",
    "## Instrucciones\n",
    "\n",
    "1. Defina en forma breve el concepto de función.\n",
    "\n",
    "2. Crear una función para realizar la suma de los números impares en el rango de 0 a 100, dentro de la función imprima los valores sumados y al final retorne el resultado de la sumatoria.\n"
   ]
  },
  {
   "cell_type": "code",
   "execution_count": null,
   "id": "90cd2e33",
   "metadata": {},
   "outputs": [],
   "source": [
    "# Espacio para desarrollar el código requerido, recuerde agregar algunos\n",
    "# comentarios breves sobre su funcionamiento.\n",
    "\n",
    "#una funcion es un codigo que podemos reutiizar varias veces al llamarlo por un nombre previamente establecido\n",
    "\n",
    "#Creamos la funcion\n",
    "def suma_impares():\n",
    "    suma = 0\n",
    "    for numero in range(1, 101, 2):  # Itera solo sobre números impares\n",
    "        print(f\"Sumando: {numero}\")\n",
    "        suma += numero\n",
    "    return suma\n",
    "\n",
    "resultado = suma_impares()\n",
    "print(f\"La suma de los números impares de 0 a 100 es: {resultado}\")"
   ]
  },
  {
   "cell_type": "markdown",
   "id": "a11871f3",
   "metadata": {},
   "source": [
    "# Actividad: Diseñe una función para codificar strings y otra para decodificar strings.\n",
    "\n",
    "1. Revise documentación relacionada a los procesos de encriptación, explique brevemente como funcionan.\n",
    "2. Ambas funciones deben tener como entrada un string y una ¨Clave\", la ¨Clave¨ será usada para codificar y decodificar.\n",
    "3. El desarrollo de está actividad esta abierto a multiples soluciones, por favor sea original en su respuesta.\n"
   ]
  },
  {
   "cell_type": "code",
   "execution_count": 16,
   "id": "1e7a5371",
   "metadata": {},
   "outputs": [
    {
     "name": "stdout",
     "output_type": "stream",
     "text": [
      "Mensaje encriptado: Krod Pxqgr\n",
      "Mensaje desencriptado: Hola Mundo\n"
     ]
    }
   ],
   "source": [
    "# Espacio para desarrollar la actividad, si tienes alguna duda o comentario adicional\n",
    "# lo puedes dejar planteado acá.\n",
    "\n",
    "\n",
    "\n",
    "#Encriptacion \n",
    "def encriptar(mensaje, clave):\n",
    "    resultado = \"\"\n",
    "    for char in mensaje:\n",
    "        if char.isalpha():\n",
    "            desplazamiento_base = 65 if char.isupper() else 97\n",
    "            resultado += chr((ord(char) - desplazamiento_base + clave) % 26 + desplazamiento_base)\n",
    "        else:\n",
    "            resultado += char\n",
    "    return resultado\n",
    "\n",
    "\n",
    "#Desencriptacion\n",
    "def desencriptar(mensaje, clave):\n",
    "    resultado = \"\"\n",
    "    for char in mensaje:\n",
    "        if char.isalpha():\n",
    "            desplazamiento_base = 65 if char.isupper() else 97\n",
    "            resultado += chr((ord(char) - desplazamiento_base - clave) % 26 + desplazamiento_base)\n",
    "        else:\n",
    "            resultado += char\n",
    "    return resultado\n",
    "\n",
    "\n",
    "mensaje = \"Hola Mundo\"\n",
    "clave = 3\n",
    "\n",
    "# Encriptar el mensaje\n",
    "mensaje_cifrado = encriptar(mensaje, clave)\n",
    "print(f\"Mensaje encriptado: {mensaje_cifrado}\")\n",
    "\n",
    "# Desencriptar el mensaje\n",
    "mensaje_descifrado = desencriptar(mensaje_cifrado, clave)\n",
    "print(f\"Mensaje desencriptado: {mensaje_descifrado}\")\n"
   ]
  },
  {
   "cell_type": "markdown",
   "id": "a207d974",
   "metadata": {},
   "source": [
    "\n",
    "# Actividad: Diseñe y codifique una función.\n",
    "\n",
    "1. Diseñe una función que revise el contenido de una carpeta, la mision de esta funcion es revisar todas las carpetas existentes y obtener los nommbres de los archivos contenidos.\n",
    "2. Considere que dentro de cada carpete pueden existir otras carpetas.\n",
    "3. Todas las carpetas deben ser revisadas.\n",
    "4. Con la ejecucion de la siguiente celda se crearan las carpetas y los archivos.\n",
    "5. Es posible que debas considerar el uso de una función recursiva."
   ]
  },
  {
   "cell_type": "code",
   "execution_count": 18,
   "id": "b4ac1d5a",
   "metadata": {},
   "outputs": [
    {
     "name": "stdout",
     "output_type": "stream",
     "text": [
      "Carpeta_principal\n"
     ]
    }
   ],
   "source": [
    "import os\n",
    "import random\n",
    "\n",
    "def guardar_archivo(text_content, file_path):\n",
    "    with open(file_path, 'w') as file:\n",
    "        file.write(text_content)\n",
    "\n",
    "# Eliminar la carpeta si ya existe\n",
    "if os.path.exists(\"Carpeta_principal\"):\n",
    "    os.system('rm -r \"Carpeta_principal\"')\n",
    "\n",
    "# Crear la carpeta principal\n",
    "os.mkdir(\"Carpeta_principal\")\n",
    "\n",
    "# Inicialización de variables globales\n",
    "max_carpetas = 4\n",
    "numeracion_del_archivo = 0\n",
    "numero_de_sub_carpetas = 0\n",
    "\n",
    "def crear_carpetas(ruta_actual):\n",
    "    global numeracion_del_archivo, numero_de_sub_carpetas\n",
    "    numero_de_archivos_o_carpetas = random.randint(0, 15)  # Generación de número aleatorio entre 0 y 15.\n",
    "    print(ruta_actual)\n",
    "    if numero_de_sub_carpetas < max_carpetas:\n",
    "        for n in range(numero_de_archivos_o_carpetas):\n",
    "            numero_aleatorio_2 = random.randint(0, 2)  # Número aleatorio entre 0 y 2.\n",
    "            if numero_aleatorio_2 == 0:\n",
    "                nueva_carpeta = os.path.join(ruta_actual, f'folder_{n}')\n",
    "                os.mkdir(nueva_carpeta)\n",
    "                print(nueva_carpeta)\n",
    "            else:\n",
    "                contenido_del_archivo = f\"Contenido_{numeracion_del_archivo}\"\n",
    "                ruta_del_archivo = os.path.join(ruta_actual, f\"archivo_{numeracion_del_archivo}.txt\")\n",
    "                guardar_archivo(contenido_del_archivo, ruta_del_archivo)\n",
    "                numeracion_del_archivo += 1\n",
    "\n",
    "        lista_de_nuevas_carpetas = [f.path for f in os.scandir(ruta_actual) if f.is_dir()]  # Búsqueda de nuevas carpetas\n",
    "\n",
    "        numero_de_sub_carpetas += 1\n",
    "        for carpeta in lista_de_nuevas_carpetas:\n",
    "            crear_carpetas(carpeta)\n",
    "\n",
    "# Ruta inicial\n",
    "ruta_actual = \"Carpeta_principal\"\n",
    "crear_carpetas(ruta_actual)\n"
   ]
  },
  {
   "cell_type": "code",
   "execution_count": 19,
   "id": "a4f925a4",
   "metadata": {},
   "outputs": [
    {
     "name": "stdout",
     "output_type": "stream",
     "text": [
      "Carpeta_principal\\archivo_0.txt\n"
     ]
    }
   ],
   "source": [
    "# Celda para desarrollar \n",
    "import os\n",
    "\n",
    "def listar_archivos(ruta):\n",
    "    archivos = []\n",
    "    for entrada in os.scandir(ruta):\n",
    "        if entrada.is_file():\n",
    "            archivos.append(entrada.path)\n",
    "        elif entrada.is_dir():\n",
    "            archivos.extend(listar_archivos(entrada.path))\n",
    "    return archivos\n",
    "\n",
    "# Usar la función para listar todos los archivos en \"Carpeta_principal\"\n",
    "ruta_principal = \"Carpeta_principal\"\n",
    "archivos_encontrados = listar_archivos(ruta_principal)\n",
    "\n",
    "# Imprimir los nombres de los archivos encontrados\n",
    "for archivo in archivos_encontrados:\n",
    "    print(archivo)\n",
    "\n"
   ]
  },
  {
   "cell_type": "markdown",
   "id": "26a6bb9e",
   "metadata": {},
   "source": [
    "# Actividad: Crear diccionarios y guardarlos como archivo JSON.\n",
    "\n",
    "De la unidad 11 sección 4.6 revise el ejemplo mostrado.\n",
    "\n",
    "Genera un diccionario, sobre la información que deseas guardar como base de datos, desarrollo el código necesario para generar el archivo JSON, y también el código para cargar la información del archivo JSON.\n"
   ]
  },
  {
   "cell_type": "code",
   "execution_count": null,
   "id": "6670eace",
   "metadata": {},
   "outputs": [],
   "source": [
    "# Espacio para desarrollar el código siguiendo las instrucciones.\n",
    "\n",
    "# Crear el diccionario\n",
    "base_de_datos = {\n",
    "    \"usuarios\": [\n",
    "        {\"id\": 1, \"nombre\": \"Juan\", \"edad\": 30, \"ciudad\": \"Caracas\"},\n",
    "        {\"id\": 2, \"nombre\": \"Ana\", \"edad\": 25, \"ciudad\": \"Maracaibo\"},\n",
    "        {\"id\": 3, \"nombre\": \"Luis\", \"edad\": 35, \"ciudad\": \"Valencia\"}\n",
    "    ]\n",
    "}\n",
    "\n",
    "import json\n",
    "\n",
    "# Guardar el diccionario en un archivo JSON\n",
    "with open('base_de_datos.json', 'w') as archivo:\n",
    "    json.dump(base_de_datos, archivo, indent=4)\n",
    "\n",
    "print(\"El diccionario se ha guardado en 'base_de_datos.json'\")\n",
    "\n",
    "\n"
   ]
  },
  {
   "cell_type": "markdown",
   "id": "fbfb4985",
   "metadata": {},
   "source": [
    "# Actividad: Uso de la funcion Lambda.\n",
    "\n",
    "## Instrucciones\n",
    "\n",
    "1. Escriba una función regular donde se realice una operación.\n",
    "2. Escriba la misma función donde use la expresión lambda.\n",
    "3. Explica brevemente las ventajas de usar la función Lambda.\n"
   ]
  },
  {
   "cell_type": "code",
   "execution_count": 13,
   "id": "fc5b1a43",
   "metadata": {},
   "outputs": [
    {
     "name": "stdout",
     "output_type": "stream",
     "text": [
      "[('Pedro', 18), ('Joel', 19), ('Jesus', 20)]\n",
      "[('Pedro', 18), ('Joel', 19), ('Jesus', 20)]\n"
     ]
    }
   ],
   "source": [
    "# Espacio para desarrollar el código siguiendo las instrucciones.\n",
    "\n",
    "#Expresión Regular para ordenar una lista de estudiantes de menor a mayor según las notas \n",
    "def retorno(estudiante):\n",
    "    return estudiante[1]\n",
    "\n",
    "lista_estudiantes = [\n",
    "    ('Jesus', 20),\n",
    "    ('Joel', 19),\n",
    "    ('Pedro', 18)]\n",
    "\n",
    "lista_ordenada = sorted(lista_estudiantes, key = retorno)\n",
    "print(lista_ordenada)\n",
    "\n",
    "#Expresión Lambda \n",
    "\n",
    "lista_estudiantes = [\n",
    "    ('Jesus', 20),\n",
    "    ('Joel', 19),\n",
    "    ('Pedro', 18)]\n",
    "\n",
    "lista_ordenada = sorted(lista_estudiantes, key = lambda x: x[1])\n",
    "print(lista_ordenada)\n",
    "\n",
    "#La ventaja es que nos permite crear una función que solo usaremos una vez de forma anónima \n",
    "\n",
    "\n"
   ]
  },
  {
   "cell_type": "markdown",
   "id": "98938d2d",
   "metadata": {},
   "source": [
    "# Actividad: Usar la función map para duplicar el valor de cada uno de los elementos contenidos.\n",
    "\n",
    "## Instrucciones\n",
    "\n",
    "1. Describa brevemente el funcionamiento y las ventajas de usar la función map\n",
    "2. Escriba el código en el siguiente espacio."
   ]
  },
  {
   "cell_type": "code",
   "execution_count": null,
   "id": "a35ef1b7",
   "metadata": {},
   "outputs": [],
   "source": [
    "# Espacio para desarrollar el código.\n",
    "\n",
    "# Map permite que a cada elemento de un objeto iterable el podamos aplicar una funcion \n",
    "\n",
    "#ejemplo\n",
    "palabras = [\"hola\", \"mundo\", \"python\"]\n",
    "mayusculas = map(str.upper, palabras)\n",
    "print(list(mayusculas))  \n",
    "\n",
    "\n",
    "\n",
    "\n"
   ]
  }
 ],
 "metadata": {
  "kernelspec": {
   "display_name": "Python 3",
   "language": "python",
   "name": "python3"
  },
  "language_info": {
   "codemirror_mode": {
    "name": "ipython",
    "version": 3
   },
   "file_extension": ".py",
   "mimetype": "text/x-python",
   "name": "python",
   "nbconvert_exporter": "python",
   "pygments_lexer": "ipython3",
   "version": "3.12.6"
  }
 },
 "nbformat": 4,
 "nbformat_minor": 5
}
