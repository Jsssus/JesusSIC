{
 "cells": [
  {
   "cell_type": "code",
   "execution_count": 7,
   "metadata": {},
   "outputs": [
    {
     "name": "stdout",
     "output_type": "stream",
     "text": [
      "El saldo de la cuenta de Jesus es de 0\n",
      "se ha ingresado 20000 y el saldo es 20000\n",
      "El saldo de la cuenta de Jesus es de 20000\n",
      "El saldo de la cuenta de Jesus es de 17500\n",
      "el saldo restante de la cuenta es 17500 y es inferior al monto solicitado 30000\n"
     ]
    }
   ],
   "source": [
    "#crearemos una app de banco\n",
    "class BankAccount:\n",
    "    def __init__(self, name, account_num, balance = 0):\n",
    "        self.name = name \n",
    "        self.account_num = account_num\n",
    "        self.balance = balance\n",
    "        \n",
    "    def get_name(self):\n",
    "        return self.name   \n",
    "    \n",
    "    def get_account_num(self):\n",
    "        return self.account_num\n",
    "    \n",
    "    def get_balance(self):\n",
    "        return self.balance\n",
    "    \n",
    "    def deposit(self, amount):\n",
    "        self.balance += amount\n",
    "        print(f'se ha ingresado {amount} y el saldo es {self.balance}')    \n",
    "        return self.balance\n",
    "    \n",
    "    def withdraw(self, amount):\n",
    "        if self.balance - amount > 0:\n",
    "            self.balance -= amount\n",
    "        else:\n",
    "            print(f'el saldo restante de la cuenta es {self.balance} y es inferior al monto solicitado {amount}')\n",
    "            \n",
    "    def __str__(self):\n",
    "        return f'El saldo de la cuenta de {self.name} es de {self.balance}'\n",
    "\n",
    "\n",
    "account1 = BankAccount('Jesus', 29572677)\n",
    "print(account1)\n",
    "account1.deposit(20000)\n",
    "print(account1)\n",
    "account1.withdraw(2500)\n",
    "print(account1)\n",
    "account1.withdraw(30000)"
   ]
  },
  {
   "cell_type": "code",
   "execution_count": 18,
   "metadata": {},
   "outputs": [
    {
     "name": "stdout",
     "output_type": "stream",
     "text": [
      "Bingo: woof woof\n"
     ]
    }
   ],
   "source": [
    "class Perro():\n",
    "    \n",
    "    def __init__(self,name):\n",
    "        self.name = name\n",
    "    \n",
    "    def ladrido(self):\n",
    "        print(f'{self.name}: woof woof')\n",
    "\n",
    "mi_perro = Perro('Bingo')\n",
    "\n",
    "mi_perro.ladrido()"
   ]
  },
  {
   "cell_type": "code",
   "execution_count": 15,
   "metadata": {},
   "outputs": [
    {
     "name": "stdout",
     "output_type": "stream",
     "text": [
      "el estudiante jesus id: 29572677\n"
     ]
    },
    {
     "data": {
      "text/plain": [
       "'el average de jesus es 17.0'"
      ]
     },
     "execution_count": 15,
     "metadata": {},
     "output_type": "execute_result"
    }
   ],
   "source": [
    "#creamos clases\n",
    "\n",
    "class Estudiante():\n",
    "    \n",
    "    #iniciamos la clase con unos valores\n",
    "    def __init__(self, nombre, estudiante_id):\n",
    "        self.nombre = nombre\n",
    "        self.estudiante_id = estudiante_id\n",
    "       \n",
    "    def __str__(self):\n",
    "        return f'el estudiante {self.nombre} id: {self.estudiante_id}'\n",
    "        \n",
    "    def set_ing_quiz(self, nota):\n",
    "        global ing_quiz \n",
    "        ing_quiz = nota\n",
    "        \n",
    "    def set_mate_quiz(self, nota):\n",
    "        global mate_quiz \n",
    "        mate_quiz = nota\n",
    "        \n",
    "    def set_cien_quiz(self, nota):\n",
    "        global cien_quiz \n",
    "        cien_quiz = nota\n",
    "    \n",
    "    def get_ing_quiz(self):\n",
    "        return ing_quiz\n",
    "    \n",
    "    def get_mate_quiz(self):\n",
    "        return mate_quiz\n",
    "    \n",
    "    def get_cien_quiz(self):\n",
    "        return cien_quiz\n",
    "    \n",
    "    def get_total(self):\n",
    "        return f'el total de las materias es {ing_quiz + mate_quiz + cien_quiz}'\n",
    "        \n",
    "    def average(self):\n",
    "        return f'el average de {self.nombre} es {(ing_quiz + mate_quiz + cien_quiz)/3}'\n",
    "\n",
    "mi_estudiante = Estudiante('jesus', 29572677)\n",
    "print(mi_estudiante)\n",
    "\n",
    "mi_estudiante.set_cien_quiz(15)\n",
    "mi_estudiante.set_ing_quiz(17)\n",
    "mi_estudiante.set_mate_quiz(19)\n",
    "\n",
    "mi_estudiante.get_total()\n",
    "mi_estudiante.average()\n",
    " \n",
    " "
   ]
  }
 ],
 "metadata": {
  "kernelspec": {
   "display_name": "Python 3",
   "language": "python",
   "name": "python3"
  },
  "language_info": {
   "codemirror_mode": {
    "name": "ipython",
    "version": 3
   },
   "file_extension": ".py",
   "mimetype": "text/x-python",
   "name": "python",
   "nbconvert_exporter": "python",
   "pygments_lexer": "ipython3",
   "version": "3.12.6"
  }
 },
 "nbformat": 4,
 "nbformat_minor": 2
}
