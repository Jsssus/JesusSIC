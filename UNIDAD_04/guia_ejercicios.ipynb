{
 "cells": [
  {
   "cell_type": "code",
   "execution_count": 4,
   "metadata": {},
   "outputs": [
    {
     "name": "stdout",
     "output_type": "stream",
     "text": [
      "[2, 1, 10]\n"
     ]
    }
   ],
   "source": [
    "class Deque:\n",
    "    \n",
    "    def __init__(self):\n",
    "        self.queue = []\n",
    "        \n",
    "    def __str__(self):\n",
    "        return f'{self.queue}'\n",
    "        \n",
    "    def add_first(self, item):\n",
    "        self.queue.insert(0,item)\n",
    "        \n",
    "    def remove_first(self):\n",
    "       self.queue.pop(0)\n",
    "        \n",
    "    def add_last(self,item):\n",
    "        self.queue.insert(len(self.queue),item)\n",
    "    \n",
    "    def remove_last(self):\n",
    "        self.queue.pop()\n",
    "        \n",
    "prueba = Deque()\n",
    "\n",
    "prueba.add_first(1)\n",
    "prueba.add_first(2)\n",
    "prueba.add_last(10)\n",
    "prueba.add_last(11)\n",
    "prueba.remove_last()\n",
    "\n",
    "print(prueba)"
   ]
  }
 ],
 "metadata": {
  "kernelspec": {
   "display_name": "Python 3",
   "language": "python",
   "name": "python3"
  },
  "language_info": {
   "codemirror_mode": {
    "name": "ipython",
    "version": 3
   },
   "file_extension": ".py",
   "mimetype": "text/x-python",
   "name": "python",
   "nbconvert_exporter": "python",
   "pygments_lexer": "ipython3",
   "version": "3.12.6"
  }
 },
 "nbformat": 4,
 "nbformat_minor": 2
}
