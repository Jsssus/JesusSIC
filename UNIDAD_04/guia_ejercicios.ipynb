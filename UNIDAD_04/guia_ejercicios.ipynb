{
 "cells": [
  {
   "cell_type": "code",
   "execution_count": 4,
   "metadata": {},
   "outputs": [
    {
     "name": "stdout",
     "output_type": "stream",
     "text": [
      "[2, 1, 10]\n"
     ]
    }
   ],
   "source": [
    "class Deque:\n",
    "    \n",
    "    def __init__(self):\n",
    "        self.queue = []\n",
    "        \n",
    "    def __str__(self):\n",
    "        return f'{self.queue}'\n",
    "        \n",
    "    def add_first(self, item):\n",
    "        self.queue.insert(0,item)\n",
    "        \n",
    "    def remove_first(self):\n",
    "       self.queue.pop(0)\n",
    "        \n",
    "    def add_last(self,item):\n",
    "        self.queue.insert(len(self.queue),item)\n",
    "    \n",
    "    def remove_last(self):\n",
    "        self.queue.pop()\n",
    "        \n",
    "prueba = Deque()\n",
    "\n",
    "prueba.add_first(1)\n",
    "prueba.add_first(2)\n",
    "prueba.add_last(10)\n",
    "prueba.add_last(11)\n",
    "prueba.remove_last()\n",
    "\n",
    "print(prueba)"
   ]
  },
  {
   "cell_type": "code",
   "execution_count": 5,
   "metadata": {},
   "outputs": [
    {
     "name": "stdout",
     "output_type": "stream",
     "text": [
      "en S, prueba aparece 1 veces\n"
     ]
    }
   ],
   "source": [
    "def word_count(S, x):\n",
    "    contador = 0\n",
    "    for palabra in S:\n",
    "        if palabra == x:\n",
    "            contador += 1\n",
    "    return contador\n",
    "\n",
    "\n",
    "S = list(input(\"input a sentence: \").split())\n",
    "x = input(\"input a word to search: \")\n",
    "\n",
    "count = word_count(S,x)\n",
    "\n",
    "print(f'en S, {x} aparece {count} veces')\n"
   ]
  },
  {
   "cell_type": "code",
   "execution_count": 13,
   "metadata": {},
   "outputs": [
    {
     "name": "stdout",
     "output_type": "stream",
     "text": [
      "0 3 7\n",
      "3\n"
     ]
    }
   ],
   "source": [
    "def bin_search(nums,x):\n",
    "    low,high = 0 , len(nums)-1\n",
    "    while low <= high: # verificar si hay un error y la lista esta vacía\n",
    "        mid = (low+high)//2\n",
    "        print(low,mid,high)\n",
    "        if nums[mid] == x:\n",
    "            return mid\n",
    "        elif nums[mid] > x:\n",
    "            high = mid-1\n",
    "        else:\n",
    "            low = mid + 1\n",
    "    return -1\n",
    "\n",
    "lista = [11,17,26,28,37,45,53,59]\n",
    "\n",
    "print(bin_search(lista, 28))\n"
   ]
  },
  {
   "cell_type": "code",
   "execution_count": 3,
   "metadata": {},
   "outputs": [
    {
     "name": "stdout",
     "output_type": "stream",
     "text": [
      "3341 Alicia en el país de las maravillas\n",
      "1058 Don Quijote\n",
      "1266 El Principito\n",
      "719 El Zahir\n",
      "2106 los 7 Pecados Capitales\n",
      "1381 La isla de los x\n",
      "1365 Los Miserables\n",
      "1783 El gato en el tejado\n"
     ]
    }
   ],
   "source": [
    "#creando las key para una tabla hash\n",
    "\n",
    "books = [\n",
    "    'Alicia en el país de las maravillas',\n",
    "    'Don Quijote',\n",
    "    'El Principito',\n",
    "    'El Zahir',\n",
    "    'los 7 Pecados Capitales',\n",
    "    'La isla de los x',\n",
    "    'Los Miserables',\n",
    "    'El gato en el tejado',\n",
    "]\n",
    "\n",
    "for book in books:\n",
    "    key = sum(map(ord,book))\n",
    "    print(key, book)"
   ]
  },
  {
   "cell_type": "code",
   "execution_count": 12,
   "metadata": {},
   "outputs": [
    {
     "name": "stdout",
     "output_type": "stream",
     "text": [
      "0 ['The Little Prince']\n",
      "1 []\n",
      "2 []\n",
      "3 []\n",
      "4 []\n",
      "5 []\n",
      "6 []\n",
      "7 []\n"
     ]
    }
   ],
   "source": [
    "#definiendo la tabla hash\n",
    "\n",
    "class HashTable:\n",
    "    \n",
    "    def __init__(self,size):\n",
    "        self.size = size\n",
    "        self.table = {}\n",
    "        for i in range(size):\n",
    "            self.table[i] = []\n",
    "    \n",
    "    def hash(self, key):\n",
    "        return key % self.size\n",
    "    \n",
    "    def get(self, key):\n",
    "        return self.table[self.hash(key)]\n",
    "    \n",
    "    def put(self, key, value):\n",
    "        bucket = self.table[self.hash(key)]\n",
    "        if value not in bucket:\n",
    "            bucket.append(value)\n",
    "    \n",
    "table = HashTable(8)\n",
    "book = \"The Little Prince\"\n",
    "key = sum(map(ord, book))\n",
    "table.put(key,book)\n",
    "for key in table.table.keys():\n",
    "    print(key, table.table[key])\n",
    "    \n"
   ]
  },
  {
   "cell_type": "code",
   "execution_count": 13,
   "metadata": {},
   "outputs": [
    {
     "name": "stdout",
     "output_type": "stream",
     "text": [
      "0 ['The Little Prince']\n",
      "1 ['The Old Man and the Sea']\n",
      "2 []\n",
      "3 []\n",
      "4 []\n",
      "5 ['Beauty and the Beast', 'The Last Leaf']\n",
      "6 ['The Little Mermaid']\n",
      "7 []\n"
     ]
    }
   ],
   "source": [
    "#insertando varios libros utilizando nuestra función \n",
    "books = [\n",
    "    'The Old Man and the Sea',\n",
    "    'The Little Mermaid',\n",
    "    'Beauty and the Beast',\n",
    "    'The Last Leaf'\n",
    "]\n",
    "\n",
    "#for para agregar los libros\n",
    "for book in books:\n",
    "    key = sum(map(ord,book))\n",
    "    table.put(key,book)\n",
    "for key in table.table.keys():\n",
    "    print(key,table.table[key])"
   ]
  },
  {
   "cell_type": "code",
   "execution_count": 15,
   "metadata": {},
   "outputs": [
    {
     "name": "stdout",
     "output_type": "stream",
     "text": [
      "1133 ['Beauty and the Beast', 'The Last Leaf']\n"
     ]
    }
   ],
   "source": [
    "tittle = 'The Last Leaf'\n",
    "key = sum(map(ord,tittle))\n",
    "bucket = table.get(key)\n",
    "print(key,bucket)"
   ]
  },
  {
   "cell_type": "code",
   "execution_count": 32,
   "metadata": {},
   "outputs": [
    {
     "data": {
      "text/plain": [
       "16"
      ]
     },
     "execution_count": 32,
     "metadata": {},
     "output_type": "execute_result"
    }
   ],
   "source": [
    "#Creando una función de números romanos a enteros\n",
    "table = {'I':1, 'V':5, 'X':10, 'L':50, 'C':100, 'D':500, 'M':1000}\n",
    "\n",
    "def roman_to_int(str):\n",
    "    result = 0\n",
    "    for i in range(len(str)-1):\n",
    "        if table[str[i]] < table[str[i+1]]:\n",
    "            result -= table[str[i]]\n",
    "        else:\n",
    "            result += table[str[i]]\n",
    "    return result + table[str[-1]] # el -1 suma la última letra que el for no suma\n",
    "\n",
    "roman_to_int('XVI')"
   ]
  }
 ],
 "metadata": {
  "kernelspec": {
   "display_name": "Python 3",
   "language": "python",
   "name": "python3"
  },
  "language_info": {
   "codemirror_mode": {
    "name": "ipython",
    "version": 3
   },
   "file_extension": ".py",
   "mimetype": "text/x-python",
   "name": "python",
   "nbconvert_exporter": "python",
   "pygments_lexer": "ipython3",
   "version": "3.12.6"
  }
 },
 "nbformat": 4,
 "nbformat_minor": 2
}
