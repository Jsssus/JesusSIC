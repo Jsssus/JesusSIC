{
 "cells": [
  {
   "cell_type": "code",
   "execution_count": 4,
   "metadata": {},
   "outputs": [
    {
     "name": "stdout",
     "output_type": "stream",
     "text": [
      "[2, 1, 10]\n"
     ]
    }
   ],
   "source": [
    "class Deque:\n",
    "    \n",
    "    def __init__(self):\n",
    "        self.queue = []\n",
    "        \n",
    "    def __str__(self):\n",
    "        return f'{self.queue}'\n",
    "        \n",
    "    def add_first(self, item):\n",
    "        self.queue.insert(0,item)\n",
    "        \n",
    "    def remove_first(self):\n",
    "       self.queue.pop(0)\n",
    "        \n",
    "    def add_last(self,item):\n",
    "        self.queue.insert(len(self.queue),item)\n",
    "    \n",
    "    def remove_last(self):\n",
    "        self.queue.pop()\n",
    "        \n",
    "prueba = Deque()\n",
    "\n",
    "prueba.add_first(1)\n",
    "prueba.add_first(2)\n",
    "prueba.add_last(10)\n",
    "prueba.add_last(11)\n",
    "prueba.remove_last()\n",
    "\n",
    "print(prueba)"
   ]
  },
  {
   "cell_type": "code",
   "execution_count": 5,
   "metadata": {},
   "outputs": [
    {
     "name": "stdout",
     "output_type": "stream",
     "text": [
      "en S, prueba aparece 1 veces\n"
     ]
    }
   ],
   "source": [
    "def word_count(S, x):\n",
    "    contador = 0\n",
    "    for palabra in S:\n",
    "        if palabra == x:\n",
    "            contador += 1\n",
    "    return contador\n",
    "\n",
    "\n",
    "S = list(input(\"input a sentence: \").split())\n",
    "x = input(\"input a word to search: \")\n",
    "\n",
    "count = word_count(S,x)\n",
    "\n",
    "print(f'en S, {x} aparece {count} veces')\n"
   ]
  },
  {
   "cell_type": "code",
   "execution_count": 13,
   "metadata": {},
   "outputs": [
    {
     "name": "stdout",
     "output_type": "stream",
     "text": [
      "0 3 7\n",
      "3\n"
     ]
    }
   ],
   "source": [
    "def bin_search(nums,x):\n",
    "    low,high = 0 , len(nums)-1\n",
    "    while low <= high: # verificar si hay un error y la lista esta vacía\n",
    "        mid = (low+high)//2\n",
    "        print(low,mid,high)\n",
    "        if nums[mid] == x:\n",
    "            return mid\n",
    "        elif nums[mid] > x:\n",
    "            high = mid-1\n",
    "        else:\n",
    "            low = mid + 1\n",
    "    return -1\n",
    "\n",
    "lista = [11,17,26,28,37,45,53,59]\n",
    "\n",
    "print(bin_search(lista, 28))\n"
   ]
  }
 ],
 "metadata": {
  "kernelspec": {
   "display_name": "Python 3",
   "language": "python",
   "name": "python3"
  },
  "language_info": {
   "codemirror_mode": {
    "name": "ipython",
    "version": 3
   },
   "file_extension": ".py",
   "mimetype": "text/x-python",
   "name": "python",
   "nbconvert_exporter": "python",
   "pygments_lexer": "ipython3",
   "version": "3.12.6"
  }
 },
 "nbformat": 4,
 "nbformat_minor": 2
}
