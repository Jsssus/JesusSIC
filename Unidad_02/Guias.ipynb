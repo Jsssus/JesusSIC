{
 "cells": [
  {
   "cell_type": "code",
   "execution_count": 8,
   "metadata": {},
   "outputs": [
    {
     "name": "stdout",
     "output_type": "stream",
     "text": [
      "99\n"
     ]
    },
    {
     "data": {
      "text/plain": [
       "False"
      ]
     },
     "execution_count": 8,
     "metadata": {},
     "output_type": "execute_result"
    }
   ],
   "source": [
    "#Ord() nos ayuda a ver cuál es el código ASCII para el string que coloquemos\n",
    "a=('a', 'b', 'c')\n",
    "b= ('a','b', 'd')\n",
    "\n",
    "print(ord('c')) #alt+99 = c\n",
    "a>b"
   ]
  },
  {
   "cell_type": "code",
   "execution_count": 9,
   "metadata": {},
   "outputs": [
    {
     "name": "stdout",
     "output_type": "stream",
     "text": [
      "99\n"
     ]
    },
    {
     "data": {
      "text/plain": [
       "False"
      ]
     },
     "execution_count": 9,
     "metadata": {},
     "output_type": "execute_result"
    }
   ],
   "source": [
    "#Ord() nos ayuda a ver cuál es el código ASCII para el string que coloquemos\n",
    "a=['a', 'b', 'c']\n",
    "b=['a', 'b', 'd']\n",
    "\n",
    "print(ord('c')) #alt+99 = c\n",
    "a>b"
   ]
  },
  {
   "cell_type": "code",
   "execution_count": 10,
   "metadata": {},
   "outputs": [
    {
     "name": "stdout",
     "output_type": "stream",
     "text": [
      "True\n",
      "False\n",
      "True\n",
      "('a', 'b', 'c', 'd', 'e')\n",
      "[('a', 'b', 'c', 'd', 'e')]\n",
      "('a', 'b', 'c')\n"
     ]
    }
   ],
   "source": [
    "#Ord() nos ayuda a ver cuál es el código ASCII para el string que coloquemos\n",
    "a='a', 'b', 'c'\n",
    "b=('a', 'b', 'c')\n",
    "c=('d','e')\n",
    "\n",
    "print(a == b)\n",
    "print(a > c)\n",
    "print(a < c)\n",
    "print(a + c)\n",
    "print([a + c])\n",
    "print(a)"
   ]
  },
  {
   "cell_type": "code",
   "execution_count": 23,
   "metadata": {},
   "outputs": [
    {
     "name": "stdout",
     "output_type": "stream",
     "text": [
      "3\n"
     ]
    }
   ],
   "source": [
    "#cuantos días se ha reducido la venta en comparacion con el dia anterior\n",
    "ventas = (100, 121, 120, 130, 140, 120, 122, 123, 190, 125)\n",
    "\n",
    "#variable para saber cuantos días se ha reducido\n",
    "reduccion = 0\n",
    "\n",
    "for i in range(1, len(ventas)):\n",
    "    if ventas[i] < ventas[i-1]:\n",
    "        reduccion += 1\n",
    "        \n",
    "print(reduccion) "
   ]
  },
  {
   "cell_type": "code",
   "execution_count": 24,
   "metadata": {},
   "outputs": [
    {
     "name": "stdout",
     "output_type": "stream",
     "text": [
      "variables antes de la cambiar con temp a = 100, b = 200\n",
      "variables después de la cambiar con temp a = 200, b = 100\n"
     ]
    }
   ],
   "source": [
    "#variable temporal\n",
    "\n",
    "a = 100\n",
    "b = 200\n",
    "\n",
    "print(f'variables antes de la cambiar con temp a = {a}, b = {b}')\n",
    "temp = a\n",
    "a = b\n",
    "b = temp\n",
    "\n",
    "print(f'variables después de la cambiar con temp a = {a}, b = {b}')"
   ]
  },
  {
   "cell_type": "code",
   "execution_count": 25,
   "metadata": {},
   "outputs": [
    {
     "name": "stdout",
     "output_type": "stream",
     "text": [
      "[2, 3, 4, 5]\n"
     ]
    }
   ],
   "source": [
    "tupla = (3,2,5,4)\n",
    "\n",
    "temp = list(tupla)\n",
    "\n",
    "temp.sort()\n",
    "\n",
    "print(temp)\n"
   ]
  },
  {
   "cell_type": "code",
   "execution_count": 35,
   "metadata": {},
   "outputs": [
    {
     "name": "stdout",
     "output_type": "stream",
     "text": [
      "9 3\n"
     ]
    }
   ],
   "source": [
    "#decifrar que numero se remite más veces y cual es mayor\n",
    "tupla = (1, 2, 5, 4, 3, 2, 1, 4, 7, 8, 9, 9, 3, 7, 3, 9)\n",
    "\n",
    "#dic para contar las ocurrencias\n",
    "contador = {}\n",
    "\n",
    "for i in tupla:\n",
    "    if i in contador:\n",
    "        continue\n",
    "    elif tupla.count(i) > 1:\n",
    "        contador[i] = tupla.count(i)       \n",
    "   \n",
    "numero_comun = None\n",
    "max_ocurrencias = 0\n",
    "\n",
    "for numero, veces_repetidas in contador.items():\n",
    "    if veces_repetidas >= max_ocurrencias:\n",
    "        numero_comun = numero\n",
    "        max_ocurrencias = veces_repetidas\n",
    "        \n",
    "print(f'{numero_comun} {max_ocurrencias}')\n",
    "        "
   ]
  },
  {
   "cell_type": "code",
   "execution_count": 3,
   "metadata": {},
   "outputs": [
    {
     "name": "stdout",
     "output_type": "stream",
     "text": [
      "1 0 1 0 1 0 \n",
      "1 1 1 0 0 1 \n",
      "0 0 0 0 1 0 \n",
      "el numero de asinetos restantes es de: [[1, 0, 1, 0, 1, 0], [1, 1, 1, 0, 0, 1], [0, 0, 0, 0, 1, 0]]\n"
     ]
    }
   ],
   "source": [
    "import random\n",
    "\n",
    "seat = []\n",
    "\n",
    "for i in range(3):\n",
    "    line = []\n",
    "    for j in range(6):\n",
    "        rand = random.randrange(0,2)\n",
    "        line.append(rand)\n",
    "    seat.append(line)\n",
    "    \n",
    "avalible = 0 \n",
    "\n",
    "for i in range(3):\n",
    "    for j in range(6):\n",
    "        print(seat[i][j], '', end='')\n",
    "        if seat[i][j] == 0:\n",
    "            avalible += 1\n",
    "    print()\n",
    "    \n",
    "print(f'el numero de asinetos restantes es de: {seat}')"
   ]
  },
  {
   "cell_type": "code",
   "execution_count": 2,
   "metadata": {},
   "outputs": [
    {
     "name": "stdout",
     "output_type": "stream",
     "text": [
      "(1, 3)\n",
      "<class 'numpy.ndarray'>\n",
      "[[23 12  3]]\n"
     ]
    }
   ],
   "source": [
    "import numpy as np\n",
    "\n",
    "def mostrar(matriz):\n",
    "    print(matriz.shape)\n",
    "    print(type(matriz))\n",
    "    print(matriz)\n",
    "    \n",
    "mostrar(np.array([[23,12,3]]))\n",
    "\n"
   ]
  },
  {
   "cell_type": "code",
   "execution_count": 51,
   "metadata": {},
   "outputs": [
    {
     "name": "stdout",
     "output_type": "stream",
     "text": [
      "[[0, 0, 0, 1, 0, 0], [0, 0, 1, 0, 0, 1], [1, 0, 1, 0, 1, 1], [1, 0, 1, 0, 0, 1], [0, 0, 0, 1, 1, 0], [0, 0, 1, 0, 0, 0]]\n",
      "0 0 0 1 0 0 \n",
      "0 0 1 0 0 1 \n",
      "1 0 1 0 1 1 \n",
      "1 0 1 0 0 1 \n",
      "0 0 0 1 1 0 \n",
      "0 0 1 0 0 0 \n"
     ]
    }
   ],
   "source": [
    "import random\n",
    "\n",
    "seat = []\n",
    "\n",
    "for i in range(6):\n",
    "    line = []\n",
    "    for j in range(6):\n",
    "        rand = random.randrange(0,2)\n",
    "        line.append(rand)\n",
    "    seat.append(line) \n",
    "\n",
    "print(seat)\n",
    "\n",
    "avalible = 0\n",
    "for i in range(6):\n",
    "    for j in range(6):\n",
    "        print(seat[i][j],'',end='')\n",
    "        if seat[i][j] == 0:\n",
    "            avalible += 1\n",
    "    print()"
   ]
  },
  {
   "cell_type": "code",
   "execution_count": 52,
   "metadata": {},
   "outputs": [
    {
     "data": {
      "text/plain": [
       "30"
      ]
     },
     "execution_count": 52,
     "metadata": {},
     "output_type": "execute_result"
    }
   ],
   "source": [
    "lsit = [[10, 20], [30, 40], [50, 60]]\n",
    "\n",
    "lsit[1][0]"
   ]
  },
  {
   "cell_type": "code",
   "execution_count": 29,
   "metadata": {},
   "outputs": [
    {
     "name": "stdout",
     "output_type": "stream",
     "text": [
      "1 0 1 0 1 \n",
      "0 1 0 1 0 \n",
      "1 0 1 0 1 \n",
      "0 1 0 1 0 \n",
      "1 0 1 0 1 \n"
     ]
    }
   ],
   "source": [
    "n = int(input('ingresa un numero: '))\n",
    "\n",
    "matriz = []\n",
    "\n",
    "for i in range(n):\n",
    "    fila = []\n",
    "    for j in range(n):\n",
    "        if (j + i) % 2 == 0:\n",
    "            fila.append(1)\n",
    "        else:\n",
    "            fila.append(0)\n",
    "    matriz.append(fila)\n",
    "\n",
    "for i in range(n):\n",
    "    for j in range(n):\n",
    "        print(matriz[i][j],'',end='')\n",
    "    print()\n",
    "        "
   ]
  },
  {
   "cell_type": "code",
   "execution_count": 20,
   "metadata": {},
   "outputs": [
    {
     "name": "stdout",
     "output_type": "stream",
     "text": [
      "\n",
      "Arreglo de tamaño 3x3:\n",
      "[[1 0 1]\n",
      " [0 1 0]\n",
      " [1 0 1]]\n"
     ]
    }
   ],
   "source": [
    "#whith numpy\n",
    "import numpy as np\n",
    "\n",
    "def crear_patron_a_cuadros(n):\n",
    "    # Crear un arreglo de tamaño nxn con ceros\n",
    "    arreglo = np.zeros((n, n), dtype=int)\n",
    "    \n",
    "    # Llenar el arreglo con el patrón a cuadros\n",
    "    for i in range(n):\n",
    "        for j in range(n):\n",
    "            if (i + j) % 2 == 0:\n",
    "                arreglo[i, j] = 1\n",
    "    return arreglo\n",
    "\n",
    "# Solicitar al usuario dos o más valores de n\n",
    "valores_n = input(\"Ingrese dos o más valores de n separados por espacios: \").split()\n",
    "valores_n = [int(n) for n in valores_n]\n",
    "\n",
    "# Generar y mostrar los arreglos para cada valor de n\n",
    "for n in valores_n:\n",
    "    print(f\"\\nArreglo de tamaño {n}x{n}:\")\n",
    "    print(crear_patron_a_cuadros(n))\n"
   ]
  },
  {
   "cell_type": "code",
   "execution_count": 51,
   "metadata": {},
   "outputs": [
    {
     "name": "stdout",
     "output_type": "stream",
     "text": [
      "{'a': 2, 'b': 2, 'c': 2, 'e': 1, 'f': 1}\n"
     ]
    }
   ],
   "source": [
    "str1 = ['a','b','c', 'e','f','a','b','c']\n",
    "\n",
    "dic = {}\n",
    "\n",
    "for i in str1:\n",
    "    if i not in dic.keys():\n",
    "        dic[i] = 0\n",
    "    dic[i] += 1\n",
    "    \n",
    "print(dic)\n"
   ]
  },
  {
   "cell_type": "code",
   "execution_count": 52,
   "metadata": {},
   "outputs": [
    {
     "name": "stdout",
     "output_type": "stream",
     "text": [
      "{'a': 2, 'b': 2, 'c': 2, 'e': 1, 'f': 1}\n"
     ]
    }
   ],
   "source": [
    "str1 = ['a','b','c', 'e','f','a','b','c']\n",
    "\n",
    "dic = {}\n",
    "\n",
    "for i in str1:\n",
    "    dic.setdefault(i,0)\n",
    "    dic[i] += 1\n",
    "    \n",
    "print(dic)\n",
    "\n",
    "\n",
    "print(u)"
   ]
  },
  {
   "cell_type": "code",
   "execution_count": 67,
   "metadata": {},
   "outputs": [
    {
     "name": "stdout",
     "output_type": "stream",
     "text": [
      "a: 1\n",
      "c: 2\n",
      "b: 3\n"
     ]
    },
    {
     "data": {
      "text/plain": [
       "dict_items([('a', 1), ('c', 2), ('b', 3)])"
      ]
     },
     "execution_count": 67,
     "metadata": {},
     "output_type": "execute_result"
    }
   ],
   "source": [
    "dic = {'a': 1,'c': 2,'b': 3 }\n",
    "\n",
    "dic.items()\n",
    "\n",
    "for llave, valor in dic.items():\n",
    "        print(f'{llave}: {valor}',end='\\n')\n",
    "        \n",
    "dic.items()\n"
   ]
  },
  {
   "cell_type": "code",
   "execution_count": 72,
   "metadata": {},
   "outputs": [
    {
     "name": "stdout",
     "output_type": "stream",
     "text": [
      "Last Name: Doe\n",
      "First Name: David\n",
      "Company: Samsung\n"
     ]
    },
    {
     "data": {
      "text/plain": [
       "dict_items([('Last Name', 'Doe'), ('First Name', 'David'), ('Company', 'Samsung')])"
      ]
     },
     "execution_count": 72,
     "metadata": {},
     "output_type": "execute_result"
    }
   ],
   "source": [
    "persona_dic = {'Last Name': 'Doe', 'First Name': 'David', 'Company': 'Samsung'}\n",
    "\n",
    "for dato, value in persona_dic.items():\n",
    "    print(f'{dato}: {value}') \n",
    "    \n",
    "    \n",
    "persona_dic.items()"
   ]
  },
  {
   "cell_type": "code",
   "execution_count": 2,
   "metadata": {},
   "outputs": [
    {
     "name": "stdout",
     "output_type": "stream",
     "text": [
      "\n",
      "          1. Ver Stock\n",
      "          2. Agregar item nuevo\n",
      "          3. Borra item\n",
      "          4. Salir\n",
      "          \n",
      "Café: 7\n",
      "Bolígrafo: 3\n",
      "Vaso de papel: 2\n",
      "Leche: 1\n",
      "Coca-Cola: 4\n",
      "Libro: 5\n",
      "\n",
      "          1. Ver Stock\n",
      "          2. Agregar item nuevo\n",
      "          3. Borra item\n",
      "          4. Salir\n",
      "          \n",
      "el item Pasas fue agregado con éxito\n",
      "\n",
      "          1. Ver Stock\n",
      "          2. Agregar item nuevo\n",
      "          3. Borra item\n",
      "          4. Salir\n",
      "          \n",
      "Café: 7\n",
      "Bolígrafo: 3\n",
      "Vaso de papel: 2\n",
      "Leche: 1\n",
      "Coca-Cola: 4\n",
      "Libro: 5\n",
      "Pasas: 2\n",
      "\n",
      "          1. Ver Stock\n",
      "          2. Agregar item nuevo\n",
      "          3. Borra item\n",
      "          4. Salir\n",
      "          \n",
      "el item Pasas fue eliminado con éxito\n",
      "{'Café': 7, 'Bolígrafo': 3, 'Vaso de papel': 2, 'Leche': 1, 'Coca-Cola': 4, 'Libro': 5}\n",
      "\n",
      "          1. Ver Stock\n",
      "          2. Agregar item nuevo\n",
      "          3. Borra item\n",
      "          4. Salir\n",
      "          \n",
      "Café: 7\n",
      "Bolígrafo: 3\n",
      "Vaso de papel: 2\n",
      "Leche: 1\n",
      "Coca-Cola: 4\n",
      "Libro: 5\n",
      "\n",
      "          1. Ver Stock\n",
      "          2. Agregar item nuevo\n",
      "          3. Borra item\n",
      "          4. Salir\n",
      "          \n",
      "Cerrando...\n"
     ]
    }
   ],
   "source": [
    "#Inventario en un dic\n",
    "inventario = {\"Café\": 7, \"Bolígrafo\":3, \"Vaso de papel\": 2, \n",
    "         \"Leche\": 1, \"Coca-Cola\":4, \"Libro\":5}\n",
    "\n",
    "#Funcion para comprobar si existe el item en el inventario\n",
    "def comprobar(inventario,item_name): #recibe dic() e item_name que es una variable input\n",
    "    if item_name in inventario.keys():# revisa si item_name existe en invenatario   \n",
    "        return True\n",
    "    else:\n",
    "        return False\n",
    "            \n",
    "#funcion para agregar al inventario\n",
    "def agregar(inventario): #recibe inventario\n",
    "    if comprobar(inventario, item_name) == False: #comprube el return de comprobar()\n",
    "        cantidad = int(input('ingresa la cantidad: '))#Si es no está en el dic pide al usuario que ingrese la cantidad y lo agrega al inventario\n",
    "        inventario[item_name] = cantidad\n",
    "        print(f'el item {item_name} fue agregado con éxito')\n",
    "    else:  #si existe en el inventario imprime mensaje\n",
    "        print(f'{item_name} ya está en el invetario')\n",
    "\n",
    "#funcion para eliminar del inventario\n",
    "def eliminar(inventario):\n",
    "    if comprobar(inventario, item_name) == False: #Comprueba si existe \n",
    "        print('No tenemos disponible ese item') # si no existe imprime \n",
    "    else: #si existe entonces lo elimina\n",
    "        del inventario[item_name]\n",
    "        print(f'el item {item_name} fue eliminado con éxito')\n",
    "        \n",
    "    \n",
    "while True:\n",
    "    print('''\n",
    "          1. Ver Stock\n",
    "          2. Agregar item nuevo\n",
    "          3. Borra item\n",
    "          4. Salir\n",
    "          ''')\n",
    "    opcion = int(input('Ingresa el numero de la opción que deseas: '))\n",
    "    \n",
    "    if opcion == 1:\n",
    "        for itemm, cantidadd in inventario.items():\n",
    "            print(f'{itemm}: {cantidadd}')\n",
    "    elif opcion == 2:\n",
    "        item_name = input('Ingresa el nombre del item: ')\n",
    "        agregar(inventario)\n",
    "    elif opcion == 3:\n",
    "        item_name = input('Ingresa el nombre del item a eliminar: ')\n",
    "        eliminar(inventario)\n",
    "    elif opcion == 4:\n",
    "        print('Cerrando...')\n",
    "        break\n"
   ]
  }
 ],
 "metadata": {
  "kernelspec": {
   "display_name": "Python 3",
   "language": "python",
   "name": "python3"
  },
  "language_info": {
   "codemirror_mode": {
    "name": "ipython",
    "version": 3
   },
   "file_extension": ".py",
   "mimetype": "text/x-python",
   "name": "python",
   "nbconvert_exporter": "python",
   "pygments_lexer": "ipython3",
   "version": "3.12.6"
  }
 },
 "nbformat": 4,
 "nbformat_minor": 2
}
