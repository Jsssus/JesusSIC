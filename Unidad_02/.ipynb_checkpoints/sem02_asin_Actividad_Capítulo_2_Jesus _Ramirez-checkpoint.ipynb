{
 "cells": [
  {
   "cell_type": "markdown",
   "id": "5ad8356f",
   "metadata": {},
   "source": [
    "# Actividades Capítulo 2.\n",
    "\n",
    "\n",
    "# Concepto básico de programación e inicio en Python\n",
    "\n",
    "## Resumen de actividades\n",
    "\n",
    "- **Unidad 10.** Tipos de datos lista y tupla Tipos de datos lista y tupla\n",
    "- **Unidad 11.** Tipos de datos de diccionario Tipos de datos de diccionario\n",
    "- **Unidad 12.** Tipos de datos de secuencia\n",
    "- **Unidad 13.** Listas 2D\n",
    "- **Unidad 14.** Método del diccionario-1\n",
    "- **Unidad 15.** Método del diccionario-2\n",
    "- **Unidad 16.** Establecer tipos de datos\n"
   ]
  },
  {
   "cell_type": "code",
   "execution_count": null,
   "id": "06d92945-a2a7-4d53-a6ae-0578c407a784",
   "metadata": {},
   "outputs": [
    {
     "name": "stdout",
     "output_type": "stream",
     "text": [
      "\n",
      "Menú:\n",
      "1. Agregar estudiante\n",
      "2. Mostrar estudiantes\n",
      "3. Buscar estudiante en la base de datos\n",
      "4. Actualizar estudiante\n",
      "5. Eliminar estudiante\n",
      "6. Salir del programa\n"
     ]
    },
    {
     "name": "stdin",
     "output_type": "stream",
     "text": [
      "Elija el numero de la opción: 5\n",
      "Ingresa el id del estudiante que quiere eliminar: 3\n"
     ]
    },
    {
     "name": "stdout",
     "output_type": "stream",
     "text": [
      "el estudiante de id 3 eliminado exitosamente\n",
      "\n",
      "Menú:\n",
      "1. Agregar estudiante\n",
      "2. Mostrar estudiantes\n",
      "3. Buscar estudiante en la base de datos\n",
      "4. Actualizar estudiante\n",
      "5. Eliminar estudiante\n",
      "6. Salir del programa\n"
     ]
    },
    {
     "name": "stdin",
     "output_type": "stream",
     "text": [
      "Elija el numero de la opción: 2\n"
     ]
    },
    {
     "name": "stdout",
     "output_type": "stream",
     "text": [
      "[{'nombre': 'Juan', 'id': 1, 'edad': 20}, {'nombre': 'María', 'id': 2, 'edad': 22}]\n",
      "\n",
      "Menú:\n",
      "1. Agregar estudiante\n",
      "2. Mostrar estudiantes\n",
      "3. Buscar estudiante en la base de datos\n",
      "4. Actualizar estudiante\n",
      "5. Eliminar estudiante\n",
      "6. Salir del programa\n"
     ]
    }
   ],
   "source": [
    "## Recuerde agregar comentarios donde se describa el funcionamiento de las diferentes secciones.\n",
    "\n",
    "base_de_datos = [\n",
    "    {\"nombre\": \"Juan\", \"id\": 1, \"edad\": 20},\n",
    "    {\"nombre\": \"María\", \"id\": 2, \"edad\": 22},\n",
    "    {\"nombre\": \"Carlos\", \"id\": 3, \"edad\": 21}\n",
    "]\n",
    "\n",
    "#Definimos una funcion para agregar un nuevo estudiante a la base de datos\n",
    "def add_estudiante(base_de_datos):\n",
    "    ##Pedimos al usuario que agregue los datos del nuevo estudiante\n",
    "    id = int(input('Ingrese el id del nuevo estudiante:'))\n",
    "\n",
    "    #Verificamos si existe un estudiante con ese id\n",
    "    if buscar_estudiante_id(base_de_datos,id) == None:\n",
    "        print('Ya hay un estudiante con este id')\n",
    "    else:\n",
    "    #agregamos la informacion del nuevo estudiante a la base de datos\n",
    "        nombre = input('Ingrese el nombre del nuevo estudiante:')\n",
    "        edad = int(input('Ingrese la edad del nuevo estudiante:'))\n",
    "        base_de_datos.append({\"nombre\": nombre, \"id\": id, \"edad\": edad})\n",
    "        print(\"Estudiante agregado exitosamente.\")\n",
    "\n",
    "def mostrar_base_de_datos(base_de_datos):\n",
    "    #aqui imprimiremos a la variable con la base de datos\n",
    "    print(base_de_datos)\n",
    "    \n",
    "\n",
    "def buscar_estudiante_id(base_de_datos,id):\n",
    "    #un for para buscar en cada elemento de la base de datos y el if para comprar el id\n",
    "    for estudiante in base_de_datos:\n",
    "        if estudiante['id'] == id:\n",
    "            return None\n",
    "        else:\n",
    "            return estudiante\n",
    "\n",
    "def actualizar(base_de_datos):\n",
    "    #pedimos el id del estudiante\n",
    "    id = int(input('Ingresa el id del estudiante que quiere actualizar:'))\n",
    "    \n",
    "    #variable para utilizar funcion buscar_estudiante_id\n",
    "    estudiante = buscar_estudiante_id(base_de_datos, id)\n",
    "    \n",
    "    #if para comprobar si el estudiante existe y si existe actualizar la base de datos mediantes unas variables\n",
    "    if estudiante == None:\n",
    "        nombre = input(f'ingrese el nuevo nombre:')\n",
    "        edad = int(input(f'ingrese la nueva edad:'))\n",
    "\n",
    "        estudiante['nombre'] = nombre\n",
    "        estudiante['edad'] = edad\n",
    "        \n",
    "        print('información actualizada exitosamente!')\n",
    "        \n",
    "    else:   \n",
    "        print(f'no se encontró el id {id}')\n",
    "\n",
    "def eliminar_estudiante(base_de_datos):\n",
    "    #pedimos el id del estudiante\n",
    "    id = int(input('Ingresa el id del estudiante que quiere eliminar:'))\n",
    "    \n",
    "    #variable para utilizar funcion buscar_estudiante_id\n",
    "    estudiante = buscar_estudiante_id(base_de_datos,id)\n",
    "    \n",
    "     #if para comprobar si el estudiante existe y si existe removerlo\n",
    "    if estudiante:\n",
    "        #id-1 porque la funcion del necesita el index del elemento que queremos borrar de la función, que sería igual a restarle 1 al id\n",
    "        del base_de_datos[id-1]\n",
    "        print(f'el estudiante de id {id} eliminado exitosamente')\n",
    "    else:\n",
    "        print('estudiante no encontrado')\n",
    "\n",
    "\n",
    "def menu():\n",
    "    while True:\n",
    "        #mientras el while sea verdad imprimirá las opciones que existen\n",
    "        print(\"\\nMenú:\")\n",
    "        print(\"1. Agregar estudiante\")\n",
    "        print(\"2. Mostrar estudiantes\")\n",
    "        print(\"3. Buscar estudiante en la base de datos\")\n",
    "        print(\"4. Actualizar estudiante\")\n",
    "        print(\"5. Eliminar estudiante\")\n",
    "        print(\"6. Salir del programa\")\n",
    "        eleccion = int(input(\"Elija el numero de la opción:\"))\n",
    "        \n",
    "        #estos if nos ayudan a ejecutar las funciones\n",
    "        if eleccion == 1:\n",
    "            add_estudiante(base_de_datos)\n",
    "        elif eleccion == 2:\n",
    "           mostrar_base_de_datos(base_de_datos)\n",
    "        elif eleccion == 3:\n",
    "            id = int(input(\"Ingrese el número de identificación del estudiante a buscar: \"))\n",
    "            buscar_estudiante_id(base_de_datos,id)\n",
    "        elif eleccion  == 4:\n",
    "            actualizar(base_de_datos)\n",
    "        elif eleccion  == 5:\n",
    "            eliminar_estudiante(base_de_datos)\n",
    "        elif eleccion  == 6:\n",
    "            print(\"Saliendo...\")\n",
    "            break\n",
    "        else:\n",
    "            print(\"Intente de nuevo y revise su elección.\")\n",
    "            \n",
    "menu()\n"
   ]
  },
  {
   "cell_type": "markdown",
   "id": "8c5aa9c8",
   "metadata": {},
   "source": [
    "# Actividad: Creación de una Base de Datos en Python\n",
    "\n",
    "## Descripción\n",
    "\n",
    "A continuación debes crear una base de datos simple utilizando listas en Python. Una base de datos es una colección de datos organizados que se utilizan para almacenar y recuperar información. En este caso, simularemos una base de datos de estudiantes con información básica.\n",
    "\n",
    "## Instrucciones\n",
    "\n",
    "1. Crea un programa en Python que permita a los usuarios realizar las siguientes acciones:\n",
    "\n",
    "   a. Agregar un nuevo estudiante a la base de datos. Cada estudiante debe tener al menos un nombre, un número de identificación y una edad. Puedes utilizar una lista para almacenar estos datos.\n",
    "\n",
    "   b. Mostrar la lista de estudiantes en la base de datos.\n",
    "\n",
    "   c. Buscar un estudiante por su número de identificación y mostrar su información.\n",
    "\n",
    "   d. Actualizar la información de un estudiante existente en la base de datos.\n",
    "\n",
    "   e. Eliminar un estudiante de la base de datos.\n",
    "\n",
    "2. Utiliza listas de Python para almacenar la información de los estudiantes. Por ejemplo, puedes crear una lista de diccionarios, donde cada diccionario representa un estudiante con sus datos.\n",
    "\n",
    "3. Ofrece un menú interactivo que permita a los usuarios elegir las acciones que desean realizar en la base de datos.\n",
    "\n",
    "4. Implementa la lógica necesaria para cada acción, como agregar, buscar, actualizar o eliminar estudiantes.\n",
    "\n",
    "## Ejemplo de Base de Datos\n",
    "\n",
    "A continuación, se muestra un ejemplo de cómo podría verse una base de datos de estudiantes utilizando listas y diccionarios:\n",
    "\n",
    "```python\n",
    "base_de_datos = [\n",
    "    {\"nombre\": \"Juan\", \"id\": 1, \"edad\": 20},\n",
    "    {\"nombre\": \"María\", \"id\": 2, \"edad\": 22},\n",
    "    {\"nombre\": \"Carlos\", \"id\": 3, \"edad\": 21}\n",
    "]\n",
    "\n",
    "Desarrolle el código en la siguiente lista."
   ]
  },
  {
   "cell_type": "markdown",
   "id": "a11871f3",
   "metadata": {},
   "source": [
    "# Actividad: Rebanado de listas.\n",
    "\n",
    "Revisa la unidad 10,sección 5.3 aparece un resumen de los comandos para tomar secciones de una lista, aplica los comandos en la siguiente lista:\n",
    "\n",
    "\n",
    "list_notas = [15, 21, 24, 40, 13, 14, 18, 17, 14.5]\n",
    "\n"
   ]
  },
  {
   "cell_type": "code",
   "execution_count": 43,
   "id": "1e7a5371",
   "metadata": {},
   "outputs": [
    {
     "name": "stdout",
     "output_type": "stream",
     "text": [
      "[15, 21, 24, 40, 13, 14, 18, 17, 14.5] [15, 21, 24, 40, 13, 14, 18, 17, 14.5] [15, 21, 24, 40, 13, 14, 18, 17, 14.5] [15, 24, 13, 18, 14.5] [17, 14.5] [14.5, 17, 18, 14, 13, 40, 24, 21, 15] [21, 15]\n"
     ]
    }
   ],
   "source": [
    "# Espacio para desarrollar las pruebas, si tienes alguna duda o comentario adicional\n",
    "# lo puedes dejar planteado acá.\n",
    "\n",
    "list_notas = [15, 21, 24, 40, 13, 14, 18, 17, 14.5]\n",
    "print(list_notas[0:]\n",
    ",list_notas[:len(list_notas)] ## aplicamos len para hacerlo hasta el final\n",
    ",list_notas[:]\n",
    ",list_notas[0::2]\n",
    ",list_notas[-2:]\n",
    ",list_notas[::-1]\n",
    ",list_notas[1::-1], end = \"\\n\")"
   ]
  },
  {
   "cell_type": "markdown",
   "id": "a207d974",
   "metadata": {},
   "source": [
    "\n",
    "# Actividad: Diferentes métodos usados en listas.\n",
    "\n",
    "De la unidad 10, sección 6.3 revise los métodos disponibles para usar sobre las listas.\n",
    "\n",
    "Aplique los métodos disponibles sobre la lista mostrada en la siguiente celda. \n",
    "\n",
    "Nota: usando el método **sort()** ordene de mayor a menor y viceversa (Si es necesario revise documentación adicional relacionada sobre este método)\n"
   ]
  },
  {
   "cell_type": "code",
   "execution_count": 22,
   "id": "b4ac1d5a",
   "metadata": {},
   "outputs": [
    {
     "data": {
      "text/plain": [
       "[40, 24, 21, 18, 17, 15, 14.5, 14, 13, 13]"
      ]
     },
     "execution_count": 22,
     "metadata": {},
     "output_type": "execute_result"
    }
   ],
   "source": [
    "# Aplique los métodos disponibles y agregue comentarios breves sobre su funcinamiento.\n",
    "\n",
    "list_notas = [15, 21, 24, 40, 13, 14, 18, 13, 17, 14.5]\n",
    "\n",
    "# Espacio para desarrollo del código y comentarios.\n",
    "\n",
    "list_notas.append(12) ##agrega el numero 12 a la lista\n",
    "list_notas.extend([98,96]) ##agrega los elementos de un iterable a una lista\n",
    "list_notas.insert(90) ##agreaga un elemento en la utlima posicion de la lista\n",
    "list_notas.remove(17) ## elimina el primer elemento que encuentre\n",
    "list_notas.pop() ##elimina le ultimo elemento de una lista\n",
    "list_notas.index(24) ## devuelve el indice del elemento en la lista, en este caso  2 \n",
    "list_notas.count(13) ##devuelve cuantas veces aparece un elemento en la lista, en este caso 2\n",
    "list_notas.sort() ##ordena de mayor a menor\n",
    "list_notas.reverse() ## devuelve los valores de la lista pero invertidos \n",
    "list_notas.sort(reverse=True) ##ordena de menor a mayor\n",
    "list_notas.clear() ##elimina todos los elementos de la lista"
   ]
  },
  {
   "cell_type": "markdown",
   "id": "26a6bb9e",
   "metadata": {},
   "source": [
    "# Actividad: Crear diccionarios y guardarlos como archivo JSON.\n",
    "\n",
    "De la unidad 11 sección 4.6 revise el ejemplo mostrado.\n",
    "\n",
    "Genera un diccionario, sobre la información que deseas guardar como base de datos, desarrollo el código necesario para generar el archivo JSON, y también el código para cargar la información del archivo JSON.\n"
   ]
  },
  {
   "cell_type": "code",
   "execution_count": 58,
   "id": "6670eace",
   "metadata": {},
   "outputs": [],
   "source": [
    "# Espacio para desarrollar el código.\n",
    "import json\n",
    "\n",
    "data = '{\"Nombre\":\"Lionel Messi\",\"Equipo\":\"Barcelona\",\"Goles\":\"105\"}'\n",
    "json_data = json.loads(data)\n",
    "\n",
    "#codigo parar crear el archivo JSON\n",
    "with open('book.json','w') as f:\n",
    "    json.dump(json_data, f, indent='\\t')\n"
   ]
  },
  {
   "cell_type": "markdown",
   "id": "fbfb4985",
   "metadata": {},
   "source": [
    "# Actividad: Creación y manejo de tuplas.\n",
    "\n",
    "## Instrucciones\n",
    "\n",
    "1. Escriba una diferencia entre las tuplas y las listas.\n",
    "2. Crear una tupla con varios elementos.\n",
    "3. Usar el operador in para verificar si la tuple contiene determinado elemento.\n"
   ]
  },
  {
   "cell_type": "code",
   "execution_count": 55,
   "id": "fc5b1a43",
   "metadata": {},
   "outputs": [
    {
     "name": "stdout",
     "output_type": "stream",
     "text": [
      "ingresa un numero 2\n"
     ]
    },
    {
     "name": "stdout",
     "output_type": "stream",
     "text": [
      "2 está en la tupla\n"
     ]
    }
   ],
   "source": [
    "# Espacio para desarrollar el código siguiendo las instrucciones.\n",
    "\n",
    "## los elementos en las tuplas no pueden ser redefinidos\n",
    "tup = (1, 2, 3, 4, 5)\n",
    "\n",
    "n = int(input('ingresa un numero'))\n",
    "\n",
    "if n in tup:\n",
    "     print(f'{n} está en la tupla')\n",
    "else:\n",
    "     print(f'{n} no está en la tupla')\n"
   ]
  },
  {
   "cell_type": "markdown",
   "id": "98938d2d",
   "metadata": {},
   "source": [
    "# Actividad: Revisión y manejo de listas bidimensionales.\n",
    "\n",
    "## Instrucciones\n",
    "\n",
    "1. Describa brevemente que entiende por lista bidimensional.\n",
    "2. Crear una lista bidimensional.\n",
    "3. Generar un doble loop para acceder de la lista bidimensional\n",
    "4. Sumar todo los elementos de esta lista bidimensional."
   ]
  },
  {
   "cell_type": "code",
   "execution_count": 56,
   "id": "a35ef1b7",
   "metadata": {},
   "outputs": [
    {
     "name": "stdout",
     "output_type": "stream",
     "text": [
      "La suma de todos los elementos es: 45\n"
     ]
    }
   ],
   "source": [
    "# Espacio para desarrollar el código, escriba comentarias breves para explicar su funcionamiento.\n",
    "\n",
    "## una lista bidimensional es na lista que tiene otra lista dentro\n",
    "\n",
    "# Crear una lista bidimensional\n",
    "matriz = [\n",
    "    [1, 2, 3],\n",
    "    [4, 5, 6],\n",
    "    [7, 8, 9]\n",
    "]\n",
    "\n",
    "# Inicializar la suma\n",
    "suma = 0\n",
    "\n",
    "# Generar un doble loop para acceder a la lista bidimensional y sumar los elementos\n",
    "for fila in matriz:\n",
    "    for elemento in fila:\n",
    "        suma += elemento\n",
    "\n",
    "print(f\"La suma de todos los elementos es: {suma}\")\n"
   ]
  },
  {
   "cell_type": "markdown",
   "id": "4261fa65",
   "metadata": {},
   "source": [
    "# Actividad: Revision de los métodos usados en el manejo de diccionarios.\n",
    "\n",
    "## Instrucciones\n",
    "\n",
    "1. Crear un diccionario.\n",
    "2. Testear los siguientes métodos para el majeo de diccionarios get(), keys(), values(), items(), pop(), clear()\n",
    "3. Agregar un breve comentario sobre su funcionamiento."
   ]
  },
  {
   "cell_type": "code",
   "execution_count": null,
   "id": "2f5887bb",
   "metadata": {},
   "outputs": [],
   "source": [
    "# Espacio para desarrollar el código.\n",
    "\n",
    "# Crear el diccionario\n",
    "mi_diccionario = {\n",
    "    'nombre': 'Jesus',\n",
    "    'edad': 23,\n",
    "    'ciudad': 'La Guaira'\n",
    "}\n",
    "\n",
    "# Método get() Obtiene el valor asociado a una clave. Si la clave no existe devuelve None\n",
    "nombre = mi_diccionario.get('nombre')\n",
    "print(f\"Nombre: {nombre}\")  #Nombre: Jesus\n",
    "\n",
    "# Método keys() Devuelve una vista de todas las claves en del diccionario\n",
    "claves = mi_diccionario.keys()\n",
    "print(f\"Claves: {list(claves)}\")  #Claves: ['nombre', 'edad', 'ciudad']\n",
    "\n",
    "# Método values() Devuelve una vista de todos los valores en el diccionario\n",
    "valores = mi_diccionario.values()\n",
    "print(f\"Valores: {list(valores)}\")  #Valores: ['Jesus', 23, 'La Guaira']\n",
    "\n",
    "# Método items() Devuelve una vista de todos los pares clave-valor en el diccionario\n",
    "items = mi_diccionario.items()\n",
    "print(f\"Items: {list(items)}\")  # [('nombre', 'Jesus'), ('edad', 23), ('ciudad', 'La Guaira')]\n",
    "\n",
    "# Método pop() Elimina la clave especificada y devuelve su valor. Si la clave no existe, lanza un KeyError\n",
    "edad = mi_diccionario.pop('edad')\n",
    "print(f\"Edad borrada: {edad}\")  # Edad borrada: 23\n",
    "print(f\"Diccionario con .pop: {mi_diccionario}\")  # {'nombre': 'Jesus', 'ciudad': 'La Guaira'}\n",
    "\n",
    "# Método clear() Elimina todos los elementos del diccionario\n",
    "mi_diccionario.clear()\n",
    "print(f\"Diccionario con .clear: {mi_diccionario}\")  # Diccionario después de clear: {}\n",
    "\n",
    "\n"
   ]
  }
 ],
 "metadata": {
  "kernelspec": {
   "display_name": "Python 3 (ipykernel)",
   "language": "python",
   "name": "python3"
  },
  "language_info": {
   "codemirror_mode": {
    "name": "ipython",
    "version": 3
   },
   "file_extension": ".py",
   "mimetype": "text/x-python",
   "name": "python",
   "nbconvert_exporter": "python",
   "pygments_lexer": "ipython3",
   "version": "3.12.4"
  }
 },
 "nbformat": 4,
 "nbformat_minor": 5
}
