{
 "cells": [
  {
   "cell_type": "code",
   "execution_count": 5,
   "id": "e87ab2b6-c148-4255-86e3-aff506af605f",
   "metadata": {},
   "outputs": [
    {
     "name": "stdout",
     "output_type": "stream",
     "text": [
      "la edad media de las personas es de 22.75\n"
     ]
    }
   ],
   "source": [
    "## como lo haría yo\n",
    "person1 = ['felipe', 26, 1, 1.80, 79]\n",
    "person2 = ['jenny', 24, 0, 1.60, 72]\n",
    "person3 = ['Adriana', 18, 0, 1.56, 59]\n",
    "person4 = ['Jesus', 23, 1, 1.85, 71]\n",
    "\n",
    "personlist = [person1, person2, person3, person4]\n",
    "\n",
    "n_person = int(len(personlist))\n",
    "\n",
    "suma_age = 0\n",
    "\n",
    "for persona in personlist:\n",
    "        suma_age += float(persona[1])\n",
    "print(f'la edad media de las personas es de {float(suma_age)/float(n_person)}')\n",
    "    \n",
    "        "
   ]
  },
  {
   "cell_type": "code",
   "execution_count": 11,
   "id": "a837385f-4ee4-4854-8d61-343eb0577902",
   "metadata": {},
   "outputs": [
    {
     "name": "stdout",
     "output_type": "stream",
     "text": [
      "la media de la edad de las personas es de 22.75\n"
     ]
    }
   ],
   "source": [
    "person1 = ['felipe', 26, 1, 1.80, 79]\n",
    "person2 = ['jenny', 24, 0, 1.60, 72]\n",
    "person3 = ['Adriana', 18, 0, 1.56, 59]\n",
    "person4 = ['Jesus', 23, 1, 1.85, 71]\n",
    "\n",
    "personlist = person1 + person2 + person3 + person4\n",
    "\n",
    "n_person = int(len(personlist))/5\n",
    "suma_age = 0\n",
    "\n",
    "for i in personlist[1::5]:\n",
    "    suma_age += i\n",
    "\n",
    "print(f'la media de la edad de las personas es de {float(suma_age)/float(n_person)}')\n"
   ]
  },
  {
   "cell_type": "code",
   "execution_count": 15,
   "id": "97f9787e-9c1e-4261-ac7d-fb53737007d1",
   "metadata": {},
   "outputs": [
    {
     "name": "stdout",
     "output_type": "stream",
     "text": [
      "['felipe', 26, 1, 1.8]\n"
     ]
    }
   ],
   "source": [
    "person1 = ['felipe', 26, 1, 1.80, 79]\n",
    "\n",
    "person1.pop()\n",
    "\n",
    "print(person1)"
   ]
  },
  {
   "cell_type": "code",
   "execution_count": 72,
   "id": "3bc28d57-25ae-4cb5-a102-64fc66ea220f",
   "metadata": {},
   "outputs": [
    {
     "name": "stdout",
     "output_type": "stream",
     "text": [
      "[2, 3, 5, 7, 9, 11, 13, 15, 17, 19]\n",
      "primer elemento es [2]\n",
      "[2, 3, 5, 7, 9, 11, 13, 15, 17, 19, 11]\n",
      "2*2 = 4\n",
      "2*3 = 6\n",
      "2*5 = 10\n",
      "2*7 = 14\n",
      "2*9 = 18\n",
      "2*11 = 22\n",
      "2*13 = 26\n",
      "2*15 = 30\n",
      "2*17 = 34\n",
      "2*19 = 38\n",
      "2*11 = 22\n",
      "5*2 = 10\n",
      "5*3 = 15\n",
      "5*5 = 25\n",
      "5*7 = 35\n",
      "5*9 = 45\n",
      "5*11 = 55\n",
      "5*13 = 65\n",
      "5*15 = 75\n",
      "5*17 = 85\n",
      "5*19 = 95\n",
      "5*11 = 55\n",
      "7*2 = 14\n",
      "7*3 = 21\n",
      "7*5 = 35\n",
      "7*7 = 49\n",
      "7*9 = 63\n",
      "7*11 = 77\n",
      "7*13 = 91\n",
      "7*15 = 105\n",
      "7*17 = 119\n",
      "7*19 = 133\n",
      "7*11 = 77\n"
     ]
    }
   ],
   "source": [
    "prime_list=[]\n",
    "n = 20\n",
    "\n",
    "for i in range(2,n+1):\n",
    "    es_primo = True\n",
    "    for j in range(2,i):\n",
    "        if i%j == 0:\n",
    "            es_primo = False\n",
    "        break\n",
    "    if es_primo:\n",
    "        prime_list.append(i)\n",
    "\n",
    "lista2=[2,5,7]\n",
    "\n",
    "print(prime_list)\n",
    "print(f'primer elemento es {prime_list[0:1]}')\n",
    "prime_list.append(11)\n",
    "print(prime_list)\n",
    "\n",
    "for i in lista2:\n",
    "    for j in prime_list:\n",
    "        print(f'{i}*{j} = {i*j}')\n",
    "\n",
    "            "
   ]
  },
  {
   "cell_type": "code",
   "execution_count": 24,
   "id": "3862837e-3c4b-4f5d-bd5f-9886a2d34798",
   "metadata": {},
   "outputs": [
    {
     "name": "stdout",
     "output_type": "stream",
     "text": [
      "['abc', 'bcd', 'opq', 'abba', 'cddc', 'bcdefg']\n"
     ]
    }
   ],
   "source": [
    "s_list = ['abc', 'bcd', 'bcdefg', 'abba', 'cddc', 'opq']\n",
    "length = int(len(s_list)-1)\n",
    "\n",
    "\n",
    "\n",
    "for i in range(0,length):\n",
    "    for j in range(0,length):\n",
    "        if len(s_list[j]) > len(s_list[j + 1]):\n",
    "            aux = s_list[j]\n",
    "            s_list[j] = s_list[j+1]\n",
    "            s_list[j+1] = aux\n",
    "\n",
    "print(s_list)"
   ]
  },
  {
   "cell_type": "code",
   "execution_count": null,
   "id": "a1aad40c-3669-4817-b203-6cf0a26c9cf1",
   "metadata": {},
   "outputs": [],
   "source": []
  },
  {
   "cell_type": "code",
   "execution_count": null,
   "id": "612f953f-de98-4592-915f-2a1db8118882",
   "metadata": {},
   "outputs": [],
   "source": []
  }
 ],
 "metadata": {
  "kernelspec": {
   "display_name": "Python 3 (ipykernel)",
   "language": "python",
   "name": "python3"
  },
  "language_info": {
   "codemirror_mode": {
    "name": "ipython",
    "version": 3
   },
   "file_extension": ".py",
   "mimetype": "text/x-python",
   "name": "python",
   "nbconvert_exporter": "python",
   "pygments_lexer": "ipython3",
   "version": "3.12.4"
  }
 },
 "nbformat": 4,
 "nbformat_minor": 5
}
