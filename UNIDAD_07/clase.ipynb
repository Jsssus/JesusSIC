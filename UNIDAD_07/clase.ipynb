{
 "cells": [
  {
   "cell_type": "code",
   "execution_count": 10,
   "metadata": {},
   "outputs": [
    {
     "name": "stdout",
     "output_type": "stream",
     "text": [
      "ano:  2024\n",
      "fecha dentro de 7 dias 2024-11-11 19:54:07.719636\n",
      "____________________________________________\n",
      "fecha modificada:  2025-07-04 19:54:07.719636\n",
      "____________________________________________\n",
      "obj datatime:  2024-11-04 19:54:07.719636\n",
      "04/11/2024 - 19:54:07\n",
      "2025-01-16 00:00:00\n"
     ]
    }
   ],
   "source": [
    "#Clase 2024-11-04\n",
    "import datetime \n",
    "\n",
    "f_act = datetime.datetime.now()\n",
    "\n",
    "print(\"ano: \", f_act.year)\n",
    "\n",
    "duracion = datetime.timedelta(days=7) #sumar dias\n",
    "f_futura = f_act + duracion #para poder verla\n",
    "\n",
    "print('fecha dentro de 7 dias', f_futura)\n",
    "\n",
    "\n",
    "\n",
    "#remplazar ano y mes\n",
    "print('_'*44)\n",
    "f_modf = f_act.replace(year=2025, month=7) #remplazar \n",
    "print(\"fecha modificada: \",f_modf)\n",
    "\n",
    "#form obj to datatime\n",
    "print('_'*44)\n",
    "print(\"obj datatime: \",f_act)\n",
    "f_formato = f_act.strftime('%d/%m/%Y - %H:%M:%S')\n",
    "print(f_formato)\n",
    "\n",
    "#de str a obj datetime\n",
    "f_str = \"2025-01-16\"\n",
    "f_obj =datetime.datetime.strptime(f_str, \"%Y-%m-%d\")\n",
    "print(f_obj)"
   ]
  },
  {
   "cell_type": "code",
   "execution_count": 4,
   "metadata": {},
   "outputs": [],
   "source": [
    "#para crear graficas\n",
    "import matplotlib.pyplot as plt\n",
    "import numpy as np\n",
    " \n",
    " \n",
    "x = np.random.normal(170,10,250)"
   ]
  },
  {
   "cell_type": "code",
   "execution_count": 11,
   "metadata": {},
   "outputs": [],
   "source": [
    "import calculoN\n",
    "\n",
    "def main():\n",
    "    n = int(input(\"introduzca sumatorias: \"))\n",
    "    \n",
    "    sum1 = calculoN.sum_n(2)\n",
    "    print(sum1)"
   ]
  },
  {
   "cell_type": "code",
   "execution_count": 5,
   "metadata": {},
   "outputs": [
    {
     "data": {
      "text/plain": [
       "'2.2.3'"
      ]
     },
     "execution_count": 5,
     "metadata": {},
     "output_type": "execute_result"
    }
   ],
   "source": [
    "import pandas as pd \n",
    "\n",
    "pd.__version__"
   ]
  },
  {
   "cell_type": "code",
   "execution_count": 6,
   "metadata": {},
   "outputs": [],
   "source": [
    "s = pd.Series([5,6,7,8])"
   ]
  },
  {
   "cell_type": "code",
   "execution_count": 8,
   "metadata": {},
   "outputs": [],
   "source": [
    "s = pd.Series([5,6,7,8,9], index=[\"uno\",5,4,0,True]) #esto sirve para cambiar los indices de una matriz\n"
   ]
  },
  {
   "cell_type": "code",
   "execution_count": 10,
   "metadata": {},
   "outputs": [
    {
     "name": "stdout",
     "output_type": "stream",
     "text": [
      "Domincana      Santo\n",
      "Vene         Caracas\n",
      "Col             Bogo\n",
      "dtype: object\n",
      "_________________________________\n",
      "Caracas\n"
     ]
    }
   ],
   "source": [
    "paises =  {\"Domincana\": \"Santo\", \"Vene\":\"Caracas\",\"Col\":\"Bogo\"}\n",
    "\n",
    "s = pd.Series(paises)\n",
    "print(s)\n",
    "print('_'*33)\n",
    "\n",
    "print(s[\"Vene\"])"
   ]
  },
  {
   "cell_type": "code",
   "execution_count": 12,
   "metadata": {},
   "outputs": [
    {
     "name": "stdout",
     "output_type": "stream",
     "text": [
      "DatetimeIndex(['2024-10-28', '2024-10-31', '2024-11-03', '2024-11-06',\n",
      "               '2024-11-09'],\n",
      "              dtype='datetime64[ns]', freq='3D')\n",
      "2024-10-28    0.548814\n",
      "2024-10-31    0.715189\n",
      "2024-11-03    0.602763\n",
      "2024-11-06    0.544883\n",
      "2024-11-09    0.423655\n",
      "dtype: float64\n",
      "MultiIndex([('2024-10-28',),\n",
      "            ('2024-10-31',),\n",
      "            ('2024-11-03',),\n",
      "            ('2024-11-06',),\n",
      "            ('2024-11-09',)],\n",
      "           )\n",
      "[0.5488135  0.71518937 0.60276338 0.54488318 0.4236548 ]\n"
     ]
    }
   ],
   "source": [
    "np.random.seed(0) #revisar \n",
    "\n",
    "fechas = pd.date_range('2024-10-28','2024-11-11', freq = \"3D\")\n",
    "print(fechas)\n",
    "\n",
    "elem = np.random.random(size=5) #tamano del array\n",
    "\n",
    "s = pd.Series(elem,index=[fechas]) #cambiar el index por las fechas\n",
    "\n",
    "print(s)\n",
    "print(s.index)\n",
    "print(s.values)\n"
   ]
  },
  {
   "cell_type": "code",
   "execution_count": 13,
   "metadata": {},
   "outputs": [
    {
     "name": "stdout",
     "output_type": "stream",
     "text": [
      "0    4\n",
      "dtype: int64\n"
     ]
    }
   ],
   "source": [
    "import pandas as pd\n",
    "\n",
    "s=pd.Series(4)\n",
    "print(s)"
   ]
  }
 ],
 "metadata": {
  "kernelspec": {
   "display_name": "Python 3",
   "language": "python",
   "name": "python3"
  },
  "language_info": {
   "codemirror_mode": {
    "name": "ipython",
    "version": 3
   },
   "file_extension": ".py",
   "mimetype": "text/x-python",
   "name": "python",
   "nbconvert_exporter": "python",
   "pygments_lexer": "ipython3",
   "version": "3.12.6"
  }
 },
 "nbformat": 4,
 "nbformat_minor": 2
}
