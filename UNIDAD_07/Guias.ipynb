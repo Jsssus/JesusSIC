{
 "cells": [
  {
   "cell_type": "code",
   "execution_count": 4,
   "metadata": {},
   "outputs": [
    {
     "name": "stdout",
     "output_type": "stream",
     "text": [
      "▇        \n",
      "▇        \n",
      "▇        \n",
      "▇        \n",
      "▇        \n",
      "▇        \n",
      "▇        \n",
      "▇        \n",
      "▇        \n",
      "▇ ▇     ▇\n",
      "\n"
     ]
    }
   ],
   "source": [
    "#Guia 1\n",
    "import matplotlib\n",
    "import chart  \n",
    "\n",
    "x = [1,2,3,4,5,66,7,4,3,23,1]\n",
    "\n",
    "chart.histogram(x)\n"
   ]
  },
  {
   "cell_type": "code",
   "execution_count": 14,
   "metadata": {},
   "outputs": [],
   "source": [
    "def fund(t):\n",
    "    return t*5+3"
   ]
  },
  {
   "cell_type": "code",
   "execution_count": 2,
   "metadata": {},
   "outputs": [
    {
     "name": "stdout",
     "output_type": "stream",
     "text": [
      "la donacion fue de: 13\n"
     ]
    }
   ],
   "source": [
    "import found_cal as fc # no funciona aqui\n",
    "def main():\n",
    "    t = int(input(\"ingresa un numero de personas que participaron: \"))\n",
    "    total = fc.fund(t)\n",
    "    \n",
    "    print(\"la donacion fue de:\", total)\n",
    "    \n",
    "main()"
   ]
  },
  {
   "cell_type": "code",
   "execution_count": 3,
   "metadata": {},
   "outputs": [
    {
     "data": {
      "text/plain": [
       "5"
      ]
     },
     "execution_count": 3,
     "metadata": {},
     "output_type": "execute_result"
    }
   ],
   "source": [
    "from math import sin, cos, tan\n",
    "sin(1)\n",
    "cos(1)\n",
    "tan(1)\n",
    "\n",
    "from math import *\n",
    "\n",
    "ceil(4.6) \n"
   ]
  },
  {
   "cell_type": "code",
   "execution_count": 4,
   "metadata": {},
   "outputs": [
    {
     "name": "stdout",
     "output_type": "stream",
     "text": [
      "[4, 5, 8, 9, 7, 6]\n"
     ]
    }
   ],
   "source": [
    "import random\n",
    "\n",
    "data = [1,2,3,4,5,6,7,8,9]\n",
    "\n",
    "a = random.sample(data,6)\n",
    "\n",
    "print(a)\n"
   ]
  },
  {
   "cell_type": "code",
   "execution_count": 11,
   "metadata": {},
   "outputs": [
    {
     "name": "stdout",
     "output_type": "stream",
     "text": [
      "['Coco']\n"
     ]
    }
   ],
   "source": [
    "import random\n",
    "\n",
    "lista = [\"Rocco\", \"Pelusa\", \"Kripto\",\"Coco\"]\n",
    "aleatorio = random.choices(lista,k=1)\n",
    "\n",
    "print(aleatorio)"
   ]
  },
  {
   "cell_type": "code",
   "execution_count": 16,
   "metadata": {},
   "outputs": [
    {
     "name": "stdout",
     "output_type": "stream",
     "text": [
      "48\n"
     ]
    }
   ],
   "source": [
    "import random\n",
    "\n",
    "x = random.randrange(0,100,2)\n",
    "\n",
    "print(x)"
   ]
  },
  {
   "cell_type": "code",
   "execution_count": 17,
   "metadata": {},
   "outputs": [
    {
     "name": "stdout",
     "output_type": "stream",
     "text": [
      "2024-11-05\n",
      "2024\n",
      "11\n",
      "5\n"
     ]
    }
   ],
   "source": [
    "import datetime\n",
    "\n",
    "today =  datetime.date.today()\n",
    "\n",
    "print(today)\n",
    "print(today.year)\n",
    "print(today.month)\n",
    "print(today.day)"
   ]
  },
  {
   "cell_type": "code",
   "execution_count": 18,
   "metadata": {},
   "outputs": [
    {
     "name": "stdout",
     "output_type": "stream",
     "text": [
      "2024-11-05 23:26:52.742209\n",
      "2024\n",
      "11\n",
      "5\n",
      "23\n",
      "26\n",
      "52\n"
     ]
    }
   ],
   "source": [
    "import datetime\n",
    "\n",
    "now =  datetime.datetime.now()\n",
    "\n",
    "print(now)\n",
    "print(now.year)\n",
    "print(now.month)\n",
    "print(now.day)\n",
    "print(now.hour)\n",
    "print(now.minute)\n",
    "print(now.second)"
   ]
  },
  {
   "cell_type": "code",
   "execution_count": 3,
   "metadata": {},
   "outputs": [
    {
     "name": "stdout",
     "output_type": "stream",
     "text": [
      "64 days, 8:05:29.900010\n"
     ]
    }
   ],
   "source": [
    "from datetime import timedelta\n",
    "\n",
    "delta = timedelta(\n",
    "    days= 50,\n",
    "    seconds = 27,\n",
    "    microseconds= 10,\n",
    "    milliseconds= 2900,\n",
    "    minutes=5,\n",
    "    hours=8,\n",
    "    weeks=2\n",
    ")\n",
    "\n",
    "print(delta)"
   ]
  },
  {
   "cell_type": "code",
   "execution_count": null,
   "metadata": {},
   "outputs": [
    {
     "name": "stdout",
     "output_type": "stream",
     "text": [
      "2000-06-02 00:00:00\n"
     ]
    }
   ],
   "source": [
    "import datetime #sirve para indicar diferencias, pero no remplaza\n",
    "\n",
    "d = datetime.datetime(2000,5,3)\n",
    "\n",
    "delta = datetime.timedelta(days = 30)\n",
    "\n",
    "print(d+delta)"
   ]
  },
  {
   "cell_type": "code",
   "execution_count": 7,
   "metadata": {},
   "outputs": [
    {
     "name": "stdout",
     "output_type": "stream",
     "text": [
      "2024-11-08 00:55:33.676125\n",
      "2024-12-30 00:55:33.676125\n"
     ]
    }
   ],
   "source": [
    "from datetime import datetime\n",
    "\n",
    "now = datetime.now()\n",
    "\n",
    "print(now)\n",
    "\n",
    "replace_time = now.replace(month=12, day = 30)\n",
    "\n",
    "print(replace_time)"
   ]
  },
  {
   "cell_type": "code",
   "execution_count": null,
   "metadata": {},
   "outputs": [
    {
     "data": {
      "text/plain": [
       "'c:\\\\Users\\\\Jesus\\\\Desktop\\\\AnacondaS_SIC\\\\UNIDAD_07'"
      ]
     },
     "execution_count": 9,
     "metadata": {},
     "output_type": "execute_result"
    }
   ],
   "source": [
    "#funciones relacionadas al sistema operativo\n",
    "\n",
    "import os \n",
    "os.getcwd()#saber donde esto"
   ]
  },
  {
   "cell_type": "code",
   "execution_count": null,
   "metadata": {},
   "outputs": [
    {
     "data": {
      "text/plain": [
       "['2024-11-06_clase_sic.png',\n",
       " 'calculoN.py',\n",
       " 'cap7_clase13y14.ipynb',\n",
       " 'clase.ipynb',\n",
       " 'found_cal.py',\n",
       " 'Guias.ipynb',\n",
       " 'Prueba_found_Cal.py',\n",
       " 'sem07_asin_Actividad_Capítulo_07_Jesus_Ramirez.ipynb',\n",
       " 'ted_main.csv',\n",
       " '__pycache__']"
      ]
     },
     "execution_count": 10,
     "metadata": {},
     "output_type": "execute_result"
    }
   ],
   "source": [
    "import os \n",
    "os.listdir() #lista"
   ]
  },
  {
   "cell_type": "code",
   "execution_count": null,
   "metadata": {},
   "outputs": [],
   "source": [
    "import os\n",
    "\n",
    "os.makedirs() #crear carpeta\n",
    "\n",
    "os.rmdir()#eliminar\n",
    "\n",
    "os.getcwd()#devuelve la ruta\n",
    "\n",
    "os.listdir()#c"
   ]
  },
  {
   "cell_type": "code",
   "execution_count": 12,
   "metadata": {},
   "outputs": [
    {
     "name": "stdout",
     "output_type": "stream",
     "text": [
      "[60, 55, 15]\n"
     ]
    }
   ],
   "source": [
    "import random\n",
    "\n",
    "i=[]\n",
    "\n",
    "while len(i) < 3:\n",
    "    numero_ramdon = random.randint(0,100)\n",
    "    if numero_ramdon % 5 == 0:\n",
    "        i.append(numero_ramdon)\n",
    "\n",
    "print(i)"
   ]
  },
  {
   "cell_type": "code",
   "execution_count": 14,
   "metadata": {},
   "outputs": [
    {
     "name": "stdout",
     "output_type": "stream",
     "text": [
      "ingresa la fecha desde la que vamos a calcular el aniversario\n",
      "2024-12-08 00:00:00\n"
     ]
    }
   ],
   "source": [
    "import datetime \n",
    "\n",
    "print(\"ingresa la fecha desde la que vamos a calcular el aniversario\")\n",
    "ano_cliente = int(input(\"ingresa el año:\"))\n",
    "mes_cliente = int(input(\"ingresa el mes:\"))\n",
    "dia_cliente = int(input(\"ingresa el dia:\"))\n",
    "dia_aniver_cliente = int(input(\"en cuantos dias es el aniversario?:\"))\n",
    "\n",
    "d_start = datetime.datetime(ano_cliente,mes_cliente,dia_cliente)\n",
    "\n",
    "delta = datetime.timedelta(days = dia_aniver_cliente)\n",
    "\n",
    "print(d_start+delta)\n",
    "\n"
   ]
  },
  {
   "cell_type": "code",
   "execution_count": 4,
   "metadata": {},
   "outputs": [
    {
     "name": "stdout",
     "output_type": "stream",
     "text": [
      "Has sacado:  [6, 5, 3]\n",
      "Rolling otra vez...\n",
      "Nuevo tiro <function roll_de_nuevo at 0x000002B52324F9C0>\n",
      "computer first roll:  [5, 1, 1]\n",
      "la computadora está pensado: \n",
      "eleccion de la computadora:  -rr\n",
      "Rolling otra vez...\n",
      "Nueva tirada de la computadora:  [5, 3, 4]\n",
      "computer total: 12\n",
      "jugador total: 12\n",
      "es empate\n"
     ]
    }
   ],
   "source": [
    "#Tirar dados\n",
    "\n",
    "num_dado = int(input(\"ingresa el numero de veces que tiraremos el dado:\"))\n",
    "ready = input(\"presia cualquier tecla para comenzar:\")\n",
    "\n",
    "import random\n",
    "\n",
    "#funcion tirar dado\n",
    "def roll_dado(n):\n",
    "    dado = [] #creamos una lista para los valores de dados\n",
    "\n",
    "    for i in range(n):#for segun la cantidad de veces\n",
    "        dado.append(random.randint(1,6)) # random para los datos\n",
    "    return dado\n",
    "\n",
    "jugador_roll = roll_dado(num_dado)\n",
    "print(\"Has sacado: \", jugador_roll)\n",
    "\n",
    "#para que el usuario pueda repetir o mantener la opción que ha elegido\n",
    "jugador_opciones = input(\"presiona (-) para mantener o (r) para repetir: \")\n",
    "\n",
    "\n",
    "import time\n",
    "#tirar de nuevo\n",
    "def roll_de_nuevo(opcion, lista_dados):#recibe jugador_opciones y roll_dado\n",
    "    print(\"Rolling otra vez...\")\n",
    "    time.sleep(3)\n",
    "    for i in range(len(opcion)):#por cada iteracion de en el len de opciones cambiará el valor del index iterado por uno nuevo\n",
    "        if opcion[i] == \"r\":\n",
    "            lista_dados[i] = random.randint(1,6)\n",
    "    time.sleep(3)\n",
    "\n",
    "if jugador_opciones == \"r\":\n",
    "    roll_de_nuevo(jugador_opciones, jugador_roll)\n",
    "    print(\"Nuevo tiro\", roll_de_nuevo)\n",
    "elif jugador_opciones == \"-\":\n",
    "    print(\"Turno de la pc\")\n",
    "\n",
    "\n",
    "#turno de la computadora\n",
    "computadora_roll = roll_dado(num_dado)\n",
    "print(\"computer first roll: \", computadora_roll)\n",
    "\n",
    "def computadora_estrategia1(n):\n",
    "    print(\"la computadora está pensado: \")\n",
    "    time.sleep(3)\n",
    "    opciones = ''\n",
    "\n",
    "def computadora_estrategia2(n):\n",
    "    print(\"la computadora está pensado: \")\n",
    "    time.sleep(3)\n",
    "    opciones = ''\n",
    "    for i in range(n):\n",
    "        if computadora_roll[i]<5:\n",
    "            opciones = opciones + 'r'\n",
    "        else:\n",
    "            opciones = opciones + '-'\n",
    "    return opciones \n",
    "\n",
    "#la computadora elige la estrategia\n",
    "computer_choices = computadora_estrategia2(num_dado)#llamamos a la estrategia\n",
    "print('eleccion de la computadora: ',computer_choices)\n",
    "\n",
    "#la computadora tira de nuevo\n",
    "roll_de_nuevo(computer_choices, computadora_roll)\n",
    "print(\"Nueva tirada de la computadora: \", computadora_roll)\n",
    "\n",
    "\n",
    "#encontrar ganador\n",
    "def encontrar_ganador(c_dado_list, u_dado_list):\n",
    "    computer_total = sum(c_dado_list) #lista de la computadora\n",
    "    user_total = sum(u_dado_list) #lista del usuario\n",
    "    print(\"computer total:\", computer_total)\n",
    "    print(\"jugador total:\", user_total) \n",
    "    \n",
    "    if user_total > computer_total:\n",
    "        print(\"usuario gana\")\n",
    "    elif computer_total > user_total:\n",
    "        print(\"computadora gana\")\n",
    "    else:\n",
    "        print(\"es empate\")\n",
    "        \n",
    "        \n",
    "encontrar_ganador(computadora_roll,jugador_roll)\n",
    "\n"
   ]
  },
  {
   "cell_type": "code",
   "execution_count": 9,
   "metadata": {},
   "outputs": [
    {
     "name": "stdout",
     "output_type": "stream",
     "text": [
      "q      1\n",
      "1      2\n",
      "cat    3\n",
      "2      4\n",
      "d      5\n",
      "dog    6\n",
      "dtype: int64\n",
      "0    capitan\n",
      "1     spider\n",
      "2       hulk\n",
      "dtype: object\n",
      "capitan    2020\n",
      "spider     2021\n",
      "hulk       2022\n",
      "dtype: int64\n"
     ]
    },
    {
     "data": {
      "text/plain": [
       "Index(['capitan', 'spider', 'hulk'], dtype='object')"
      ]
     },
     "execution_count": 9,
     "metadata": {},
     "output_type": "execute_result"
    }
   ],
   "source": [
    "import pandas as pd\n",
    "\n",
    "s = pd.Series([1,2,3,4,5,6], index = ['q',1,'cat',2,'d','dog'])\n",
    "print(s)\n",
    "\n",
    "\n",
    "marvel = ['capitan', 'spider','hulk']\n",
    "s = pd.Series(marvel)\n",
    "print(s)\n",
    "\n",
    "\n",
    "marvel_year= {'capitan':2020, 'spider':2021,'hulk':2022}\n",
    "s = pd.Series(marvel_year)\n",
    "print(s)\n",
    "s.index"
   ]
  },
  {
   "cell_type": "code",
   "execution_count": 12,
   "metadata": {},
   "outputs": [
    {
     "name": "stdout",
     "output_type": "stream",
     "text": [
      "0    10\n",
      "1    11\n",
      "2    12\n",
      "3    13\n",
      "4    14\n",
      "5    15\n",
      "dtype: int64\n"
     ]
    }
   ],
   "source": [
    "import pandas as pd\n",
    "import numpy as np\n",
    "\n",
    "n = np.arange(10,16) #crea una matriz\n",
    "\n",
    "s = pd.Series(n)\n",
    "\n",
    "print(s)\n"
   ]
  },
  {
   "cell_type": "code",
   "execution_count": 15,
   "metadata": {},
   "outputs": [
    {
     "name": "stdout",
     "output_type": "stream",
     "text": [
      "0    0.548814\n",
      "1    0.715189\n",
      "2    0.602763\n",
      "3    0.544883\n",
      "4    0.423655\n",
      "5    0.645894\n",
      "dtype: float64\n"
     ]
    }
   ],
   "source": [
    "import pandas as pd\n",
    "import numpy as np\n",
    "\n",
    "np.random.seed(0)\n",
    "\n",
    "r = np.random.random(size = 6)\n",
    "\n",
    "s = pd.Series(r)\n",
    "print(s)"
   ]
  },
  {
   "cell_type": "code",
   "execution_count": 4,
   "metadata": {},
   "outputs": [
    {
     "data": {
      "text/plain": [
       "array(['elemet1', 'elemet2', 'element3'], dtype=object)"
      ]
     },
     "execution_count": 4,
     "metadata": {},
     "output_type": "execute_result"
    }
   ],
   "source": [
    "import pandas as pd\n",
    "\n",
    "prueba = ['elemet1','elemet2','element3']\n",
    "\n",
    "s = pd.Series(prueba, index = (\"a\", \"b\",\"c\"))\n",
    "\n",
    "s.values"
   ]
  },
  {
   "cell_type": "code",
   "execution_count": 13,
   "metadata": {},
   "outputs": [
    {
     "name": "stdout",
     "output_type": "stream",
     "text": [
      "a    1\n",
      "b    4\n",
      "c    9\n",
      "dtype: int64\n"
     ]
    }
   ],
   "source": [
    "import pandas as pd\n",
    "\n",
    "s= [1,2,3]\n",
    "sr = pd.Series(s, index = (\"a\", \"b\",\"c\"))\n",
    "\n",
    "sr['c']\n",
    "sr[['a','b']]\n",
    "\n",
    "print(sr**2)"
   ]
  },
  {
   "cell_type": "code",
   "execution_count": 14,
   "metadata": {},
   "outputs": [
    {
     "data": {
      "text/plain": [
       "Text(0, 0.5, 'y some numbres')"
      ]
     },
     "execution_count": 14,
     "metadata": {},
     "output_type": "execute_result"
    },
    {
     "data": {
      "image/png": "[encoded data removed]",
      "text/plain": [
       "<Figure size 640x480 with 1 Axes>"
      ]
     },
     "metadata": {},
     "output_type": "display_data"
    }
   ],
   "source": [
    "import matplotlib.pyplot as plt\n",
    "\n",
    "x = range(100)\n",
    "y = [value ** 2 for value in x]\n",
    "\n",
    "plt.plot(x,y, linewidth = 1, color = 'red')\n",
    "\n",
    "plt.title('hello word of chart')\n",
    "plt.xlabel('x some numbres')\n",
    "plt.ylabel('y some numbres')"
   ]
  },
  {
   "cell_type": "code",
   "execution_count": 15,
   "metadata": {},
   "outputs": [
    {
     "data": {
      "text/plain": [
       "<function matplotlib.pyplot.show(close=None, block=None)>"
      ]
     },
     "execution_count": 15,
     "metadata": {},
     "output_type": "execute_result"
    },
    {
     "data": {
      "image/png": "[encoded data removed]",
      "text/plain": [
       "<Figure size 640x480 with 1 Axes>"
      ]
     },
     "metadata": {},
     "output_type": "display_data"
    }
   ],
   "source": [
    "from matplotlib import pyplot as plt\n",
    "\n",
    "days_in_year = [88, 225, 365,687, 4333, 10756, 30687, 60190, 90553]\n",
    "plt.bar(range(len(days_in_year)),days_in_year)\n",
    "plt.show"
   ]
  }
 ],
 "metadata": {
  "kernelspec": {
   "display_name": "Python 3",
   "language": "python",
   "name": "python3"
  },
  "language_info": {
   "codemirror_mode": {
    "name": "ipython",
    "version": 3
   },
   "file_extension": ".py",
   "mimetype": "text/x-python",
   "name": "python",
   "nbconvert_exporter": "python",
   "pygments_lexer": "ipython3",
   "version": "3.12.6"
  }
 },
 "nbformat": 4,
 "nbformat_minor": 2
}
