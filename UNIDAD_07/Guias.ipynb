{
 "cells": [
  {
   "cell_type": "code",
   "execution_count": 4,
   "metadata": {},
   "outputs": [
    {
     "name": "stdout",
     "output_type": "stream",
     "text": [
      "▇        \n",
      "▇        \n",
      "▇        \n",
      "▇        \n",
      "▇        \n",
      "▇        \n",
      "▇        \n",
      "▇        \n",
      "▇        \n",
      "▇ ▇     ▇\n",
      "\n"
     ]
    }
   ],
   "source": [
    "#Guia 1\n",
    "import matplotlib\n",
    "import chart  \n",
    "\n",
    "x = [1,2,3,4,5,66,7,4,3,23,1]\n",
    "\n",
    "chart.histogram(x)\n"
   ]
  },
  {
   "cell_type": "code",
   "execution_count": 14,
   "metadata": {},
   "outputs": [],
   "source": [
    "def fund(t):\n",
    "    return t*5+3"
   ]
  },
  {
   "cell_type": "code",
   "execution_count": 2,
   "metadata": {},
   "outputs": [
    {
     "name": "stdout",
     "output_type": "stream",
     "text": [
      "la donacion fue de: 13\n"
     ]
    }
   ],
   "source": [
    "import found_cal as fc # no funciona aqui\n",
    "def main():\n",
    "    t = int(input(\"ingresa un numero de personas que participaron: \"))\n",
    "    total = fc.fund(t)\n",
    "    \n",
    "    print(\"la donacion fue de:\", total)\n",
    "    \n",
    "main()"
   ]
  },
  {
   "cell_type": "code",
   "execution_count": 3,
   "metadata": {},
   "outputs": [
    {
     "data": {
      "text/plain": [
       "5"
      ]
     },
     "execution_count": 3,
     "metadata": {},
     "output_type": "execute_result"
    }
   ],
   "source": [
    "from math import sin, cos, tan\n",
    "sin(1)\n",
    "cos(1)\n",
    "tan(1)\n",
    "\n",
    "from math import *\n",
    "\n",
    "ceil(4.6) \n"
   ]
  },
  {
   "cell_type": "code",
   "execution_count": 4,
   "metadata": {},
   "outputs": [
    {
     "name": "stdout",
     "output_type": "stream",
     "text": [
      "[4, 5, 8, 9, 7, 6]\n"
     ]
    }
   ],
   "source": [
    "import random\n",
    "\n",
    "data = [1,2,3,4,5,6,7,8,9]\n",
    "\n",
    "a = random.sample(data,6)\n",
    "\n",
    "print(a)\n"
   ]
  },
  {
   "cell_type": "code",
   "execution_count": 11,
   "metadata": {},
   "outputs": [
    {
     "name": "stdout",
     "output_type": "stream",
     "text": [
      "['Coco']\n"
     ]
    }
   ],
   "source": [
    "import random\n",
    "\n",
    "lista = [\"Rocco\", \"Pelusa\", \"Kripto\",\"Coco\"]\n",
    "aleatorio = random.choices(lista,k=1)\n",
    "\n",
    "print(aleatorio)"
   ]
  },
  {
   "cell_type": "code",
   "execution_count": 16,
   "metadata": {},
   "outputs": [
    {
     "name": "stdout",
     "output_type": "stream",
     "text": [
      "48\n"
     ]
    }
   ],
   "source": [
    "import random\n",
    "\n",
    "x = random.randrange(0,100,2)\n",
    "\n",
    "print(x)"
   ]
  },
  {
   "cell_type": "code",
   "execution_count": 17,
   "metadata": {},
   "outputs": [
    {
     "name": "stdout",
     "output_type": "stream",
     "text": [
      "2024-11-05\n",
      "2024\n",
      "11\n",
      "5\n"
     ]
    }
   ],
   "source": [
    "import datetime\n",
    "\n",
    "today =  datetime.date.today()\n",
    "\n",
    "print(today)\n",
    "print(today.year)\n",
    "print(today.month)\n",
    "print(today.day)"
   ]
  },
  {
   "cell_type": "code",
   "execution_count": 18,
   "metadata": {},
   "outputs": [
    {
     "name": "stdout",
     "output_type": "stream",
     "text": [
      "2024-11-05 23:26:52.742209\n",
      "2024\n",
      "11\n",
      "5\n",
      "23\n",
      "26\n",
      "52\n"
     ]
    }
   ],
   "source": [
    "import datetime\n",
    "\n",
    "now =  datetime.datetime.now()\n",
    "\n",
    "print(now)\n",
    "print(now.year)\n",
    "print(now.month)\n",
    "print(now.day)\n",
    "print(now.hour)\n",
    "print(now.minute)\n",
    "print(now.second)"
   ]
  },
  {
   "cell_type": "code",
   "execution_count": 3,
   "metadata": {},
   "outputs": [
    {
     "name": "stdout",
     "output_type": "stream",
     "text": [
      "64 days, 8:05:29.900010\n"
     ]
    }
   ],
   "source": [
    "from datetime import timedelta\n",
    "\n",
    "delta = timedelta(\n",
    "    days= 50,\n",
    "    seconds = 27,\n",
    "    microseconds= 10,\n",
    "    milliseconds= 2900,\n",
    "    minutes=5,\n",
    "    hours=8,\n",
    "    weeks=2\n",
    ")\n",
    "\n",
    "print(delta)"
   ]
  },
  {
   "cell_type": "code",
   "execution_count": null,
   "metadata": {},
   "outputs": [
    {
     "name": "stdout",
     "output_type": "stream",
     "text": [
      "2000-06-02 00:00:00\n"
     ]
    }
   ],
   "source": [
    "import datetime #sirve para indicar diferencias, pero no remplaza\n",
    "\n",
    "d = datetime.datetime(2000,5,3)\n",
    "\n",
    "delta = datetime.timedelta(days = 30)\n",
    "\n",
    "print(d+delta)"
   ]
  },
  {
   "cell_type": "code",
   "execution_count": 7,
   "metadata": {},
   "outputs": [
    {
     "name": "stdout",
     "output_type": "stream",
     "text": [
      "2024-11-08 00:55:33.676125\n",
      "2024-12-30 00:55:33.676125\n"
     ]
    }
   ],
   "source": [
    "from datetime import datetime\n",
    "\n",
    "now = datetime.now()\n",
    "\n",
    "print(now)\n",
    "\n",
    "replace_time = now.replace(month=12, day = 30)\n",
    "\n",
    "print(replace_time)"
   ]
  },
  {
   "cell_type": "code",
   "execution_count": null,
   "metadata": {},
   "outputs": [],
   "source": [
    "#funciones relacionadas al sistema operativo\n",
    "\n",
    "import os \n",
    "os.getcwd()\n",
    "\n",
    "import os \n",
    "os.listdir()"
   ]
  }
 ],
 "metadata": {
  "kernelspec": {
   "display_name": "Python 3",
   "language": "python",
   "name": "python3"
  },
  "language_info": {
   "codemirror_mode": {
    "name": "ipython",
    "version": 3
   },
   "file_extension": ".py",
   "mimetype": "text/x-python",
   "name": "python",
   "nbconvert_exporter": "python",
   "pygments_lexer": "ipython3",
   "version": "3.12.6"
  }
 },
 "nbformat": 4,
 "nbformat_minor": 2
}
