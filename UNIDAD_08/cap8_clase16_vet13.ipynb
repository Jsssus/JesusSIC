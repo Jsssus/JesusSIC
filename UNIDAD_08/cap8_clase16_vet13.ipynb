{
 "cells": [
  {
   "cell_type": "markdown",
   "id": "5eccef8b",
   "metadata": {},
   "source": [
    "# Pivot"
   ]
  },
  {
   "cell_type": "code",
   "execution_count": null,
   "id": "75d7f394",
   "metadata": {},
   "outputs": [],
   "source": [
    "import pandas as pd\n",
    "\n",
    "df = pd.DataFrame({\n",
    "    'a':['John', 'Maria', 'Boby'],\n",
    "    'b':['Maestria', 'Pregrado', 'Pregrado'],\n",
    "    'c':[31, 23, 22]\n",
    "}\n",
    ")\n",
    "df"
   ]
  },
  {
   "cell_type": "code",
   "execution_count": null,
   "id": "d121082e",
   "metadata": {},
   "outputs": [],
   "source": [
    "df = df.pivot(index='a', columns='b', values='c')\n",
    "df"
   ]
  },
  {
   "cell_type": "markdown",
   "id": "56006480",
   "metadata": {},
   "source": [
    "# GENERAR UN CSV"
   ]
  },
  {
   "cell_type": "code",
   "execution_count": null,
   "id": "56bf2cb3",
   "metadata": {},
   "outputs": [],
   "source": [
    "import pandas as pd\n",
    "\n",
    "dic = {'pares': [0, 2, 4, 6], 'impares': [1, 3, 5, 7]}\n",
    "\n",
    "df = pd.DataFrame(dic)\n",
    "\n",
    "## Guarda datos en CSV:\n",
    "df.to_csv('num.csv', header=False, index=False)"
   ]
  },
  {
   "cell_type": "code",
   "execution_count": null,
   "id": "8d395f64",
   "metadata": {},
   "outputs": [],
   "source": [
    "df"
   ]
  },
  {
   "cell_type": "code",
   "execution_count": null,
   "id": "57f81e65",
   "metadata": {},
   "outputs": [],
   "source": [
    "from datetime import datetime as dt\n",
    "\n",
    "## Guarda datos en CSV con un nombre variable:\n",
    "fecha = str(dt.now()).split('.')[0]\n",
    "file = f'prueba_{fecha}.csv'\n",
    "df.to_csv(file, index=False)"
   ]
  },
  {
   "cell_type": "code",
   "execution_count": null,
   "id": "92eaf5a1",
   "metadata": {},
   "outputs": [],
   "source": [
    "str(dt.now()).split('.')[0]"
   ]
  },
  {
   "cell_type": "markdown",
   "id": "69d48ae5",
   "metadata": {},
   "source": [
    "_______________________________________________________________"
   ]
  },
  {
   "cell_type": "markdown",
   "id": "9dbac769",
   "metadata": {},
   "source": [
    "# Folium para visualizar datos sobre mapas"
   ]
  },
  {
   "cell_type": "code",
   "execution_count": null,
   "id": "e33f5d73",
   "metadata": {},
   "outputs": [],
   "source": [
    "# import sys\n",
    "# !{sys.executable} -m pip install folium"
   ]
  },
  {
   "cell_type": "code",
   "execution_count": null,
   "id": "5996bba2",
   "metadata": {},
   "outputs": [],
   "source": [
    "## Primer mapa con folium\n",
    "\n",
    "import folium\n",
    "\n",
    "mapa = folium.Map(location=[40.4320, 116.5703], zoom_start=20)\n",
    "mapa"
   ]
  },
  {
   "cell_type": "code",
   "execution_count": null,
   "id": "77ddad4b",
   "metadata": {},
   "outputs": [],
   "source": [
    "## Segundo mapa con folium\n",
    "## centra el mapa en la coordenada,entre mas grande el zoom \n",
    "## mas acercamiento\n",
    "\n",
    "mapa = folium.Map(location=[40.4320, 116.5703], zoom_start=10, tiles='Cartodb dark_matter')\n",
    "mapa"
   ]
  },
  {
   "cell_type": "code",
   "execution_count": null,
   "id": "1d4cd404",
   "metadata": {},
   "outputs": [],
   "source": [
    "## Tercer mapa con folium\n",
    "## centra el mapa en la coordenada,entre mas grande el \n",
    "## zoom mas acercamiento\n",
    "\n",
    "\n",
    "import folium as f\n",
    "import json\n",
    "\n",
    "lat = 35.762887\n",
    "long = 84.083132\n",
    "\n",
    "pais_geojson = json.load(open(\"World_Countries_(Generalized).geojson\"))\n",
    "print(type(pais_geojson))\n",
    "mapa1 = f.Map(location=[lat, long], zoom_start=2)\n",
    "\n",
    "f.GeoJson(pais_geojson, name=\"geojson\").add_to(mapa1)\n",
    "f.LayerControl().add_to(mapa1)\n",
    "mapa1"
   ]
  },
  {
   "cell_type": "code",
   "execution_count": null,
   "id": "7bc70f28",
   "metadata": {},
   "outputs": [],
   "source": [
    "### GRAFICAR LOS PAISES SEPARADOS\n",
    "import folium as f\n",
    "import json\n",
    "\n",
    "MO_LAT = 35.762887\n",
    "MO_LONG = 84.083132\n",
    "\n",
    "county_geojson = json.load(open(\"World_Countries_(Generalized).geojson\"))\n",
    "\n",
    "m= f.Map( location=[MO_LAT, MO_LONG], zoom_start=2 )\n",
    "\n",
    "f.GeoJson( county_geojson, name='geojson').add_to(m)\n",
    "f.LayerControl().add_to(m)\n",
    "m"
   ]
  },
  {
   "cell_type": "markdown",
   "id": "4ed1c471",
   "metadata": {},
   "source": [
    "_______________________________________________________"
   ]
  },
  {
   "cell_type": "markdown",
   "id": "e259bbb7",
   "metadata": {},
   "source": [
    "## Data-Análisis con Pandas: Ejemplo Covid"
   ]
  },
  {
   "cell_type": "markdown",
   "id": "ddd6ab3b",
   "metadata": {},
   "source": [
    "###  Data sobre vacunas covid:\n",
    "####  https://github.com/owid/covid-19-data/tree/master/public/data/vaccinations"
   ]
  },
  {
   "cell_type": "code",
   "execution_count": null,
   "id": "7ace524b",
   "metadata": {},
   "outputs": [],
   "source": [
    "import folium #libreria de los mapas\n",
    "import pandas as pd\n",
    "\n",
    "def write_csv(df, file):\n",
    "    df.to_csv(file)\n",
    "    \n",
    "def open_csv(file):\n",
    "    return pd.read_csv(file)"
   ]
  },
  {
   "cell_type": "code",
   "execution_count": null,
   "id": "71d22a59",
   "metadata": {},
   "outputs": [],
   "source": [
    "###############  SACAR Y ORGANIZAR LA DATA PARA TRABAJAR  ###############\n",
    "# Info de vacunas diarias por país\n",
    "\n",
    "file = \"vaccinations.csv\"\n",
    "df = open_csv(file)\n",
    "df.head()"
   ]
  },
  {
   "cell_type": "code",
   "execution_count": null,
   "id": "9fa1d57f",
   "metadata": {},
   "outputs": [],
   "source": [
    "df.isnull().sum()"
   ]
  },
  {
   "cell_type": "code",
   "execution_count": null,
   "id": "b2e17434",
   "metadata": {},
   "outputs": [],
   "source": [
    "df.info()"
   ]
  },
  {
   "cell_type": "code",
   "execution_count": null,
   "id": "76b7e6a0",
   "metadata": {},
   "outputs": [],
   "source": [
    "df.describe()"
   ]
  },
  {
   "cell_type": "code",
   "execution_count": null,
   "id": "485ded62",
   "metadata": {},
   "outputs": [],
   "source": [
    "# # Método 1 para crear una nueva tabla\n",
    "\n",
    "# ### En lugar de eliminar 12 columnas, extraemos las 4 que requierimos\n",
    "# s_date   = df[\"date\"]\n",
    "# s_entity = df[\"location\"]\n",
    "# s_code   = df[\"iso_code\"]\n",
    "# s_vacs   = df[\"daily_vaccinations\"]\n",
    "\n",
    "# print( type(s_date.iloc[0]), s_date.iloc[0] )\n",
    "# s_date = pd.to_datetime(s_date) # convierto en formato datetime\n",
    "# s_date"
   ]
  },
  {
   "cell_type": "code",
   "execution_count": null,
   "id": "b56413db",
   "metadata": {},
   "outputs": [],
   "source": [
    "# ###############  CREAR EL DATAFRAME  ###############\n",
    "# ### creo el diccionario de series\n",
    "# data = {\"date\":s_date, \"entity\":s_entity, \"code\":s_code, \"dayly_vacs\":s_vacs}\n",
    "# df = pd.DataFrame(data) # convierto el diccionario en dataframe\n",
    "# df.set_index(\"date\", inplace=True) # columna date será el index\n",
    "# df.head()"
   ]
  },
  {
   "cell_type": "code",
   "execution_count": null,
   "id": "60615c53",
   "metadata": {},
   "outputs": [],
   "source": [
    "# Método 2 para crear una nueva tabla\n",
    "df = df.iloc[:, [0,1,2,8]]"
   ]
  },
  {
   "cell_type": "code",
   "execution_count": null,
   "id": "3882bbf8",
   "metadata": {},
   "outputs": [],
   "source": [
    "df"
   ]
  },
  {
   "cell_type": "code",
   "execution_count": null,
   "id": "421bc8b0",
   "metadata": {},
   "outputs": [],
   "source": [
    "df.set_index('date', inplace=True)\n",
    "df"
   ]
  },
  {
   "cell_type": "code",
   "execution_count": null,
   "id": "3d384acc",
   "metadata": {},
   "outputs": [],
   "source": [
    "### descartamos los valores repetidos y los contamos una sola vez\n",
    "print( \"Total de paises:\", len(df[\"location\"].unique()) ) \n",
    "### 235 es el número de locaciones que aparecen en la data"
   ]
  },
  {
   "cell_type": "code",
   "execution_count": null,
   "id": "af5ec9a6",
   "metadata": {},
   "outputs": [],
   "source": [
    "###############  FILTRO POR PAISES (GroupBy)  ###############\n",
    "covid = df.groupby(['location'])#creo grupos para cada locación\n",
    "#agrupa por key:value, donde key son los grupos de entity \n",
    "# (el nombre de cada locacion)\n",
    "covid"
   ]
  },
  {
   "cell_type": "code",
   "execution_count": null,
   "id": "1f07dc6c",
   "metadata": {},
   "outputs": [],
   "source": [
    "for key, group in covid:\n",
    "    print('clave: ', key, '\\size: ', len(group))\n",
    "    print(group.head())\n",
    "    print(\"\\n\")\n",
    "    if \"Andorra\" in key: break"
   ]
  },
  {
   "cell_type": "code",
   "execution_count": null,
   "id": "e1acd9a2",
   "metadata": {},
   "outputs": [],
   "source": [
    "#####  PROCESAMEINTO DE DATOS Y REQUERIMIENTOS  ######\n",
    "total = covid.sum() #sumo el total de daily_vaccinations de cada \n",
    "## locación, resulta en el numero total de personas vacunadas\n",
    "\n",
    "total"
   ]
  },
  {
   "cell_type": "code",
   "execution_count": null,
   "id": "a323aaa6",
   "metadata": {},
   "outputs": [],
   "source": [
    "## la columna 'iso_code' tambien se suma, resulta en:\n",
    "## AFGAFGAFGAFGAFGAFGAFGAFGAFGAFGAFGAFGAFGAFGAFGA...\n",
    "total.drop('iso_code', axis=1, inplace=True)\n",
    "total"
   ]
  },
  {
   "cell_type": "code",
   "execution_count": null,
   "id": "a869aa19",
   "metadata": {},
   "outputs": [],
   "source": [
    "##### CAMBIAR EL NOMBRE DE LA COLUMNA VACCCINATIONS\n",
    "\n",
    "total.rename(columns={'daily_vaccinations':'total_vacs'}, inplace=True)\n",
    "total"
   ]
  },
  {
   "cell_type": "code",
   "execution_count": null,
   "id": "45f71a91",
   "metadata": {},
   "outputs": [],
   "source": [
    "## Almacenamos la información del DataFrame en un .csv\n",
    "\n",
    "write_csv(total, 'total_vacs.csv')"
   ]
  },
  {
   "cell_type": "code",
   "execution_count": null,
   "id": "065e29bc",
   "metadata": {
    "scrolled": true
   },
   "outputs": [],
   "source": [
    "### Necesitamos la geo_data: mapa dividido por paises, \n",
    "### info del .geojson encontrado en:\n",
    "### https://hub.arcgis.com/datasets/esri::world-countries-generalized/explore?location=-1.589978%2C68.791204%2C1.00\n",
    "\n",
    "\n",
    "import folium as f\n",
    "import json\n",
    "\n",
    "file_json = \"World_Countries_(Generalized).geojson\"\n",
    "data_geojson = json.load(open(file_json))\n",
    "\n",
    "# Generando Mapa:\n",
    "lat = 35.762887\n",
    "long = 84.083132\n",
    "mapa1 = f.Map(location=[lat, long], zoom_start=2)\n",
    "\n",
    "# Agregando información al mapa:\n",
    "f.Choropleth(geo_data=data_geojson,\n",
    "                  data=total,\n",
    "                  columns=(total.index, \"total_vacs\"),\n",
    "                  key_on='properties.COUNTRY',\n",
    "                  fill_color=\"Greens\",\n",
    "                  fill_opacity=0.7,\n",
    "                  line_opacity=0.5\n",
    ").add_to(mapa1)\n",
    "\n",
    "folium.LayerControl().add_to(mapa1)\n",
    "mapa1"
   ]
  },
  {
   "cell_type": "code",
   "execution_count": null,
   "id": "c1e223f0",
   "metadata": {},
   "outputs": [],
   "source": [
    "total.loc['Russia']"
   ]
  },
  {
   "cell_type": "code",
   "execution_count": null,
   "id": "ae4935f3",
   "metadata": {},
   "outputs": [],
   "source": [
    "### GRAFICAR EL MAPA DE CALOR\n",
    "import folium\n",
    "import json\n",
    "\n",
    "def open_json(file):\n",
    "    json_data = json.load(open(file))\n",
    "    return json_data  \n",
    "\n",
    "\n",
    "##### GRAFICAR COMO MAPA\n",
    "\n",
    "## https://python-visualization.github.io/folium/\n",
    "\n",
    "center=[35.762887,84.083132] #CENTRO DEL MAPA\n",
    "m=folium.Map(location=center,zoom_start=2,\n",
    "             max_bounds=True,\n",
    "             min_zoom=1,\n",
    "             min_lat=-84,\n",
    "             max_lat=84,\n",
    "             min_lon=-175,\n",
    "             max_lon=187,\n",
    "            )\n",
    "\n",
    "#Necesitamos la geo_data :es el mapa dividido por paises, sacamos esa  info del .geojson encontrado en el siguiente link\n",
    "#https://hub.arcgis.com/datasets/esri::world-countries-generalized/explore?location=-1.589978%2C68.791204%2C1.00\n",
    "\n",
    "file_json=\"World_Countries_(Generalized).geojson\"\n",
    "data_geojson =open_json(file_json)\n",
    "\n",
    "folium.Choropleth(geo_data=data_geojson,\n",
    "                  data=total,\n",
    "                  columns=(total.index,\"total_vacs\"),\n",
    "                  key_on=\"properties.COUNTRY\",\n",
    "                  fill_color=\"RdYlGn\",\n",
    "                  fill_opacity=0.7,\n",
    "                  line_opacity=0.5\n",
    ").add_to(m)\n",
    "\n",
    "folium.LayerControl().add_to(m)\n",
    "m"
   ]
  },
  {
   "cell_type": "code",
   "execution_count": null,
   "id": "b99736d7",
   "metadata": {},
   "outputs": [],
   "source": []
  }
 ],
 "metadata": {
  "kernelspec": {
   "display_name": "pva",
   "language": "python",
   "name": "pva"
  },
  "language_info": {
   "codemirror_mode": {
    "name": "ipython",
    "version": 3
   },
   "file_extension": ".py",
   "mimetype": "text/x-python",
   "name": "python",
   "nbconvert_exporter": "python",
   "pygments_lexer": "ipython3",
   "version": "3.12.3"
  }
 },
 "nbformat": 4,
 "nbformat_minor": 5
}
